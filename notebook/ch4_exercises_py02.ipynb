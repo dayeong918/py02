{
  "nbformat": 4,
  "nbformat_minor": 0,
  "metadata": {
    "colab": {
      "name": "ch4_exercises_py02.ipynb",
      "provenance": [],
      "collapsed_sections": [],
      "include_colab_link": true
    },
    "kernelspec": {
      "name": "python3",
      "display_name": "Python 3"
    }
  },
  "cells": [
    {
      "cell_type": "markdown",
      "metadata": {
        "id": "view-in-github",
        "colab_type": "text"
      },
      "source": [
        "<a href=\"https://colab.research.google.com/github/dayeong918/py02/blob/master/notebook/ch4_exercises_py02.ipynb\" target=\"_parent\"><img src=\"https://colab.research.google.com/assets/colab-badge.svg\" alt=\"Open In Colab\"/></a>"
      ]
    },
    {
      "cell_type": "markdown",
      "metadata": {
        "id": "ovY5jkD5dpxE",
        "colab_type": "text"
      },
      "source": [
        "## ch4_exercises_py02.ipynb"
      ]
    },
    {
      "cell_type": "markdown",
      "metadata": {
        "id": "SZw6UnxQWYBe",
        "colab_type": "text"
      },
      "source": [
        "## Q1.\n",
        "> 주어진 자연수가 홀수인지 짝수인지 판별해 주는 함수(is_odd)를 작성해 보자.\n"
      ]
    },
    {
      "cell_type": "code",
      "metadata": {
        "id": "rUNNaqJPdg7B",
        "colab_type": "code",
        "outputId": "0492d906-fff5-4319-bbbc-baffed36a5ac",
        "colab": {
          "base_uri": "https://localhost:8080/",
          "height": 55
        }
      },
      "source": [
        "# [Q1] Code - 1\n",
        "\n",
        "def is_odd(number): \n",
        "  if (number%2==0): \n",
        "      print(\"자연수 {0}은 짝수입니다.\".format(number))\n",
        "  else:\n",
        "      print(\"자연수 {0}은 홀수입니다.\".format(number))\n",
        "\n",
        "a = int (input('자연수를 입력하세요: '))\n",
        "is_odd(a)"
      ],
      "execution_count": 0,
      "outputs": [
        {
          "output_type": "stream",
          "text": [
            "자연수를 입력하세요: 13\n",
            "자연수 13은 홀수입니다.\n"
          ],
          "name": "stdout"
        }
      ]
    },
    {
      "cell_type": "code",
      "metadata": {
        "id": "TJc4e8_c2yGt",
        "colab_type": "code",
        "outputId": "96170373-f441-4ad0-86b7-26f606f7837e",
        "colab": {
          "base_uri": "https://localhost:8080/",
          "height": 51
        }
      },
      "source": [
        "# [Q1] Code - 2\n",
        "number = int(input('자연수를 입력하세요: '))\n",
        "\n",
        "def divide():\n",
        "  global number\n",
        "  a = number % 2 \n",
        "  return a\n",
        "\n",
        "def is_odd(a):\n",
        "  if(a != 0) :\n",
        "    print(\"자연수{0}은 홀수입니다.\".format(a))\n",
        "  else:\n",
        "    print(\"자연수{0}은 짝수입니다.\".format(a))\n",
        "\n",
        "divide()\n",
        "is_odd(number)"
      ],
      "execution_count": 0,
      "outputs": [
        {
          "output_type": "stream",
          "text": [
            "자연수를 입력하세요: 13\n",
            "자연수13은 홀수입니다.\n"
          ],
          "name": "stdout"
        }
      ]
    },
    {
      "cell_type": "markdown",
      "metadata": {
        "colab_type": "text",
        "id": "re2-XrUYXF1m"
      },
      "source": [
        "## Q2.\n",
        "> 입력으로 들어오는 모든 수의 평균 값을 계산해 주는 함수를 작성해 보자. \n",
        "- (단 입력으로 들어오는 수의 개수는 정해져 있지 않다.)\n",
        "- ※ 평균 값을 구할 때 len 함수를 사용해 보자.\n"
      ]
    },
    {
      "cell_type": "code",
      "metadata": {
        "id": "qF8wo3rPJoOz",
        "colab_type": "code",
        "outputId": "73091e0d-3e42-493f-8580-67d4c0d69786",
        "colab": {
          "base_uri": "https://localhost:8080/",
          "height": 36
        }
      },
      "source": [
        "# [Q2] Code - 1 \n",
        "\n",
        "def args_test(*args):  \n",
        "    sum = 0\n",
        "    for i in args:\n",
        "       sum += i\n",
        "       average = sum / len(args)\n",
        "    return average\n",
        "\n",
        "args_test(1,2,3,4,5,6,7,8,9,10) "
      ],
      "execution_count": 0,
      "outputs": [
        {
          "output_type": "execute_result",
          "data": {
            "text/plain": [
              "5.5"
            ]
          },
          "metadata": {
            "tags": []
          },
          "execution_count": 75
        }
      ]
    },
    {
      "cell_type": "markdown",
      "metadata": {
        "colab_type": "text",
        "id": "UZy8lu_BXGnT"
      },
      "source": [
        "## Q3.\n",
        "> 다음은 두 개의 숫자를 입력받아 더하여 돌려주는 프로그램이다.\n",
        "\n",
        "```\n",
        "input1 = input(\"첫번째 숫자를 입력하세요:\")\n",
        "input2 = input(\"두번째 숫자를 입력하세요:\")\n",
        "\n",
        "total = input1 + input2\n",
        "print(\"두 수의 합은 %s 입니다\" % total)\n",
        "\n",
        "```\n",
        "---\n",
        "> 이 프로그램을 수행해 보자.\n",
        "\n",
        ">> 첫번째 숫자를 입력하세요:3  \n",
        ">> 두번째 숫자를 입력하세요:6\n",
        "- 두 수의 합은 36 입니다\n",
        "- 3과 6을 입력했을 때 9가 아닌 36이라는 결괏값을 돌려주었다.  \n",
        "이 프로그램의 오류를 수정해 보자."
      ]
    },
    {
      "cell_type": "code",
      "metadata": {
        "colab_type": "code",
        "id": "H9T_sXHzXGnW",
        "outputId": "823d499c-8c1f-4900-d591-e523a0e24409",
        "colab": {
          "base_uri": "https://localhost:8080/",
          "height": 73
        }
      },
      "source": [
        "# [Q3] Code\n",
        "input1 = int(input(\"첫번째 숫자를 입력하세요:\"))\n",
        "input2 = int(input(\"두번째 숫자를 입력하세요:\"))\n",
        "\n",
        "# input은 입력 받은 값을 문자열로 처리하기 때문에 숫자를 입력받을 경우 숫자형 Type로 변환해야한다.\n",
        "\n",
        "total = input1 + input2\n",
        "print(\"두 수의 합은 %s 입니다\" % total)"
      ],
      "execution_count": 0,
      "outputs": [
        {
          "output_type": "stream",
          "text": [
            "첫번째 숫자를 입력하세요:3\n",
            "두번째 숫자를 입력하세요:6\n",
            "두 수의 합은 9 입니다\n"
          ],
          "name": "stdout"
        }
      ]
    },
    {
      "cell_type": "markdown",
      "metadata": {
        "colab_type": "text",
        "id": "fqypxxqTXHY7"
      },
      "source": [
        "## Q4.\n",
        "> 다음 중 출력 결과가 다른 것 한 개를 골라 보자.\n",
        "\n",
        "```\n",
        "print(\"you\" \"need\" \"python\")\n",
        "print(\"you\"+\"need\"+\"python\")\n",
        "print(\"you\", \"need\", \"python\")\n",
        "print(\"\".join([\"you\", \"need\", \"python\"]))\n",
        "```"
      ]
    },
    {
      "cell_type": "code",
      "metadata": {
        "colab_type": "code",
        "id": "oQ5UnmayXHY-",
        "outputId": "e2cfbe42-e1e9-46eb-8e26-85cf421c34f3",
        "colab": {
          "base_uri": "https://localhost:8080/",
          "height": 92
        }
      },
      "source": [
        "# [Q4] Code\n",
        "print(\"you\" \"need\" \"python\") \n",
        "print(\"you\"+\"need\"+\"python\") \n",
        "print(\"you\", \"need\", \"python\") # 출력 결과가 다르다.\n",
        "print(\"\".join([\"you\", \"need\", \"python\"]))\n",
        "\n",
        "# 출력결과가 다른 것은 print(\"you\", \"need\", \"python\")이다.\n",
        "# 문자열 띄어쓰기는 콤마(,)로 하기 때문에 출력 값은 you need python이다.\n",
        "\n",
        "# print(\"you\" \"need\" \"python\") 은 print(\"you\"+\"need\"+\"python\") 와 출력값이 동일하다.\n",
        "# 큰따옴표(\"\")로 둘러싸인 문자열은 + 연산과 동일함으로 공백없이 youneedpython이 출력된다.\n",
        "\n",
        "# \"\".join(리스트)는 리스트에서 특정 구분자를 추가하여 문자열로 변환시켜주는 기능을한다.\n",
        "# \"\"의 큰따옴표안에는 null값임으로 공백없이 youneedpython이 출력된다."
      ],
      "execution_count": 0,
      "outputs": [
        {
          "output_type": "stream",
          "text": [
            "youneedpython\n",
            "youneedpython\n",
            "you need python\n",
            "youneedpython\n"
          ],
          "name": "stdout"
        }
      ]
    },
    {
      "cell_type": "markdown",
      "metadata": {
        "colab_type": "text",
        "id": "NKsvciXZXIL-"
      },
      "source": [
        "## Q5.\n",
        "> 다음은 \"test.txt\"라는 파일에 \"Life is too short\" 문자열을 저장한 후 다시 그 파일을 읽어서 출력하는 프로그램이다.\n",
        "\n",
        "```\n",
        "f1 = open(\"test.txt\", 'w')\n",
        "f1.write(\"Life is too short\")\n",
        "\n",
        "f2 = open(\"test.txt\", 'r')\n",
        "print(f2.read())\n",
        "\n",
        "```\n",
        ">> 이 프로그램은 우리가 예상한 \"Life is too short\"라는 문장을 출력하지 않는다.\n",
        "\n",
        ">> 우리가 예상한 값을 출력할 수 있도록 프로그램을 수정해 보자."
      ]
    },
    {
      "cell_type": "code",
      "metadata": {
        "colab_type": "code",
        "id": "5MZQYOVjXIL_",
        "outputId": "22c4f26f-9c3c-4d22-e2c7-e5afd5c67070",
        "colab": {
          "base_uri": "https://localhost:8080/",
          "height": 36
        }
      },
      "source": [
        "# [Q5] Code\n",
        "\n",
        "f1 = open(\"test.txt\", 'w')\n",
        "f1.write(\"Life is too short\")\n",
        "f1.close()\n",
        "\n",
        "f2 = open(\"test.txt\", 'r')\n",
        "print(f2.read())\n",
        "f2.close()\n",
        "\n",
        "# close() 함수를 사용하여 열려있는 파일 객체를 닫아 준다,\n",
        "# 쓰기모드로 열었던 파일을 닫지 않고 사용하면 데이터 손실이나 오류가\n",
        "# 발생할 수 있기 때문이다.\n"
      ],
      "execution_count": 0,
      "outputs": [
        {
          "output_type": "stream",
          "text": [
            "Life is too short\n"
          ],
          "name": "stdout"
        }
      ]
    },
    {
      "cell_type": "markdown",
      "metadata": {
        "colab_type": "text",
        "id": "-3KHtOOoXJBV"
      },
      "source": [
        "## Q6.\n",
        "> 사용자의 입력을 파일(test.txt)에 저장하는 프로그램을 작성해 보자. \n",
        "- (단 프로그램을 다시 실행하더라도 기존에 작성한 내용을 유지하고 새로 입력한 내용을 추가해야 한다.)\n"
      ]
    },
    {
      "cell_type": "code",
      "metadata": {
        "colab_type": "code",
        "id": "AjYR0lUaXJBa",
        "outputId": "53a3f779-1efb-4f2f-cfb6-48cdab29fa63",
        "colab": {
          "base_uri": "https://localhost:8080/",
          "height": 92
        }
      },
      "source": [
        "# [Q6] Code\n",
        "f = open(\"test.txt\",\"a\")\n",
        "f.write(\", You need python\\n\")\n",
        "f.close()\n",
        "\n",
        "f3 = open(\"test.txt\", \"a\") \n",
        "while 1:\n",
        "  data = input()\n",
        "  f3.write(data)\n",
        "  f3.write('\\n')\n",
        "  if not data:\n",
        "    break\n",
        "f3.close()"
      ],
      "execution_count": 0,
      "outputs": [
        {
          "output_type": "stream",
          "text": [
            "1\n",
            "2\n",
            "3\n",
            "\n"
          ],
          "name": "stdout"
        }
      ]
    },
    {
      "cell_type": "code",
      "metadata": {
        "id": "OY-1YwhIDoWq",
        "colab_type": "code",
        "outputId": "2ccc5a74-6a45-482f-ae87-4e02a1156ae6",
        "colab": {
          "base_uri": "https://localhost:8080/",
          "height": 129
        }
      },
      "source": [
        "# 수정된 파일 확인\n",
        "f = open(\"test.txt\", \"r\")\n",
        "data = f.read() # 파일에 담긴 문자열 읽음.\n",
        "print(data)\n",
        "f.close()"
      ],
      "execution_count": 0,
      "outputs": [
        {
          "output_type": "stream",
          "text": [
            "Life is too short, You need python\n",
            "1\n",
            "2\n",
            "3\n",
            "\n",
            "\n"
          ],
          "name": "stdout"
        }
      ]
    },
    {
      "cell_type": "markdown",
      "metadata": {
        "colab_type": "text",
        "id": "YrS3b88QbmKo"
      },
      "source": [
        "## Q7.\n",
        "> 다음과 같은 내용을 지닌 파일 foo1.txt가 있다. 이 파일의 내용 중 \"java\"라는 문자열을 \"python\"으로 바꾸어서 저장해 보자.\n",
        "\n",
        ">> Life is too short  \n",
        ">> you need java\n",
        "\n",
        "- ※ replace 함수를 사용해 보자.\n"
      ]
    },
    {
      "cell_type": "code",
      "metadata": {
        "colab_type": "code",
        "id": "Ll_2InMWbmKq",
        "colab": {}
      },
      "source": [
        "# [Q7] Code-1\n",
        "f4 = open(\"fool1.txt\",\"w\")\n",
        "f4.write(\"Life is too short\\n\")\n",
        "f4.write(\"you need java\")\n",
        "f4.close()\n",
        "\n",
        "f4 = open(\"fool1.txt\",\"r\")\n",
        "content = f4.read()\n",
        "f4.close()\n",
        "\n",
        "content = content.replace(\"java\",\"python\")\n",
        "f4 = open(\"fool1.txt\",\"w\")\n",
        "f4.write(content)\n",
        "f4.close()"
      ],
      "execution_count": 0,
      "outputs": []
    },
    {
      "cell_type": "code",
      "metadata": {
        "id": "IyrbZS5ketYl",
        "colab_type": "code",
        "outputId": "b589efc7-fe73-4372-cc7e-26bb5dd9c781",
        "colab": {
          "base_uri": "https://localhost:8080/",
          "height": 55
        }
      },
      "source": [
        "f4 = open(\"fool1.txt\",\"r\")\n",
        "content = f4.read()\n",
        "print(content)\n",
        "f4.close()"
      ],
      "execution_count": 0,
      "outputs": [
        {
          "output_type": "stream",
          "text": [
            "Life is too short\n",
            "you need python\n"
          ],
          "name": "stdout"
        }
      ]
    },
    {
      "cell_type": "markdown",
      "metadata": {
        "id": "2ljBDShkbqZO",
        "colab_type": "text"
      },
      "source": [
        "## 코딩 연습 결과를 github에 올리기\n",
        "> 완성된 ipython 노트북 파일을 각자의 github에 올리시오.\n",
        "\n",
        "- github 계정 만들기 (계정이 없는 학생)\n",
        "    1. github에 sign up (Google gmail 계정을 이용해서 만드시오.)\n",
        "- github에 노트 올리기\n",
        "    2. github에 각자의 id로 repo를 만드시오. (한번 만들면 계속 재사용)\n",
        "    3. github repo에 연습결과 노트를 올리시오.\n",
        "        - 제출노트: ch4_exercises_id.ipynb\n"
      ]
    },
    {
      "cell_type": "code",
      "metadata": {
        "id": "OnCR-YNCc8B6",
        "colab_type": "code",
        "colab": {}
      },
      "source": [
        ""
      ],
      "execution_count": 0,
      "outputs": []
    }
  ]
}