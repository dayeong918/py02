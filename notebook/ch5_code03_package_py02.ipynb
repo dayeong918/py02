{
  "nbformat": 4,
  "nbformat_minor": 0,
  "metadata": {
    "colab": {
      "name": "ch5_code03_package_py02.ipynb",
      "provenance": [],
      "collapsed_sections": [],
      "toc_visible": true,
      "include_colab_link": true
    },
    "kernelspec": {
      "name": "python3",
      "display_name": "Python 3"
    }
  },
  "cells": [
    {
      "cell_type": "markdown",
      "metadata": {
        "id": "view-in-github",
        "colab_type": "text"
      },
      "source": [
        "<a href=\"https://colab.research.google.com/github/dayeong918/py02/blob/master/notebook/ch5_code03_package_py02.ipynb\" target=\"_parent\"><img src=\"https://colab.research.google.com/assets/colab-badge.svg\" alt=\"Open In Colab\"/></a>"
      ]
    },
    {
      "cell_type": "markdown",
      "metadata": {
        "id": "8tRbFmvV5SSc",
        "colab_type": "text"
      },
      "source": [
        "## 패키지\n",
        "- game package\n",
        "```\n",
        "./game/__init__.py\n",
        "./game/sound/__init__.py\n",
        "./game/sound/echo.py\n",
        "./game/graphic/__init__.py\n",
        "./game/graphic/render.py\n",
        "```"
      ]
    },
    {
      "cell_type": "markdown",
      "metadata": {
        "id": "APZV3iOx3NX3",
        "colab_type": "text"
      },
      "source": [
        "## 패키지 테스트\n",
        "```\n",
        "# echo.py\n",
        "def echo_test():\n",
        "    print(\"echo\")\n",
        "```\n",
        "\n",
        "```\n",
        "# render.py\n",
        "from ..sound.echo import echo_test\n",
        "def render_test():\n",
        "    print (\"render\")\n",
        "    echo_test()\n",
        "```\n",
        "\n",
        "```\n",
        "from game.graphic.render import render_test\n",
        "render_test()\n",
        "```"
      ]
    },
    {
      "cell_type": "code",
      "metadata": {
        "id": "1sdg6ocS3Dmc",
        "colab_type": "code",
        "outputId": "6e735b06-1091-4b1c-9dba-fec35606db74",
        "colab": {
          "base_uri": "https://localhost:8080/",
          "height": 34
        }
      },
      "source": [
        "from game.sound.echo import echo_test\n",
        "echo_test()"
      ],
      "execution_count": 9,
      "outputs": [
        {
          "output_type": "stream",
          "text": [
            "echo\n"
          ],
          "name": "stdout"
        }
      ]
    },
    {
      "cell_type": "code",
      "metadata": {
        "id": "pfzGxRVjj_H8",
        "colab_type": "code",
        "colab": {
          "base_uri": "https://localhost:8080/",
          "height": 34
        },
        "outputId": "305a48b1-0a36-4946-de21-5b436dab74f7"
      },
      "source": [
        "from game.graphic.render import render_test\n",
        "render_test()"
      ],
      "execution_count": 1,
      "outputs": [
        {
          "output_type": "stream",
          "text": [
            "render\n"
          ],
          "name": "stdout"
        }
      ]
    },
    {
      "cell_type": "code",
      "metadata": {
        "id": "oup6ndTX5KAd",
        "colab_type": "code",
        "outputId": "44ed6daa-0f4c-453a-c26a-651c0bee785e",
        "colab": {
          "base_uri": "https://localhost:8080/",
          "height": 34
        }
      },
      "source": [
        "from game.graphic.render import render_test\n",
        "render_test()"
      ],
      "execution_count": 10,
      "outputs": [
        {
          "output_type": "stream",
          "text": [
            "render\n"
          ],
          "name": "stdout"
        }
      ]
    },
    {
      "cell_type": "code",
      "metadata": {
        "id": "NbMtql0c5N7h",
        "colab_type": "code",
        "outputId": "5dab30d1-fcb5-4e90-db60-85aa8473e036",
        "colab": {
          "base_uri": "https://localhost:8080/",
          "height": 34
        }
      },
      "source": [
        "from game.graphic.render import render_test\n",
        "render_test()"
      ],
      "execution_count": 17,
      "outputs": [
        {
          "output_type": "stream",
          "text": [
            "render\n"
          ],
          "name": "stdout"
        }
      ]
    },
    {
      "cell_type": "code",
      "metadata": {
        "id": "aGHl5nhgk4HG",
        "colab_type": "code",
        "colab": {}
      },
      "source": [
        ""
      ],
      "execution_count": 0,
      "outputs": []
    }
  ]
}