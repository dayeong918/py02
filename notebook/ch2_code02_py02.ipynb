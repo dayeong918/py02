{
  "nbformat": 4,
  "nbformat_minor": 0,
  "metadata": {
    "colab": {
      "name": "ch2_code02_py02.ipynb",
      "provenance": [],
      "collapsed_sections": [],
      "include_colab_link": true
    },
    "kernelspec": {
      "display_name": "Python 3",
      "language": "python",
      "name": "python3"
    },
    "language_info": {
      "codemirror_mode": {
        "name": "ipython",
        "version": 3
      },
      "file_extension": ".py",
      "mimetype": "text/x-python",
      "name": "python",
      "nbconvert_exporter": "python",
      "pygments_lexer": "ipython3",
      "version": "3.7.5"
    }
  },
  "cells": [
    {
      "cell_type": "markdown",
      "metadata": {
        "id": "view-in-github",
        "colab_type": "text"
      },
      "source": [
        "<a href=\"https://colab.research.google.com/github/dayeong918/py02/blob/master/notebook/ch2_code02_py02.ipynb\" target=\"_parent\"><img src=\"https://colab.research.google.com/assets/colab-badge.svg\" alt=\"Open In Colab\"/></a>"
      ]
    },
    {
      "cell_type": "markdown",
      "metadata": {
        "colab_type": "text",
        "id": "H4jNE-BMAK3f"
      },
      "source": [
        "# ch2_code02.ipynb\n",
        "## py02  \n",
        "- List\n",
        "- Tuple"
      ]
    },
    {
      "cell_type": "code",
      "metadata": {
        "colab_type": "code",
        "id": "hTRRKc56En6p",
        "colab": {
          "base_uri": "https://localhost:8080/",
          "height": 55
        },
        "outputId": "69583769-0bdb-4357-b86e-9bc70cf419c1"
      },
      "source": [
        "# ch2_04_list.py\n",
        "\n",
        "print(\"리스트: list 란?\")\n",
        "odd = [1, 3, 5, 7, 9] # (), [], {} 동격타이핑 구조 : 미리자료형선언안함\n",
        "odd, type(odd)\n",
        "# 여러 가지 리스트\n",
        "a = []   # list 초기화, null list(빈리스트)\n",
        "a\n",
        "b = [1, 2, 3]\n",
        "b\n",
        "c = ['Life', 'is', 'too', 'short']\n",
        "c\n",
        "d = [1, 2, 'Life', 'is'] # inhomogenous elements (불균일요소)\n",
        "d\n",
        "e = [1, 2, ['Life', 'is']] # nested list\n",
        "print(\"e = \", e,\", d = \",d)"
      ],
      "execution_count": 14,
      "outputs": [
        {
          "output_type": "stream",
          "text": [
            "리스트: list 란?\n",
            "e =  [1, 2, ['Life', 'is']] , d =  [1, 2, 'Life', 'is']\n"
          ],
          "name": "stdout"
        }
      ]
    },
    {
      "cell_type": "code",
      "metadata": {
        "id": "YQfVJPGHH7YD",
        "colab_type": "code",
        "colab": {
          "base_uri": "https://localhost:8080/",
          "height": 36
        },
        "outputId": "21116f4b-94e7-4eb8-f7e2-11d0daccdbdd"
      },
      "source": [
        "# list 초기화 (2가지 방법)\n",
        "# a = [] #1번째방법\n",
        "a = list() #2번째방법\n",
        "a   # []"
      ],
      "execution_count": 16,
      "outputs": [
        {
          "output_type": "execute_result",
          "data": {
            "text/plain": [
              "[]"
            ]
          },
          "metadata": {
            "tags": []
          },
          "execution_count": 16
        }
      ]
    },
    {
      "cell_type": "code",
      "metadata": {
        "id": "i4YXYIXyKv_Z",
        "colab_type": "code",
        "colab": {
          "base_uri": "https://localhost:8080/",
          "height": 36
        },
        "outputId": "dc96a276-d1c0-4c8b-ab5d-83cb794fb9d2"
      },
      "source": [
        "b = list([1,2,3])\n",
        "b"
      ],
      "execution_count": 18,
      "outputs": [
        {
          "output_type": "execute_result",
          "data": {
            "text/plain": [
              "[1, 2, 3]"
            ]
          },
          "metadata": {
            "tags": []
          },
          "execution_count": 18
        }
      ]
    },
    {
      "cell_type": "markdown",
      "metadata": {
        "id": "kNs0ggOCLEu-",
        "colab_type": "text"
      },
      "source": [
        "### 리스트의 인덱싱과 슬리이싱\n"
      ]
    },
    {
      "cell_type": "code",
      "metadata": {
        "id": "BDRGJ08XKdYx",
        "colab_type": "code",
        "colab": {
          "base_uri": "https://localhost:8080/",
          "height": 55
        },
        "outputId": "db0cae0e-6b4f-439a-80e2-e0891a5c6c49"
      },
      "source": [
        "print(\"리스트: 리스트의 인덱싱과 슬라이싱\")\n",
        "a = [1, 2, 3]\n",
        "a\n",
        "a[0]\n",
        "# a[3] #list index out of range\n",
        "a[0]+a[2]\n",
        "a[-1] #맨마지막에서 첫번째 : 3"
      ],
      "execution_count": 23,
      "outputs": [
        {
          "output_type": "stream",
          "text": [
            "리스트: 리스트의 인덱싱과 슬라이싱\n"
          ],
          "name": "stdout"
        },
        {
          "output_type": "execute_result",
          "data": {
            "text/plain": [
              "3"
            ]
          },
          "metadata": {
            "tags": []
          },
          "execution_count": 23
        }
      ]
    },
    {
      "cell_type": "code",
      "metadata": {
        "id": "JWUxugwWLOTH",
        "colab_type": "code",
        "colab": {
          "base_uri": "https://localhost:8080/",
          "height": 36
        },
        "outputId": "29ec1178-a648-4c53-da4e-0fecf56e5352"
      },
      "source": [
        "#\n",
        "a = [1, 2, 3, ['a', 'b', 'c']] # 2차원 구조\n",
        "a[0]\n",
        "a[3]\n",
        "a[-1]\n",
        "# # check this: a[0] + a[-1] -> \n",
        "# a[0] + a[-1] # TypeError unsupported operand type(s) for +: 'int' and 'list'\n",
        "# #Indexing inner list\n",
        "a[-1][0] # 2차원 데이터 구조\n",
        "# 도전!\n",
        "a[-1][-1] #c"
      ],
      "execution_count": 30,
      "outputs": [
        {
          "output_type": "execute_result",
          "data": {
            "text/plain": [
              "'c'"
            ]
          },
          "metadata": {
            "tags": []
          },
          "execution_count": 30
        }
      ]
    },
    {
      "cell_type": "markdown",
      "metadata": {
        "id": "20hyUtVQN-6a",
        "colab_type": "text"
      },
      "source": [
        "## triple list (삼중리스트)"
      ]
    },
    {
      "cell_type": "code",
      "metadata": {
        "id": "i-VmYDp0L47D",
        "colab_type": "code",
        "colab": {
          "base_uri": "https://localhost:8080/",
          "height": 36
        },
        "outputId": "47ee6647-6358-48d3-ce21-6179b929fe89"
      },
      "source": [
        "# Indexing of triple list\n",
        "# 삼중 리스트에서 인덱싱하기\n",
        "a = [1, 2, ['a', 'b', ['Life', 'is', 'good']]] #3차원 구조\n",
        "# a[2]\n",
        "# a[2][-1]\n",
        "a[2][-1][-1]   # 'Life' -> 'good'"
      ],
      "execution_count": 33,
      "outputs": [
        {
          "output_type": "execute_result",
          "data": {
            "text/plain": [
              "'Life'"
            ]
          },
          "metadata": {
            "tags": []
          },
          "execution_count": 33
        }
      ]
    },
    {
      "cell_type": "markdown",
      "metadata": {
        "id": "Noc11FDlO3fz",
        "colab_type": "text"
      },
      "source": [
        "### 리스트의 슬라이싱"
      ]
    },
    {
      "cell_type": "code",
      "metadata": {
        "id": "nUE4J1N7OFEf",
        "colab_type": "code",
        "colab": {
          "base_uri": "https://localhost:8080/",
          "height": 36
        },
        "outputId": "e6d89711-af62-46cd-fbe4-744b0a01c148"
      },
      "source": [
        "#\n",
        "# 리스트의 슬라이싱\n",
        "a1 = [1, 2, 3, 4, 5]\n",
        "a1[0:2] # 인덱스 0부터 2이전까지 (1,2)\n",
        "a2 = \"12345\"\n",
        "a1[0:2], a2[0:2]"
      ],
      "execution_count": 39,
      "outputs": [
        {
          "output_type": "execute_result",
          "data": {
            "text/plain": [
              "([1, 2], '12')"
            ]
          },
          "metadata": {
            "tags": []
          },
          "execution_count": 39
        }
      ]
    },
    {
      "cell_type": "code",
      "metadata": {
        "id": "AEy8LivlO87H",
        "colab_type": "code",
        "colab": {
          "base_uri": "https://localhost:8080/",
          "height": 36
        },
        "outputId": "0cab591d-512e-474f-e6f4-b0fd6aff7f77"
      },
      "source": [
        "#\n",
        "a = [1, 2, 3, 4, 5]\n",
        "a[0:2]\n",
        "a[2:]\n",
        "a[0:4:2]  # a[start:end:step]"
      ],
      "execution_count": 43,
      "outputs": [
        {
          "output_type": "execute_result",
          "data": {
            "text/plain": [
              "[1, 3]"
            ]
          },
          "metadata": {
            "tags": []
          },
          "execution_count": 43
        }
      ]
    },
    {
      "cell_type": "code",
      "metadata": {
        "id": "a2lybYiWP3Ih",
        "colab_type": "code",
        "colab": {}
      },
      "source": [
        "#\n",
        "# 중첩된 리스트에서 슬라이싱하기\n",
        "#\n",
        "a = [1, 2, 3, ['a', 'b', 'c'], 4, 5]\n",
        "a[2:5]\n",
        "a[3][:2]\n",
        "#\n",
        "#\n",
        "#\n",
        "# 리스트: 인덱싱, 슬라이싱 연습\n",
        "#\n",
        "x = [1, 2, 3, 4, 5, 6, 7, 8, 9]\n",
        "x[0:3]\n",
        "x[3:]\n",
        "x[:6]\n",
        "x[0:6:2]  # x[:6:2]\n",
        "x[-1]\n",
        "x[-3]\n",
        "x[:-3]\n",
        "x[::-1]\n",
        "x[-3::-1]\n",
        "#\n",
        "###################################\n",
        "print(\"리스트: 리스트 연산하기\")\n",
        "###################################\n",
        "#\n",
        "# 리스트 더하기(+)\n",
        "#\n",
        "a = [1, 2, 3]\n",
        "b = [4, 5, 6]\n",
        "a + b\n",
        "#\n",
        "# 리스트 반복하기(*)\n",
        "#\n",
        "a * 3"
      ],
      "execution_count": 0,
      "outputs": []
    },
    {
      "cell_type": "code",
      "metadata": {
        "id": "fG-rr4FRUrCM",
        "colab_type": "code",
        "colab": {
          "base_uri": "https://localhost:8080/",
          "height": 36
        },
        "outputId": "6c8a9757-d028-4927-d7e1-376f232a37df"
      },
      "source": [
        "#\n",
        "# 리스트 길이구하기\n",
        "#\n",
        "len(a), len(a*3)"
      ],
      "execution_count": 44,
      "outputs": [
        {
          "output_type": "execute_result",
          "data": {
            "text/plain": [
              "(5, 15)"
            ]
          },
          "metadata": {
            "tags": []
          },
          "execution_count": 44
        }
      ]
    },
    {
      "cell_type": "code",
      "metadata": {
        "id": "x2PVP-BWUv9H",
        "colab_type": "code",
        "colab": {
          "base_uri": "https://localhost:8080/",
          "height": 36
        },
        "outputId": "47027bd2-61d5-4d66-872d-16293d3fb57f"
      },
      "source": [
        "#\n",
        "# 초보자가 범하기 쉬운 리스트 연산 오류\n",
        "#\n",
        "a = [1, 2, 3]\n",
        "# a[2] + \"hi\" # TypeError: unsupported operand type(s) for +: 'int' and 'str'\n",
        "str(a[2]) + \"hi\" "
      ],
      "execution_count": 46,
      "outputs": [
        {
          "output_type": "execute_result",
          "data": {
            "text/plain": [
              "'3hi'"
            ]
          },
          "metadata": {
            "tags": []
          },
          "execution_count": 46
        }
      ]
    },
    {
      "cell_type": "markdown",
      "metadata": {
        "id": "wuewaVi5VJA_",
        "colab_type": "text"
      },
      "source": [
        "### 리스트의 수정과 삭제"
      ]
    },
    {
      "cell_type": "code",
      "metadata": {
        "id": "d8G80dIiU4Ts",
        "colab_type": "code",
        "colab": {
          "base_uri": "https://localhost:8080/",
          "height": 36
        },
        "outputId": "7ad66ca6-956d-4133-ef70-12d25414ba1a"
      },
      "source": [
        "#\n",
        "# 리스트의 수정과 삭제\n",
        "#\n",
        "a = [1, 2, 3]\n",
        "a[2] = 4  # list is mutable!!!(변할수있다.)\n",
        "a"
      ],
      "execution_count": 47,
      "outputs": [
        {
          "output_type": "execute_result",
          "data": {
            "text/plain": [
              "[1, 2, 4]"
            ]
          },
          "metadata": {
            "tags": []
          },
          "execution_count": 47
        }
      ]
    },
    {
      "cell_type": "code",
      "metadata": {
        "id": "uexuYOoAVMQP",
        "colab_type": "code",
        "colab": {
          "base_uri": "https://localhost:8080/",
          "height": 36
        },
        "outputId": "932ef2c3-a350-49b5-9a09-6cab52e9c663"
      },
      "source": [
        "#\n",
        "# del 함수 사용해 리스트 요소(항목) 삭제하기\n",
        "# (인덱싱/슬라이싱)\n",
        "a = [1, 2, 3]\n",
        "del a[1] # 인덱싱을 이용한 삭제\n",
        "a\n",
        "a = [1, 2, 3, 4, 5]\n",
        "del a[2:] #슬라이싱을 이용한 삭제\n",
        "a"
      ],
      "execution_count": 52,
      "outputs": [
        {
          "output_type": "execute_result",
          "data": {
            "text/plain": [
              "[1, 2]"
            ]
          },
          "metadata": {
            "tags": []
          },
          "execution_count": 52
        }
      ]
    },
    {
      "cell_type": "markdown",
      "metadata": {
        "id": "KSe3UifGWKEE",
        "colab_type": "text"
      },
      "source": [
        "## 리스트 관련 함수들"
      ]
    },
    {
      "cell_type": "code",
      "metadata": {
        "colab_type": "code",
        "id": "dRkzQjiyEnq7",
        "colab": {
          "base_uri": "https://localhost:8080/",
          "height": 55
        },
        "outputId": "4d0827a3-3463-43fc-854b-2dbddb599307"
      },
      "source": [
        "# ch2_05_list_functions.py\n",
        "\n",
        "print(\"리스트: 내부 함수 이용\")\n",
        "#\n",
        "# 리스트에 요소 추가(append)\n",
        "#\n",
        "a = [1, 2, 3]\n",
        "a.append(4) \n",
        "a\n",
        "# 리스트 안에는 어떤 자료형도 추가할 수 있다.\n",
        "# 리스트에 다시 리스트를 추가한 결과\n",
        "a.append([5, 6]) # 정말중요 \n",
        "a"
      ],
      "execution_count": 54,
      "outputs": [
        {
          "output_type": "stream",
          "text": [
            "리스트: 내부 함수 이용\n"
          ],
          "name": "stdout"
        },
        {
          "output_type": "execute_result",
          "data": {
            "text/plain": [
              "[1, 2, 3, 4, [5, 6]]"
            ]
          },
          "metadata": {
            "tags": []
          },
          "execution_count": 54
        }
      ]
    },
    {
      "cell_type": "code",
      "metadata": {
        "id": "VnXodsDyWOsN",
        "colab_type": "code",
        "colab": {
          "base_uri": "https://localhost:8080/",
          "height": 36
        },
        "outputId": "8e45d595-c64f-47de-d1d8-df02576cfbdd"
      },
      "source": [
        "#\n",
        "# 리스트 정렬(sort)\n",
        "#\n",
        "a = [1, 4, 3, 2]\n",
        "a.sort()\n",
        "a\n",
        "\n",
        "s = [\"a\", \"c\", \"b\"]\n",
        "s.sort()\n",
        "s"
      ],
      "execution_count": 56,
      "outputs": [
        {
          "output_type": "execute_result",
          "data": {
            "text/plain": [
              "['a', 'b', 'c']"
            ]
          },
          "metadata": {
            "tags": []
          },
          "execution_count": 56
        }
      ]
    },
    {
      "cell_type": "code",
      "metadata": {
        "id": "fihsMMzMWt_W",
        "colab_type": "code",
        "colab": {
          "base_uri": "https://localhost:8080/",
          "height": 36
        },
        "outputId": "621b764b-db9a-4c4a-ffa6-e5fa0194ce15"
      },
      "source": [
        "#\n",
        "# 리스트 뒤집기(reverse)\n",
        "#\n",
        "a = [\"a\", \"c\", \"b\"]\n",
        "a.reverse()\n",
        "a, a[::-1]"
      ],
      "execution_count": 63,
      "outputs": [
        {
          "output_type": "execute_result",
          "data": {
            "text/plain": [
              "(['b', 'c', 'a'], ['a', 'c', 'b'])"
            ]
          },
          "metadata": {
            "tags": []
          },
          "execution_count": 63
        }
      ]
    },
    {
      "cell_type": "code",
      "metadata": {
        "id": "co7e-X5xXFH5",
        "colab_type": "code",
        "colab": {
          "base_uri": "https://localhost:8080/",
          "height": 36
        },
        "outputId": "e63887b1-4c0d-4709-ec45-7ee7bfcc876e"
      },
      "source": [
        "#\n",
        "# 위치 반환(index)\n",
        "#    0  1  2\n",
        "a = [1, 2, 3]\n",
        "a.index(3) #3이라는 값의 인덱스는 2이다.\n",
        "a.index(1)\n",
        "# a.index(0) #0 is not in list\n",
        "\n",
        "s = [\"a\", \"c\", \"b\"]\n",
        "# s.index(3)  # ValueError: Error 3 is not in list\n",
        "# s.index(a)  # Error ValueError: [1, 2, 3] is not in list index(변수a:리스트)\n",
        "s.index(\"a\"), s.index(\"b\")"
      ],
      "execution_count": 73,
      "outputs": [
        {
          "output_type": "execute_result",
          "data": {
            "text/plain": [
              "(0, 2)"
            ]
          },
          "metadata": {
            "tags": []
          },
          "execution_count": 73
        }
      ]
    },
    {
      "cell_type": "code",
      "metadata": {
        "id": "glXzrHCtXvx_",
        "colab_type": "code",
        "colab": {
          "base_uri": "https://localhost:8080/",
          "height": 36
        },
        "outputId": "c2bdd4c9-46e4-4a1b-e193-727f94b99581"
      },
      "source": [
        "# <다시보기>\n",
        "# 리스트에 요소 삽입(insert)\n",
        "#\n",
        "a = [1, 2, 3]\n",
        "a.insert(0, 4)\n",
        "a\n",
        "a.insert(3, 5)\n",
        "a"
      ],
      "execution_count": 75,
      "outputs": [
        {
          "output_type": "execute_result",
          "data": {
            "text/plain": [
              "[4, 1, 2, 5, 3]"
            ]
          },
          "metadata": {
            "tags": []
          },
          "execution_count": 75
        }
      ]
    },
    {
      "cell_type": "code",
      "metadata": {
        "id": "Rep6EvPnZLYj",
        "colab_type": "code",
        "colab": {}
      },
      "source": [
        "#\n",
        "# 리스트 요소 제거(remove)\n",
        "#\n",
        "a = [1, 2, 3, 1, 2, 3] # 중복 값을 허용하는 데이터 구조:list\n",
        "a.remove(3)\n",
        "a\n",
        "# 3을 리스트 a에서 완전히 제거\n",
        "a.remove(3)\n",
        "# a\n",
        "# a.remove(3)  # ValueError"
      ],
      "execution_count": 0,
      "outputs": []
    },
    {
      "cell_type": "code",
      "metadata": {
        "id": "dHVJfoTAZ80_",
        "colab_type": "code",
        "colab": {
          "base_uri": "https://localhost:8080/",
          "height": 36
        },
        "outputId": "f9c5bc61-2b53-4856-def4-ed885a184ff0"
      },
      "source": [
        "a"
      ],
      "execution_count": 78,
      "outputs": [
        {
          "output_type": "execute_result",
          "data": {
            "text/plain": [
              "[1, 2, 1, 2]"
            ]
          },
          "metadata": {
            "tags": []
          },
          "execution_count": 78
        }
      ]
    },
    {
      "cell_type": "code",
      "metadata": {
        "id": "K0jqK_VHaElp",
        "colab_type": "code",
        "colab": {
          "base_uri": "https://localhost:8080/",
          "height": 176
        },
        "outputId": "89dbb6c7-cafd-4b62-f48b-83d381180452"
      },
      "source": [
        "a.remove(3) #ValueError: list.remove(x): x not in list"
      ],
      "execution_count": 79,
      "outputs": [
        {
          "output_type": "error",
          "ename": "ValueError",
          "evalue": "ignored",
          "traceback": [
            "\u001b[0;31m---------------------------------------------------------------------------\u001b[0m",
            "\u001b[0;31mValueError\u001b[0m                                Traceback (most recent call last)",
            "\u001b[0;32m<ipython-input-79-fe741f3ae678>\u001b[0m in \u001b[0;36m<module>\u001b[0;34m()\u001b[0m\n\u001b[0;32m----> 1\u001b[0;31m \u001b[0ma\u001b[0m\u001b[0;34m.\u001b[0m\u001b[0mremove\u001b[0m\u001b[0;34m(\u001b[0m\u001b[0;36m3\u001b[0m\u001b[0;34m)\u001b[0m\u001b[0;34m\u001b[0m\u001b[0;34m\u001b[0m\u001b[0m\n\u001b[0m",
            "\u001b[0;31mValueError\u001b[0m: list.remove(x): x not in list"
          ]
        }
      ]
    },
    {
      "cell_type": "code",
      "metadata": {
        "id": "Caaoi0xDaTm2",
        "colab_type": "code",
        "colab": {
          "base_uri": "https://localhost:8080/",
          "height": 36
        },
        "outputId": "4c00309d-91c5-482e-8459-f0fdf8b75d00"
      },
      "source": [
        "#\n",
        "# 리스트 요소 끄집어내기(pop)\n",
        "#\n",
        "#\n",
        "# 리스트의 수정과 삭제\n",
        "#\n",
        "a = [1, 2, 3]\n",
        "# pop()은 리스트의 맨 마지막 요소를 돌려주고 그 요소는 삭제한다.\n",
        "a.pop()\n",
        "a"
      ],
      "execution_count": 81,
      "outputs": [
        {
          "output_type": "execute_result",
          "data": {
            "text/plain": [
              "[1, 2]"
            ]
          },
          "metadata": {
            "tags": []
          },
          "execution_count": 81
        }
      ]
    },
    {
      "cell_type": "code",
      "metadata": {
        "id": "SMJSmC5XaoZ7",
        "colab_type": "code",
        "colab": {
          "base_uri": "https://localhost:8080/",
          "height": 213
        },
        "outputId": "98e99e0a-7897-4dc7-e87f-b11d173b5ffb"
      },
      "source": [
        "#\n",
        "a = [1, 2, 3]\n",
        "# pop(x)는 리스트의 index가 x인 요소를 돌려주고 그 요소는 삭제한다.\n",
        "r = a.pop(1)\n",
        "r,a\n",
        "a.pop(2)  # IndexError -> pop index out of range"
      ],
      "execution_count": 83,
      "outputs": [
        {
          "output_type": "error",
          "ename": "IndexError",
          "evalue": "ignored",
          "traceback": [
            "\u001b[0;31m---------------------------------------------------------------------------\u001b[0m",
            "\u001b[0;31mIndexError\u001b[0m                                Traceback (most recent call last)",
            "\u001b[0;32m<ipython-input-83-e7ceca091ce4>\u001b[0m in \u001b[0;36m<module>\u001b[0;34m()\u001b[0m\n\u001b[1;32m      3\u001b[0m \u001b[0mr\u001b[0m \u001b[0;34m=\u001b[0m \u001b[0ma\u001b[0m\u001b[0;34m.\u001b[0m\u001b[0mpop\u001b[0m\u001b[0;34m(\u001b[0m\u001b[0;36m1\u001b[0m\u001b[0;34m)\u001b[0m\u001b[0;34m\u001b[0m\u001b[0;34m\u001b[0m\u001b[0m\n\u001b[1;32m      4\u001b[0m \u001b[0mr\u001b[0m\u001b[0;34m,\u001b[0m\u001b[0ma\u001b[0m\u001b[0;34m\u001b[0m\u001b[0;34m\u001b[0m\u001b[0m\n\u001b[0;32m----> 5\u001b[0;31m \u001b[0ma\u001b[0m\u001b[0;34m.\u001b[0m\u001b[0mpop\u001b[0m\u001b[0;34m(\u001b[0m\u001b[0;36m2\u001b[0m\u001b[0;34m)\u001b[0m  \u001b[0;31m# IndexError\u001b[0m\u001b[0;34m\u001b[0m\u001b[0;34m\u001b[0m\u001b[0m\n\u001b[0m",
            "\u001b[0;31mIndexError\u001b[0m: pop index out of range"
          ]
        }
      ]
    },
    {
      "cell_type": "code",
      "metadata": {
        "id": "EoYe94KJa3By",
        "colab_type": "code",
        "colab": {
          "base_uri": "https://localhost:8080/",
          "height": 36
        },
        "outputId": "7f0c8357-0481-465a-88d2-7a4cdf7c6db7"
      },
      "source": [
        "#\n",
        "# 리스트에 포함된 요소 x의 개수 세기(count)\n",
        "#\n",
        "a = [1, 2, 3, 1]\n",
        "a.count(1)"
      ],
      "execution_count": 84,
      "outputs": [
        {
          "output_type": "execute_result",
          "data": {
            "text/plain": [
              "2"
            ]
          },
          "metadata": {
            "tags": []
          },
          "execution_count": 84
        }
      ]
    },
    {
      "cell_type": "code",
      "metadata": {
        "id": "1lVrDv-pbfJ2",
        "colab_type": "code",
        "colab": {
          "base_uri": "https://localhost:8080/",
          "height": 36
        },
        "outputId": "8be8c8a8-da00-4390-e0ad-2bb4bd752551"
      },
      "source": [
        "#\n",
        "# 리스트 확장(extend)\n",
        "#\n",
        "a = [1, 2, 3]\n",
        "a.extend([4, 5])\n",
        "a  # a.extend([4, 5])는 a += [4, 5]와 동일\n",
        "\n",
        "b = [6, 7]\n",
        "a.extend(b)\n",
        "a\n"
      ],
      "execution_count": 86,
      "outputs": [
        {
          "output_type": "execute_result",
          "data": {
            "text/plain": [
              "[1, 2, 3, 4, 5, 6, 7]"
            ]
          },
          "metadata": {
            "tags": []
          },
          "execution_count": 86
        }
      ]
    },
    {
      "cell_type": "markdown",
      "metadata": {
        "id": "TR5DASvdb-uY",
        "colab_type": "text"
      },
      "source": [
        "## 튜플 (tuple)"
      ]
    },
    {
      "cell_type": "code",
      "metadata": {
        "id": "cRB7Ig0AGy9x",
        "colab_type": "code",
        "colab": {
          "base_uri": "https://localhost:8080/",
          "height": 55
        },
        "outputId": "21c99ae7-4046-45eb-f04a-dc53760e633d"
      },
      "source": [
        "# ch2_06_tuple.py\n",
        "\n",
        "print(\"튜플: tuple 이란?\")\n",
        "# 리스트는 [ ]으로 둘러싸지만 튜플은 ( )으로 둘러싼다. inmutable\n",
        "# * 리스트는 그 값의 생성, 삭제, 수정이 가능하지만 튜플은 그 값을 바꿀 수 없다.\n",
        "\n",
        "even = (2, 4, 6, 8)\n",
        "even"
      ],
      "execution_count": 88,
      "outputs": [
        {
          "output_type": "stream",
          "text": [
            "튜플: tuple 이란?\n"
          ],
          "name": "stdout"
        },
        {
          "output_type": "execute_result",
          "data": {
            "text/plain": [
              "(2, 4, 6, 8)"
            ]
          },
          "metadata": {
            "tags": []
          },
          "execution_count": 88
        }
      ]
    },
    {
      "cell_type": "code",
      "metadata": {
        "id": "mr6-ufMWcSP2",
        "colab_type": "code",
        "colab": {}
      },
      "source": [
        "# 여러 가지 튜플\n",
        "t1 = ()  # 튜플 초기화 t1 = tuple()\n",
        "t2 = (1,) \n",
        "t3 = (1, 2, 3)\n",
        "t4 = 1, 2, 3\n",
        "t5 = (\"a\", \"b\", (\"ab\", \"cd\"))\n",
        "# t2 = (1,)처럼 단지 1개의 요소만을 가질 때는 요소 뒤에\n",
        "# 콤마(,)를 반드시 붙여야 한다는 것과\n",
        "# t4 = 1, 2, 3처럼 괄호( )를 생략해도 무방하다."
      ],
      "execution_count": 0,
      "outputs": []
    },
    {
      "cell_type": "code",
      "metadata": {
        "id": "-J-F_PRzc5Pb",
        "colab_type": "code",
        "colab": {
          "base_uri": "https://localhost:8080/",
          "height": 36
        },
        "outputId": "124d51d4-3777-46e6-af0e-8b3638d52a2a"
      },
      "source": [
        "t2n = (1) # t2 = (1,)\n",
        "t2, t2n"
      ],
      "execution_count": 94,
      "outputs": [
        {
          "output_type": "execute_result",
          "data": {
            "text/plain": [
              "((1,), 1)"
            ]
          },
          "metadata": {
            "tags": []
          },
          "execution_count": 94
        }
      ]
    },
    {
      "cell_type": "code",
      "metadata": {
        "id": "NZFc9Qu0dZbf",
        "colab_type": "code",
        "colab": {
          "base_uri": "https://localhost:8080/",
          "height": 36
        },
        "outputId": "8cb21611-b566-471c-dce5-b16355dcd571"
      },
      "source": [
        "type(t2), type(t2n)"
      ],
      "execution_count": 96,
      "outputs": [
        {
          "output_type": "execute_result",
          "data": {
            "text/plain": [
              "(tuple, int)"
            ]
          },
          "metadata": {
            "tags": []
          },
          "execution_count": 96
        }
      ]
    },
    {
      "cell_type": "markdown",
      "metadata": {
        "id": "VO7Aj8afdqXE",
        "colab_type": "text"
      },
      "source": [
        "### 여기까지"
      ]
    },
    {
      "cell_type": "code",
      "metadata": {
        "id": "wA92-rCgccoV",
        "colab_type": "code",
        "colab": {}
      },
      "source": [
        "\n",
        "#####################################################\n",
        "#\n",
        "# 튜플의 요소값을 지우거나 변경하려고 하면 어떻게 될까?\n",
        "#\n",
        "# 1. 튜플 요솟값을 삭제하려 할 때\n",
        "t1 = (1, 2, \"a\", \"b\")\n",
        "del t1[0]  # Error\n",
        "#\n",
        "# 2. 튜플 요솟값을 변경하려 할 때\n",
        "#\n",
        "t1[0] = \"c\"  # TypeError\n",
        "#\n",
        "#\n",
        "print(\"튜플: 사용방법\")\n",
        "#\n",
        "# 인덱싱하기\n",
        "#\n",
        "t1 = (1, 2, \"a\", \"b\")\n",
        "t1[0]\n",
        "t1[3]\n",
        "#\n",
        "# 슬라이싱하기\n",
        "#\n",
        "t1 = (1, 2, \"a\", \"b\")\n",
        "t1[1:]\n",
        "t1[2:-1]  # ('a',)\n",
        "t1[2:]\n",
        "#\n",
        "# 튜플 더하기\n",
        "#\n",
        "t1 = (1, 2, \"a\", \"b\")\n",
        "t2 = (3, 4)\n",
        "t1 + t2\n",
        "#\n",
        "# 튜플 곱하기\n",
        "#\n",
        "t2 = (3, 4)\n",
        "id(t2)\n",
        "t2 * 3\n",
        "id(t2)\n",
        "t2 = t2 * 3\n",
        "id(t2)\n",
        "#\n",
        "# 튜플 길이 구하기\n",
        "#\n",
        "t1 = (1, 2, \"a\", \"b\")\n",
        "len(t1)"
      ],
      "execution_count": 0,
      "outputs": []
    },
    {
      "cell_type": "code",
      "metadata": {
        "id": "7KS8qTtuGy-A",
        "colab_type": "code",
        "colab": {}
      },
      "source": [
        ""
      ],
      "execution_count": 0,
      "outputs": []
    }
  ]
}