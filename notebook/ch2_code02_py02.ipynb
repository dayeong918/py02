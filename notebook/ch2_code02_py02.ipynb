{
  "nbformat": 4,
  "nbformat_minor": 0,
  "metadata": {
    "colab": {
      "name": "ch2_code02_py02.ipynb",
      "provenance": [],
      "collapsed_sections": [],
      "include_colab_link": true
    },
    "kernelspec": {
      "display_name": "Python 3",
      "language": "python",
      "name": "python3"
    },
    "language_info": {
      "codemirror_mode": {
        "name": "ipython",
        "version": 3
      },
      "file_extension": ".py",
      "mimetype": "text/x-python",
      "name": "python",
      "nbconvert_exporter": "python",
      "pygments_lexer": "ipython3",
      "version": "3.7.5"
    }
  },
  "cells": [
    {
      "cell_type": "markdown",
      "metadata": {
        "id": "view-in-github",
        "colab_type": "text"
      },
      "source": [
        "<a href=\"https://colab.research.google.com/github/dayeong918/py02/blob/master/notebook/ch2_code02_py02.ipynb\" target=\"_parent\"><img src=\"https://colab.research.google.com/assets/colab-badge.svg\" alt=\"Open In Colab\"/></a>"
      ]
    },
    {
      "cell_type": "markdown",
      "metadata": {
        "colab_type": "text",
        "id": "H4jNE-BMAK3f"
      },
      "source": [
        "# ch2_code02.ipynb\n",
        "## py02  \n",
        "- List\n",
        "- Tuple"
      ]
    },
    {
      "cell_type": "code",
      "metadata": {
        "colab_type": "code",
        "id": "hTRRKc56En6p",
        "outputId": "6d73d68c-cddc-46bf-f63c-87b466e30e86",
        "colab": {
          "base_uri": "https://localhost:8080/",
          "height": 55
        }
      },
      "source": [
        "# ch2_04_list.py\n",
        "\n",
        "print(\"리스트: list 란?\")\n",
        "odd = [1, 3, 5, 7, 9] # (), [], {} 동격타이핑 구조 : 미리자료형선언안함\n",
        "odd, type(odd)\n",
        "# 여러 가지 리스트\n",
        "a = []   # list 초기화, null list(빈리스트)\n",
        "a\n",
        "b = [1, 2, 3]\n",
        "b\n",
        "c = ['Life', 'is', 'too', 'short']\n",
        "c\n",
        "d = [1, 2, 'Life', 'is'] # inhomogenous elements (불균일요소)\n",
        "d\n",
        "e = [1, 2, ['Life', 'is']] # nested list\n",
        "print(\"e = \", e,\", d = \",d)"
      ],
      "execution_count": 1,
      "outputs": [
        {
          "output_type": "stream",
          "text": [
            "리스트: list 란?\n",
            "e =  [1, 2, ['Life', 'is']] , d =  [1, 2, 'Life', 'is']\n"
          ],
          "name": "stdout"
        }
      ]
    },
    {
      "cell_type": "code",
      "metadata": {
        "id": "YQfVJPGHH7YD",
        "colab_type": "code",
        "outputId": "9f2fef2e-2e9e-4f53-ac5a-f312f8aea74d",
        "colab": {
          "base_uri": "https://localhost:8080/",
          "height": 36
        }
      },
      "source": [
        "# list 초기화 (2가지 방법)\n",
        "# a = [] #1번째방법\n",
        "a = list() #2번째방법\n",
        "a   # []"
      ],
      "execution_count": 2,
      "outputs": [
        {
          "output_type": "execute_result",
          "data": {
            "text/plain": [
              "[]"
            ]
          },
          "metadata": {
            "tags": []
          },
          "execution_count": 2
        }
      ]
    },
    {
      "cell_type": "code",
      "metadata": {
        "id": "i4YXYIXyKv_Z",
        "colab_type": "code",
        "outputId": "1f166b8b-08d6-40ae-e8c6-1793a9f3eb44",
        "colab": {
          "base_uri": "https://localhost:8080/",
          "height": 36
        }
      },
      "source": [
        "b = list([1,2,3])\n",
        "b"
      ],
      "execution_count": 3,
      "outputs": [
        {
          "output_type": "execute_result",
          "data": {
            "text/plain": [
              "[1, 2, 3]"
            ]
          },
          "metadata": {
            "tags": []
          },
          "execution_count": 3
        }
      ]
    },
    {
      "cell_type": "markdown",
      "metadata": {
        "id": "kNs0ggOCLEu-",
        "colab_type": "text"
      },
      "source": [
        "### 리스트의 인덱싱과 슬리이싱\n"
      ]
    },
    {
      "cell_type": "code",
      "metadata": {
        "id": "BDRGJ08XKdYx",
        "colab_type": "code",
        "outputId": "eb20058d-4236-41fe-d295-67db1efc36b0",
        "colab": {
          "base_uri": "https://localhost:8080/",
          "height": 55
        }
      },
      "source": [
        "print(\"리스트: 리스트의 인덱싱과 슬라이싱\")\n",
        "a = [1, 2, 3]\n",
        "a\n",
        "a[0]\n",
        "# a[3] #list index out of range\n",
        "a[0]+a[2]\n",
        "a[-1] #맨마지막에서 첫번째 : 3"
      ],
      "execution_count": 4,
      "outputs": [
        {
          "output_type": "stream",
          "text": [
            "리스트: 리스트의 인덱싱과 슬라이싱\n"
          ],
          "name": "stdout"
        },
        {
          "output_type": "execute_result",
          "data": {
            "text/plain": [
              "3"
            ]
          },
          "metadata": {
            "tags": []
          },
          "execution_count": 4
        }
      ]
    },
    {
      "cell_type": "code",
      "metadata": {
        "id": "JWUxugwWLOTH",
        "colab_type": "code",
        "outputId": "50c20fcb-8004-48bd-e0c9-7b7f8d537342",
        "colab": {
          "base_uri": "https://localhost:8080/",
          "height": 36
        }
      },
      "source": [
        "#\n",
        "a = [1, 2, 3, ['a', 'b', 'c']] # 2차원 구조\n",
        "a[0]\n",
        "a[3]\n",
        "a[-1]\n",
        "# # check this: a[0] + a[-1] -> TypeError\n",
        "# a[0] + a[-1] # TypeError unsupported operand type(s) for +: 'int' and 'list'\n",
        "# #Indexing inner list\n",
        "a[-1][0] # 2차원 데이터 구조"
      ],
      "execution_count": 5,
      "outputs": [
        {
          "output_type": "execute_result",
          "data": {
            "text/plain": [
              "'a'"
            ]
          },
          "metadata": {
            "tags": []
          },
          "execution_count": 5
        }
      ]
    },
    {
      "cell_type": "code",
      "metadata": {
        "id": "pNc0VpS5HBiT",
        "colab_type": "code",
        "colab": {
          "base_uri": "https://localhost:8080/",
          "height": 36
        },
        "outputId": "ee482055-2838-4ced-9a08-db104d1b7ce0"
      },
      "source": [
        "# 도전!\n",
        "a[-1][-1] #c"
      ],
      "execution_count": 6,
      "outputs": [
        {
          "output_type": "execute_result",
          "data": {
            "text/plain": [
              "'c'"
            ]
          },
          "metadata": {
            "tags": []
          },
          "execution_count": 6
        }
      ]
    },
    {
      "cell_type": "markdown",
      "metadata": {
        "id": "20hyUtVQN-6a",
        "colab_type": "text"
      },
      "source": [
        "## triple list (삼중리스트)"
      ]
    },
    {
      "cell_type": "code",
      "metadata": {
        "id": "i-VmYDp0L47D",
        "colab_type": "code",
        "outputId": "ac9e06ed-2c20-4f83-937b-4af99d12e66b",
        "colab": {
          "base_uri": "https://localhost:8080/",
          "height": 36
        }
      },
      "source": [
        "# Indexing of triple list\n",
        "# 삼중 리스트에서 인덱싱하기\n",
        "a = [1, 2, ['a', 'b', ['Life', 'is', 'good']]] #3차원 구조\n",
        "#a[2] # =a[-1]\n",
        "#a[2][-1]\n",
        "a[2][-1][-1]   # 'Life' -> 'good'"
      ],
      "execution_count": 15,
      "outputs": [
        {
          "output_type": "execute_result",
          "data": {
            "text/plain": [
              "'good'"
            ]
          },
          "metadata": {
            "tags": []
          },
          "execution_count": 15
        }
      ]
    },
    {
      "cell_type": "markdown",
      "metadata": {
        "id": "Noc11FDlO3fz",
        "colab_type": "text"
      },
      "source": [
        "### 리스트의 슬라이싱"
      ]
    },
    {
      "cell_type": "code",
      "metadata": {
        "id": "nUE4J1N7OFEf",
        "colab_type": "code",
        "outputId": "8543de6c-197b-4747-c40f-c91f3f3532a5",
        "colab": {
          "base_uri": "https://localhost:8080/",
          "height": 36
        }
      },
      "source": [
        "#\n",
        "# 리스트의 슬라이싱\n",
        "a1 = [1, 2, 3, 4, 5]\n",
        "a1[0:2] # 인덱스 0부터 2이전까지 (1,2)\n",
        "a2 = \"12345\"\n",
        "a1[0:2], a2[0:2]"
      ],
      "execution_count": 16,
      "outputs": [
        {
          "output_type": "execute_result",
          "data": {
            "text/plain": [
              "([1, 2], '12')"
            ]
          },
          "metadata": {
            "tags": []
          },
          "execution_count": 16
        }
      ]
    },
    {
      "cell_type": "code",
      "metadata": {
        "id": "AEy8LivlO87H",
        "colab_type": "code",
        "outputId": "8f3ce872-3d3f-4cff-df13-a06f9fe57584",
        "colab": {
          "base_uri": "https://localhost:8080/",
          "height": 36
        }
      },
      "source": [
        "#\n",
        "a = [1, 2, 3, 4, 5]\n",
        "a[0:2]\n",
        "a[2:]\n",
        "a[0:4:2]  # a[start:end:step]"
      ],
      "execution_count": 17,
      "outputs": [
        {
          "output_type": "execute_result",
          "data": {
            "text/plain": [
              "[1, 3]"
            ]
          },
          "metadata": {
            "tags": []
          },
          "execution_count": 17
        }
      ]
    },
    {
      "cell_type": "code",
      "metadata": {
        "id": "a2lybYiWP3Ih",
        "colab_type": "code",
        "colab": {
          "base_uri": "https://localhost:8080/",
          "height": 36
        },
        "outputId": "c975f15e-09b6-4d9d-b057-f8030e5577af"
      },
      "source": [
        "#\n",
        "# 중첩된 리스트에서 슬라이싱하기\n",
        "#\n",
        "a = [1, 2, 3, ['a', 'b', 'c'], 4, 5]\n",
        "a[2:5]\n",
        "a[3][:2]"
      ],
      "execution_count": 18,
      "outputs": [
        {
          "output_type": "execute_result",
          "data": {
            "text/plain": [
              "['a', 'b']"
            ]
          },
          "metadata": {
            "tags": []
          },
          "execution_count": 18
        }
      ]
    },
    {
      "cell_type": "code",
      "metadata": {
        "id": "CeCQYK_5H2_4",
        "colab_type": "code",
        "colab": {
          "base_uri": "https://localhost:8080/",
          "height": 36
        },
        "outputId": "2073ff5f-c28f-4b6a-93a7-e4364ad7de47"
      },
      "source": [
        "#\n",
        "# 리스트: 인덱싱, 슬라이싱 연습\n",
        "#\n",
        "x = [1, 2, 3, 4, 5, 6, 7, 8, 9]\n",
        "x[0:3]\n",
        "x[3:]\n",
        "x[:6]\n",
        "x[0:6:2]  # x[:6:2]\n",
        "x[-1]\n",
        "x[-3]\n",
        "x[:-3]\n",
        "x[::-1] # 거꾸로[9,8,7,6,5,4,3,2,1]\n",
        "x[-3::-1] # [7,6,5,4,3,2,1]"
      ],
      "execution_count": 22,
      "outputs": [
        {
          "output_type": "execute_result",
          "data": {
            "text/plain": [
              "[7, 6, 5, 4, 3, 2, 1]"
            ]
          },
          "metadata": {
            "tags": []
          },
          "execution_count": 22
        }
      ]
    },
    {
      "cell_type": "markdown",
      "metadata": {
        "id": "l78GskCiKHDQ",
        "colab_type": "text"
      },
      "source": [
        "###리스트 연산하기"
      ]
    },
    {
      "cell_type": "code",
      "metadata": {
        "id": "5Xc34fscH8_4",
        "colab_type": "code",
        "colab": {
          "base_uri": "https://localhost:8080/",
          "height": 55
        },
        "outputId": "ca4001f6-f357-4dee-800c-abb49a6d0009"
      },
      "source": [
        "#\n",
        "###################################\n",
        "print(\"리스트: 리스트 연산하기\")\n",
        "###################################\n",
        "#\n",
        "# 리스트 더하기(+)\n",
        "#\n",
        "a = [1, 2, 3]\n",
        "b = [4, 5, 6]\n",
        "a + b"
      ],
      "execution_count": 23,
      "outputs": [
        {
          "output_type": "stream",
          "text": [
            "리스트: 리스트 연산하기\n"
          ],
          "name": "stdout"
        },
        {
          "output_type": "execute_result",
          "data": {
            "text/plain": [
              "[1, 2, 3, 4, 5, 6]"
            ]
          },
          "metadata": {
            "tags": []
          },
          "execution_count": 23
        }
      ]
    },
    {
      "cell_type": "code",
      "metadata": {
        "id": "_4IFlFZtKRnd",
        "colab_type": "code",
        "colab": {
          "base_uri": "https://localhost:8080/",
          "height": 36
        },
        "outputId": "c59853a8-208e-4f84-ed9f-541a82bac854"
      },
      "source": [
        "#\n",
        "# 리스트 반복하기(*)\n",
        "#\n",
        "a * 3"
      ],
      "execution_count": 24,
      "outputs": [
        {
          "output_type": "execute_result",
          "data": {
            "text/plain": [
              "[1, 2, 3, 1, 2, 3, 1, 2, 3]"
            ]
          },
          "metadata": {
            "tags": []
          },
          "execution_count": 24
        }
      ]
    },
    {
      "cell_type": "code",
      "metadata": {
        "id": "fG-rr4FRUrCM",
        "colab_type": "code",
        "outputId": "28abff8c-032b-4293-91ee-09393d22dc59",
        "colab": {
          "base_uri": "https://localhost:8080/",
          "height": 36
        }
      },
      "source": [
        "#\n",
        "# 리스트 길이구하기\n",
        "#\n",
        "len(a), len(a*3)"
      ],
      "execution_count": 25,
      "outputs": [
        {
          "output_type": "execute_result",
          "data": {
            "text/plain": [
              "(3, 9)"
            ]
          },
          "metadata": {
            "tags": []
          },
          "execution_count": 25
        }
      ]
    },
    {
      "cell_type": "code",
      "metadata": {
        "id": "x2PVP-BWUv9H",
        "colab_type": "code",
        "outputId": "e1f6c7fb-5d5f-4f2e-e52d-07749e92ee01",
        "colab": {
          "base_uri": "https://localhost:8080/",
          "height": 36
        }
      },
      "source": [
        "#\n",
        "# 초보자가 범하기 쉬운 리스트 연산 오류\n",
        "#\n",
        "a = [1, 2, 3]\n",
        "# a[2] + \"hi\" # TypeError: unsupported operand type(s) for +: 'int' and 'str'\n",
        "str(a[2]) + \"hi\" "
      ],
      "execution_count": 26,
      "outputs": [
        {
          "output_type": "execute_result",
          "data": {
            "text/plain": [
              "'3hi'"
            ]
          },
          "metadata": {
            "tags": []
          },
          "execution_count": 26
        }
      ]
    },
    {
      "cell_type": "markdown",
      "metadata": {
        "id": "wuewaVi5VJA_",
        "colab_type": "text"
      },
      "source": [
        "### 리스트의 수정과 삭제"
      ]
    },
    {
      "cell_type": "code",
      "metadata": {
        "id": "d8G80dIiU4Ts",
        "colab_type": "code",
        "outputId": "8917a4f8-eb9a-43d0-905b-84373333a9e8",
        "colab": {
          "base_uri": "https://localhost:8080/",
          "height": 36
        }
      },
      "source": [
        "#\n",
        "# 리스트의 수정과 삭제\n",
        "#\n",
        "a = [1, 2, 3]\n",
        "a[2] = 4  # list is mutable!!!(변할수있다.)\n",
        "a"
      ],
      "execution_count": 27,
      "outputs": [
        {
          "output_type": "execute_result",
          "data": {
            "text/plain": [
              "[1, 2, 4]"
            ]
          },
          "metadata": {
            "tags": []
          },
          "execution_count": 27
        }
      ]
    },
    {
      "cell_type": "code",
      "metadata": {
        "id": "uexuYOoAVMQP",
        "colab_type": "code",
        "outputId": "932ef2c3-a350-49b5-9a09-6cab52e9c663",
        "colab": {
          "base_uri": "https://localhost:8080/",
          "height": 36
        }
      },
      "source": [
        "#\n",
        "# del 함수 사용해 리스트 요소(항목) 삭제하기\n",
        "# (인덱싱/슬라이싱)\n",
        "a = [1, 2, 3]\n",
        "del a[1] # 인덱싱을 이용한 삭제\n",
        "a\n",
        "a = [1, 2, 3, 4, 5]\n",
        "del a[2:] #슬라이싱을 이용한 삭제\n",
        "a"
      ],
      "execution_count": 0,
      "outputs": [
        {
          "output_type": "execute_result",
          "data": {
            "text/plain": [
              "[1, 2]"
            ]
          },
          "metadata": {
            "tags": []
          },
          "execution_count": 52
        }
      ]
    },
    {
      "cell_type": "markdown",
      "metadata": {
        "id": "KSe3UifGWKEE",
        "colab_type": "text"
      },
      "source": [
        "## 리스트 관련 함수들"
      ]
    },
    {
      "cell_type": "code",
      "metadata": {
        "colab_type": "code",
        "id": "dRkzQjiyEnq7",
        "outputId": "4d0827a3-3463-43fc-854b-2dbddb599307",
        "colab": {
          "base_uri": "https://localhost:8080/",
          "height": 55
        }
      },
      "source": [
        "# ch2_05_list_functions.py\n",
        "\n",
        "print(\"리스트: 내부 함수 이용\")\n",
        "#\n",
        "# 리스트에 요소 추가(append)\n",
        "#\n",
        "a = [1, 2, 3]\n",
        "a.append(4) \n",
        "a\n",
        "# 리스트 안에는 어떤 자료형도 추가할 수 있다.\n",
        "# 리스트에 다시 리스트를 추가한 결과\n",
        "a.append([5, 6]) # 정말중요 \n",
        "a"
      ],
      "execution_count": 0,
      "outputs": [
        {
          "output_type": "stream",
          "text": [
            "리스트: 내부 함수 이용\n"
          ],
          "name": "stdout"
        },
        {
          "output_type": "execute_result",
          "data": {
            "text/plain": [
              "[1, 2, 3, 4, [5, 6]]"
            ]
          },
          "metadata": {
            "tags": []
          },
          "execution_count": 54
        }
      ]
    },
    {
      "cell_type": "code",
      "metadata": {
        "id": "VnXodsDyWOsN",
        "colab_type": "code",
        "outputId": "1ffab4c2-e268-42df-a65e-3e495763c850",
        "colab": {
          "base_uri": "https://localhost:8080/",
          "height": 36
        }
      },
      "source": [
        "#\n",
        "# 리스트 정렬(sort)\n",
        "#\n",
        "a = [1, 4, 3, 2]\n",
        "a.sort()\n",
        "a\n",
        "\n",
        "s = [\"a\", \"c\", \"b\"]\n",
        "s.sort()\n",
        "s"
      ],
      "execution_count": 28,
      "outputs": [
        {
          "output_type": "execute_result",
          "data": {
            "text/plain": [
              "['a', 'b', 'c']"
            ]
          },
          "metadata": {
            "tags": []
          },
          "execution_count": 28
        }
      ]
    },
    {
      "cell_type": "code",
      "metadata": {
        "id": "fihsMMzMWt_W",
        "colab_type": "code",
        "outputId": "cd696161-6ca4-43e7-a1fc-c52e9dc3f17b",
        "colab": {
          "base_uri": "https://localhost:8080/",
          "height": 36
        }
      },
      "source": [
        "#\n",
        "# 리스트 뒤집기(reverse)\n",
        "#\n",
        "a = [\"a\", \"c\", \"b\"]\n",
        "a.reverse()\n",
        "a, a[::-1]"
      ],
      "execution_count": 29,
      "outputs": [
        {
          "output_type": "execute_result",
          "data": {
            "text/plain": [
              "(['b', 'c', 'a'], ['a', 'c', 'b'])"
            ]
          },
          "metadata": {
            "tags": []
          },
          "execution_count": 29
        }
      ]
    },
    {
      "cell_type": "code",
      "metadata": {
        "id": "co7e-X5xXFH5",
        "colab_type": "code",
        "outputId": "af5d9695-ea0e-4884-e00e-3719d93e4ef7",
        "colab": {
          "base_uri": "https://localhost:8080/",
          "height": 36
        }
      },
      "source": [
        "#\n",
        "# 위치 반환(index)\n",
        "#    0  1  2\n",
        "a = [1, 2, 3]\n",
        "a.index(3) #3이라는 값의 인덱스는 2이다.\n",
        "a.index(1)\n",
        "# a.index(0) #0 is not in list\n",
        "\n",
        "s = [\"a\", \"c\", \"b\"]\n",
        "# s.index(3)  # ValueError: Error 3 is not in list\n",
        "# s.index(a)  # ValueError: [1, 2, 3] is not in list index(변수a:리스트)\n",
        "s.index(\"a\"), s.index(\"b\")"
      ],
      "execution_count": 31,
      "outputs": [
        {
          "output_type": "execute_result",
          "data": {
            "text/plain": [
              "(0, 2)"
            ]
          },
          "metadata": {
            "tags": []
          },
          "execution_count": 31
        }
      ]
    },
    {
      "cell_type": "code",
      "metadata": {
        "id": "glXzrHCtXvx_",
        "colab_type": "code",
        "outputId": "4269dd51-3c36-4728-a274-575914728972",
        "colab": {
          "base_uri": "https://localhost:8080/",
          "height": 36
        }
      },
      "source": [
        "# <다시보기>\n",
        "# 리스트에 요소 삽입(insert)\n",
        "#\n",
        "a = [1, 2, 3]\n",
        "a.insert(0, 4) # 0번 인덱스에 4(값) 삽입.\n",
        "a\n",
        "a.insert(3, 5) # 3번 인덱스에 5(값) 삽입.\n",
        "a"
      ],
      "execution_count": 35,
      "outputs": [
        {
          "output_type": "execute_result",
          "data": {
            "text/plain": [
              "[4, 1, 2, 5, 3]"
            ]
          },
          "metadata": {
            "tags": []
          },
          "execution_count": 35
        }
      ]
    },
    {
      "cell_type": "code",
      "metadata": {
        "id": "Rep6EvPnZLYj",
        "colab_type": "code",
        "colab": {}
      },
      "source": [
        "#\n",
        "# 리스트 요소 제거(remove)\n",
        "#\n",
        "a = [1, 2, 3, 1, 2, 3] # 중복 값을 허용하는 데이터 구조:list\n",
        "a.remove(3)\n",
        "a\n",
        "# 3을 리스트 a에서 완전히 제거\n",
        "a.remove(3)\n",
        "# a\n",
        "# a.remove(3)  # ValueError"
      ],
      "execution_count": 0,
      "outputs": []
    },
    {
      "cell_type": "code",
      "metadata": {
        "id": "dHVJfoTAZ80_",
        "colab_type": "code",
        "outputId": "91c72898-d526-4bea-a914-856b9c2858cc",
        "colab": {
          "base_uri": "https://localhost:8080/",
          "height": 36
        }
      },
      "source": [
        "a"
      ],
      "execution_count": 40,
      "outputs": [
        {
          "output_type": "execute_result",
          "data": {
            "text/plain": [
              "[1, 2, 1, 2]"
            ]
          },
          "metadata": {
            "tags": []
          },
          "execution_count": 40
        }
      ]
    },
    {
      "cell_type": "code",
      "metadata": {
        "id": "K0jqK_VHaElp",
        "colab_type": "code",
        "outputId": "348a4370-8348-43e8-c386-b4d0e346d2ee",
        "colab": {
          "base_uri": "https://localhost:8080/",
          "height": 176
        }
      },
      "source": [
        "a.remove(3) #ValueError: list.remove(x): x not in list"
      ],
      "execution_count": 41,
      "outputs": [
        {
          "output_type": "error",
          "ename": "ValueError",
          "evalue": "ignored",
          "traceback": [
            "\u001b[0;31m---------------------------------------------------------------------------\u001b[0m",
            "\u001b[0;31mValueError\u001b[0m                                Traceback (most recent call last)",
            "\u001b[0;32m<ipython-input-41-6530825ec07d>\u001b[0m in \u001b[0;36m<module>\u001b[0;34m()\u001b[0m\n\u001b[0;32m----> 1\u001b[0;31m \u001b[0ma\u001b[0m\u001b[0;34m.\u001b[0m\u001b[0mremove\u001b[0m\u001b[0;34m(\u001b[0m\u001b[0;36m3\u001b[0m\u001b[0;34m)\u001b[0m \u001b[0;31m#ValueError: list.remove(x): x not in list\u001b[0m\u001b[0;34m\u001b[0m\u001b[0;34m\u001b[0m\u001b[0m\n\u001b[0m",
            "\u001b[0;31mValueError\u001b[0m: list.remove(x): x not in list"
          ]
        }
      ]
    },
    {
      "cell_type": "code",
      "metadata": {
        "id": "Caaoi0xDaTm2",
        "colab_type": "code",
        "outputId": "05b28613-1a89-4a18-80b8-1a96ef5bead5",
        "colab": {
          "base_uri": "https://localhost:8080/",
          "height": 36
        }
      },
      "source": [
        "#\n",
        "# 리스트 요소 끄집어내기(pop)\n",
        "#\n",
        "#\n",
        "# 리스트의 수정과 삭제\n",
        "#\n",
        "a = [1, 2, 3]\n",
        "# pop()은 리스트의 맨 마지막 요소를 돌려주고 그 요소는 삭제한다.\n",
        "a.pop()\n",
        "a"
      ],
      "execution_count": 42,
      "outputs": [
        {
          "output_type": "execute_result",
          "data": {
            "text/plain": [
              "[1, 2]"
            ]
          },
          "metadata": {
            "tags": []
          },
          "execution_count": 42
        }
      ]
    },
    {
      "cell_type": "code",
      "metadata": {
        "id": "SMJSmC5XaoZ7",
        "colab_type": "code",
        "outputId": "53ec4ffe-3b92-4f0d-8d6b-9f75c470e609",
        "colab": {
          "base_uri": "https://localhost:8080/",
          "height": 213
        }
      },
      "source": [
        "#\n",
        "a = [1, 2, 3]\n",
        "# pop(x)는 리스트의 index가 x인 요소를 돌려주고 그 요소는 삭제한다.\n",
        "r = a.pop(1)\n",
        "r,a\n",
        "a.pop(2)  # IndexError -> pop index out of range"
      ],
      "execution_count": 43,
      "outputs": [
        {
          "output_type": "error",
          "ename": "IndexError",
          "evalue": "ignored",
          "traceback": [
            "\u001b[0;31m---------------------------------------------------------------------------\u001b[0m",
            "\u001b[0;31mIndexError\u001b[0m                                Traceback (most recent call last)",
            "\u001b[0;32m<ipython-input-43-8384f217d648>\u001b[0m in \u001b[0;36m<module>\u001b[0;34m()\u001b[0m\n\u001b[1;32m      3\u001b[0m \u001b[0mr\u001b[0m \u001b[0;34m=\u001b[0m \u001b[0ma\u001b[0m\u001b[0;34m.\u001b[0m\u001b[0mpop\u001b[0m\u001b[0;34m(\u001b[0m\u001b[0;36m1\u001b[0m\u001b[0;34m)\u001b[0m\u001b[0;34m\u001b[0m\u001b[0;34m\u001b[0m\u001b[0m\n\u001b[1;32m      4\u001b[0m \u001b[0mr\u001b[0m\u001b[0;34m,\u001b[0m\u001b[0ma\u001b[0m\u001b[0;34m\u001b[0m\u001b[0;34m\u001b[0m\u001b[0m\n\u001b[0;32m----> 5\u001b[0;31m \u001b[0ma\u001b[0m\u001b[0;34m.\u001b[0m\u001b[0mpop\u001b[0m\u001b[0;34m(\u001b[0m\u001b[0;36m2\u001b[0m\u001b[0;34m)\u001b[0m  \u001b[0;31m# IndexError -> pop index out of range\u001b[0m\u001b[0;34m\u001b[0m\u001b[0;34m\u001b[0m\u001b[0m\n\u001b[0m",
            "\u001b[0;31mIndexError\u001b[0m: pop index out of range"
          ]
        }
      ]
    },
    {
      "cell_type": "code",
      "metadata": {
        "id": "EoYe94KJa3By",
        "colab_type": "code",
        "outputId": "311c0670-10cf-4b81-8645-86f049576917",
        "colab": {
          "base_uri": "https://localhost:8080/",
          "height": 36
        }
      },
      "source": [
        "#\n",
        "# 리스트에 포함된 요소 x의 개수 세기(count)\n",
        "#\n",
        "a = [1, 2, 3, 1]\n",
        "a.count(1)"
      ],
      "execution_count": 44,
      "outputs": [
        {
          "output_type": "execute_result",
          "data": {
            "text/plain": [
              "2"
            ]
          },
          "metadata": {
            "tags": []
          },
          "execution_count": 44
        }
      ]
    },
    {
      "cell_type": "code",
      "metadata": {
        "id": "1lVrDv-pbfJ2",
        "colab_type": "code",
        "outputId": "95cefa35-5f56-4f39-b8e3-30ed46781463",
        "colab": {
          "base_uri": "https://localhost:8080/",
          "height": 36
        }
      },
      "source": [
        "#\n",
        "# 리스트 확장(extend)\n",
        "#\n",
        "a = [1, 2, 3]\n",
        "a.extend([4, 5])\n",
        "a  # a.extend([4, 5])는 a += [4, 5]와 동일\n",
        "\n",
        "b = [6, 7]\n",
        "a.extend(b)\n",
        "a"
      ],
      "execution_count": 45,
      "outputs": [
        {
          "output_type": "execute_result",
          "data": {
            "text/plain": [
              "[1, 2, 3, 4, 5, 6, 7]"
            ]
          },
          "metadata": {
            "tags": []
          },
          "execution_count": 45
        }
      ]
    },
    {
      "cell_type": "markdown",
      "metadata": {
        "id": "TR5DASvdb-uY",
        "colab_type": "text"
      },
      "source": [
        "## 튜플 (tuple)"
      ]
    },
    {
      "cell_type": "code",
      "metadata": {
        "id": "cRB7Ig0AGy9x",
        "colab_type": "code",
        "outputId": "a38659e8-1003-4c79-e9ef-50039587f19d",
        "colab": {
          "base_uri": "https://localhost:8080/",
          "height": 55
        }
      },
      "source": [
        "# ch2_06_tuple.py\n",
        "\n",
        "print(\"튜플: tuple 이란?\")\n",
        "# 리스트는 [ ]으로 둘러싸지만 튜플은 ( )으로 둘러싼다. inmutable\n",
        "# * 리스트는 그 값의 생성, 삭제, 수정이 가능하지만 튜플은 그 값을 바꿀 수 없다.\n",
        "\n",
        "even = (2, 4, 6, 8)\n",
        "even"
      ],
      "execution_count": 46,
      "outputs": [
        {
          "output_type": "stream",
          "text": [
            "튜플: tuple 이란?\n"
          ],
          "name": "stdout"
        },
        {
          "output_type": "execute_result",
          "data": {
            "text/plain": [
              "(2, 4, 6, 8)"
            ]
          },
          "metadata": {
            "tags": []
          },
          "execution_count": 46
        }
      ]
    },
    {
      "cell_type": "code",
      "metadata": {
        "id": "mr6-ufMWcSP2",
        "colab_type": "code",
        "colab": {}
      },
      "source": [
        "# 여러 가지 튜플\n",
        "t1 = ()  # 튜플 초기화 t1 = tuple()\n",
        "t2 = (1,) \n",
        "t3 = (1, 2, 3)\n",
        "t4 = 1, 2, 3\n",
        "t5 = (\"a\", \"b\", (\"ab\", \"cd\"))\n",
        "# t2 = (1,)처럼 단지 1개의 요소만을 가질 때는 요소 뒤에\n",
        "# 콤마(,)를 반드시 붙여야 한다는 것과\n",
        "# t4 = 1, 2, 3처럼 괄호( )를 생략해도 무방하다."
      ],
      "execution_count": 0,
      "outputs": []
    },
    {
      "cell_type": "code",
      "metadata": {
        "id": "1B_Go4GiLos_",
        "colab_type": "code",
        "colab": {
          "base_uri": "https://localhost:8080/",
          "height": 36
        },
        "outputId": "edadcd31-c36c-41e3-ccd9-84256552ccfc"
      },
      "source": [
        "t1,t2,t3,t4,t5"
      ],
      "execution_count": 49,
      "outputs": [
        {
          "output_type": "execute_result",
          "data": {
            "text/plain": [
              "((), (1,), (1, 2, 3), (1, 2, 3), ('a', 'b', ('ab', 'cd')))"
            ]
          },
          "metadata": {
            "tags": []
          },
          "execution_count": 49
        }
      ]
    },
    {
      "cell_type": "code",
      "metadata": {
        "id": "-J-F_PRzc5Pb",
        "colab_type": "code",
        "outputId": "ba03c23a-08bf-41b6-ca90-f628130afd1a",
        "colab": {
          "base_uri": "https://localhost:8080/",
          "height": 36
        }
      },
      "source": [
        "t2n = (1) # t2 = (1,)\n",
        "t2, t2n"
      ],
      "execution_count": 50,
      "outputs": [
        {
          "output_type": "execute_result",
          "data": {
            "text/plain": [
              "((1,), 1)"
            ]
          },
          "metadata": {
            "tags": []
          },
          "execution_count": 50
        }
      ]
    },
    {
      "cell_type": "code",
      "metadata": {
        "id": "NZFc9Qu0dZbf",
        "colab_type": "code",
        "outputId": "6226ce08-ba87-4b60-f377-83f3c305d79c",
        "colab": {
          "base_uri": "https://localhost:8080/",
          "height": 36
        }
      },
      "source": [
        "type(t2), type(t2n)"
      ],
      "execution_count": 51,
      "outputs": [
        {
          "output_type": "execute_result",
          "data": {
            "text/plain": [
              "(tuple, int)"
            ]
          },
          "metadata": {
            "tags": []
          },
          "execution_count": 51
        }
      ]
    },
    {
      "cell_type": "markdown",
      "metadata": {
        "id": "VO7Aj8afdqXE",
        "colab_type": "text"
      },
      "source": [
        "### 튜플의 요소값을 지우거나 변경\n"
      ]
    },
    {
      "cell_type": "code",
      "metadata": {
        "id": "wA92-rCgccoV",
        "colab_type": "code",
        "outputId": "405ca30d-d763-4466-8fa5-cefca8f913e9",
        "colab": {
          "base_uri": "https://localhost:8080/",
          "height": 213
        }
      },
      "source": [
        "#####################################################\n",
        "#\n",
        "# 튜플의 요소값을 지우거나 변경하려고 하면 어떻게 될까?\n",
        "#\n",
        "# 1. 튜플 요솟값을 삭제하려 할 때\n",
        "t1 = (1, 2, \"a\", \"b\")\n",
        "t1\n",
        "# del t1[0]  # Error TypeError: 'tuple' object doesn't support item deletion\n",
        "#\n",
        "# 2. 튜플 요솟값을 변경하려 할 때\n",
        "#\n",
        "t1[0] = \"c\"  # TypeError: 'tuple' object doesn't support item assignment."
      ],
      "execution_count": 52,
      "outputs": [
        {
          "output_type": "error",
          "ename": "TypeError",
          "evalue": "ignored",
          "traceback": [
            "\u001b[0;31m---------------------------------------------------------------------------\u001b[0m",
            "\u001b[0;31mTypeError\u001b[0m                                 Traceback (most recent call last)",
            "\u001b[0;32m<ipython-input-52-306a76bb9116>\u001b[0m in \u001b[0;36m<module>\u001b[0;34m()\u001b[0m\n\u001b[1;32m      5\u001b[0m \u001b[0;31m# 2. 튜플 요솟값을 변경하려 할 때\u001b[0m\u001b[0;34m\u001b[0m\u001b[0;34m\u001b[0m\u001b[0;34m\u001b[0m\u001b[0m\n\u001b[1;32m      6\u001b[0m \u001b[0;31m#\u001b[0m\u001b[0;34m\u001b[0m\u001b[0;34m\u001b[0m\u001b[0;34m\u001b[0m\u001b[0m\n\u001b[0;32m----> 7\u001b[0;31m \u001b[0mt1\u001b[0m\u001b[0;34m[\u001b[0m\u001b[0;36m0\u001b[0m\u001b[0;34m]\u001b[0m \u001b[0;34m=\u001b[0m \u001b[0;34m\"c\"\u001b[0m  \u001b[0;31m# TypeError: 'tuple' object doesn't support item assignment.\u001b[0m\u001b[0;34m\u001b[0m\u001b[0;34m\u001b[0m\u001b[0m\n\u001b[0m",
            "\u001b[0;31mTypeError\u001b[0m: 'tuple' object does not support item assignment"
          ]
        }
      ]
    },
    {
      "cell_type": "markdown",
      "metadata": {
        "id": "r21V4lIiL88Y",
        "colab_type": "text"
      },
      "source": [
        "### 튜플의 인덱싱과 슬라이싱"
      ]
    },
    {
      "cell_type": "code",
      "metadata": {
        "id": "Ai5jXzLCKqlg",
        "colab_type": "code",
        "outputId": "1726bed5-6b01-4617-98fc-9f92e0002a47",
        "colab": {
          "base_uri": "https://localhost:8080/",
          "height": 55
        }
      },
      "source": [
        "#\n",
        "#\n",
        "print(\"튜플: 사용방법\")\n",
        "#\n",
        "# 인덱싱하기\n",
        "#\n",
        "t1 = (1, 2, \"a\", \"b\")\n",
        "t1[0], t1[3]\n",
        "# t1[3]\n",
        "#\n",
        "# 슬라이싱하기\n",
        "#\n",
        "t1 = (1, 2, \"a\", \"b\")\n",
        "t1[1:]\n",
        "t1[2:-1]  #@@주의 'a' or ('a',)\n",
        "t1[2:]"
      ],
      "execution_count": 53,
      "outputs": [
        {
          "output_type": "stream",
          "text": [
            "튜플: 사용방법\n"
          ],
          "name": "stdout"
        },
        {
          "output_type": "execute_result",
          "data": {
            "text/plain": [
              "('a', 'b')"
            ]
          },
          "metadata": {
            "tags": []
          },
          "execution_count": 53
        }
      ]
    },
    {
      "cell_type": "code",
      "metadata": {
        "id": "-oAb24P3Ll5P",
        "colab_type": "code",
        "outputId": "4a495677-6a11-4fd6-c36b-34ebeb6dc5ec",
        "colab": {
          "base_uri": "https://localhost:8080/",
          "height": 55
        }
      },
      "source": [
        "#\n",
        "# 튜플 더하기\n",
        "#\n",
        "t1 = (1, 2, \"a\", \"b\")\n",
        "t2 = (3, 4)\n",
        "t1 + t2\n",
        "#\n",
        "# 튜플 곱하기\n",
        "#\n",
        "t2 = (3, 4)\n",
        "print(id(t2)) #id() 변수의 메모리값이 지정되어 있는 주소\n",
        "t2 * 3\n",
        "id(t2) # @@t2에 3을 곱하더라도 원래정의된 값의 주소는 불변하다.\n",
        "t2 = t2 * 3 # @ t2의 재정의--> 위의 t2와 다른 변수값을 가짐,주소값또한다름.\n",
        "id(t2)\n",
        "#\n",
        "# 튜플 길이 구하기\n",
        "#\n",
        "t1 = (1, 2, \"a\", \"b\")\n",
        "len(t1)"
      ],
      "execution_count": 54,
      "outputs": [
        {
          "output_type": "stream",
          "text": [
            "139843825547592\n"
          ],
          "name": "stdout"
        },
        {
          "output_type": "execute_result",
          "data": {
            "text/plain": [
              "4"
            ]
          },
          "metadata": {
            "tags": []
          },
          "execution_count": 54
        }
      ]
    },
    {
      "cell_type": "code",
      "metadata": {
        "id": "BFp_ywtRNHm_",
        "colab_type": "code",
        "outputId": "9335d3f2-c261-4115-dd92-047ae11b0db2",
        "colab": {
          "base_uri": "https://localhost:8080/",
          "height": 55
        }
      },
      "source": [
        "a=1  #1줄의 a와 3줄의 a는 다른 메모리영역에 할당됨.\n",
        "print(id(a))\n",
        "a=a+1\n",
        "print(id(a))"
      ],
      "execution_count": 55,
      "outputs": [
        {
          "output_type": "stream",
          "text": [
            "10914496\n",
            "10914528\n"
          ],
          "name": "stdout"
        }
      ]
    }
  ]
}