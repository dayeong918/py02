{
  "nbformat": 4,
  "nbformat_minor": 0,
  "metadata": {
    "colab": {
      "name": "mid_exam_py02.ipynb",
      "provenance": [],
      "collapsed_sections": [],
      "authorship_tag": "ABX9TyOAqruglI2DNB0MWFkuDvFG",
      "include_colab_link": true
    },
    "kernelspec": {
      "name": "python3",
      "display_name": "Python 3"
    }
  },
  "cells": [
    {
      "cell_type": "markdown",
      "metadata": {
        "id": "view-in-github",
        "colab_type": "text"
      },
      "source": [
        "<a href=\"https://colab.research.google.com/github/dayeong918/py02/blob/master/notebook/mid_exam_py02.ipynb\" target=\"_parent\"><img src=\"https://colab.research.google.com/assets/colab-badge.svg\" alt=\"Open In Colab\"/></a>"
      ]
    },
    {
      "cell_type": "markdown",
      "metadata": {
        "id": "zbuBz3qudD-i",
        "colab_type": "text"
      },
      "source": [
        "## 파이썬활용 중간고사 풀이_py02"
      ]
    },
    {
      "cell_type": "markdown",
      "metadata": {
        "id": "Q47JcA3pdKA9",
        "colab_type": "text"
      },
      "source": [
        "## 문제1. 다음식의 연산 결과는?\n",
        "> - a = 5\n",
        "- b = 3\n",
        "- a**b"
      ]
    },
    {
      "cell_type": "markdown",
      "metadata": {
        "id": "UBx-Gq6lJJvW",
        "colab_type": "text"
      },
      "source": [
        ">> 답 : 125"
      ]
    },
    {
      "cell_type": "code",
      "metadata": {
        "id": "bRJDLtXyc83Z",
        "colab_type": "code",
        "colab": {
          "base_uri": "https://localhost:8080/",
          "height": 36
        },
        "outputId": "261f90cf-ec08-42c2-f0e9-4832ee8ca22a"
      },
      "source": [
        "a = 5     # a라는 변수에 정수 5대입.\n",
        "b = 3     # b라는 변수에 정수 3대입.\n",
        "a**b      # 산술 연산자 (Arithmetic Operators), '**'는 제곱을 의미한다.\n",
        "# ex) a**b = a^b \n",
        "# 5**3 = 5^3 = 5*5*5=125\n",
        "# 125 결과값으로 125가 출력된다."
      ],
      "execution_count": 4,
      "outputs": [
        {
          "output_type": "execute_result",
          "data": {
            "text/plain": [
              "125"
            ]
          },
          "metadata": {
            "tags": []
          },
          "execution_count": 4
        }
      ]
    },
    {
      "cell_type": "markdown",
      "metadata": {
        "id": "YokvLgzO9if_",
        "colab_type": "text"
      },
      "source": [
        "## 문제2. 다음 문자열 a에 대하여 슬라이싱을 한 결과는?\n",
        "> - a = \"Life is too short, You need Python!\"\n",
        "- a[-16:-8]\n"
      ]
    },
    {
      "cell_type": "markdown",
      "metadata": {
        "id": "cTBCxP1CJRgx",
        "colab_type": "text"
      },
      "source": [
        ">> 답 : 'You need'"
      ]
    },
    {
      "cell_type": "markdown",
      "metadata": {
        "id": "ABXpmPn4nICk",
        "colab_type": "text"
      },
      "source": [
        "문자열 슬라이싱: a[시작 번호:끝 번호]를 지정하면 끝 번호에 해당하는 것은 포함되지 않는다.\n",
        "ex) a[0:3] : a <= a <3\n"
      ]
    },
    {
      "cell_type": "markdown",
      "metadata": {
        "id": "wbe5upLrngi2",
        "colab_type": "text"
      },
      "source": [
        "슬라이싱에서도 인덱싱과 마찬가지로 마이너스(-)기호를 사용할 수 있다.\n",
        "ex) a[19:-7] : a[19]~ a[-8] \n",
        "\n"
      ]
    },
    {
      "cell_type": "code",
      "metadata": {
        "id": "JbNeB8GD-Oii",
        "colab_type": "code",
        "colab": {
          "base_uri": "https://localhost:8080/",
          "height": 36
        },
        "outputId": "65c97cd0-8ab0-44dd-c5d6-4cf4f09561c4"
      },
      "source": [
        "a = \"Life is too short, You need Python!\" # a라는 변수에 다음과 같은 문자열 대입\n",
        "a[-16:-8]  # a[-16] ~ a[-9]까지를 의미한다.\n",
        "# 뒤에서 16번째 문자부터 뒤에서 9까지 문자까지의 문자열\n",
        "# a[-16]:Y ~a[-9]:d = 'You need'\n",
        "print(a[-16:-8])\n",
        "#'You need'가 출력된다. "
      ],
      "execution_count": 3,
      "outputs": [
        {
          "output_type": "stream",
          "text": [
            "You need\n"
          ],
          "name": "stdout"
        }
      ]
    },
    {
      "cell_type": "markdown",
      "metadata": {
        "id": "4n5waquM-VFO",
        "colab_type": "text"
      },
      "source": [
        "## 문제3. 다음 list a의 인덱싱 결과는?\n",
        ">- a = [1,2,(3,4), ['a','b',['My', 'Life','Good']]]\n",
        "- a[3][-1][0]"
      ]
    },
    {
      "cell_type": "markdown",
      "metadata": {
        "id": "Gj39SCMWJXuO",
        "colab_type": "text"
      },
      "source": [
        ">> 답 : 'My'"
      ]
    },
    {
      "cell_type": "markdown",
      "metadata": {
        "id": "0FVOko97qTxp",
        "colab_type": "text"
      },
      "source": [
        "삼중 리스트에서 인덱싱하기"
      ]
    },
    {
      "cell_type": "markdown",
      "metadata": {
        "id": "L2qFTlrPqX1h",
        "colab_type": "text"
      },
      "source": [
        "리스트 a안에 [['a','b',['My', 'Life','Good']] 라는 리스트가 포함되어 있고, 그 리스트 안에 다시 ['My', 'Life','Good'] 라는 리스트가 포함되어 있다. 삼중 구조의 리스트이다."
      ]
    },
    {
      "cell_type": "code",
      "metadata": {
        "id": "khs79zaW-r6t",
        "colab_type": "code",
        "colab": {
          "base_uri": "https://localhost:8080/",
          "height": 36
        },
        "outputId": "dfb50767-e1fd-401d-e373-4ac823b9c516"
      },
      "source": [
        "a = [1,2,(3,4), ['a','b',['My', 'Life','Good']]] \n",
        "a[3][-1][0] \n",
        "# 리스트 a의 세 번째 요소인 리스트 [['a','b',['My', 'Life','Good']]에서 \n",
        "# 뒤에서 첫번째 요소인 리스트 ['My', 'Life','Good']의 첫 번째 요소 'My'를 나타낸다.\n",
        "# 인덱싱 결과는 'My'이다."
      ],
      "execution_count": 6,
      "outputs": [
        {
          "output_type": "execute_result",
          "data": {
            "text/plain": [
              "'My'"
            ]
          },
          "metadata": {
            "tags": []
          },
          "execution_count": 6
        }
      ]
    },
    {
      "cell_type": "markdown",
      "metadata": {
        "id": "20Xn56nn-vAa",
        "colab_type": "text"
      },
      "source": [
        "## 문제4. 다음 tuple t1의 슬라이싱 결과는?\n",
        "> - t1 = (0, 1, \"s\", \"t\", \"u\")\n",
        "- t1[2:-2]"
      ]
    },
    {
      "cell_type": "markdown",
      "metadata": {
        "id": "1xVlt2yjJesf",
        "colab_type": "text"
      },
      "source": [
        ">> 답 : ('s',)"
      ]
    },
    {
      "cell_type": "markdown",
      "metadata": {
        "id": "lvJG4OPursez",
        "colab_type": "text"
      },
      "source": [
        "튜플 자료형"
      ]
    },
    {
      "cell_type": "markdown",
      "metadata": {
        "id": "QGFTN2Oirx0N",
        "colab_type": "text"
      },
      "source": [
        "1 리스트는 [과 ]으로 둘러싸지만 튜플은 (과 )으로 둘러싼다.\n",
        "2 리스트는 그 값의 생성, 삭제, 수정이 가능하지만 튜플은 그 값을 바꿀 수 없다.\n",
        "3 t2(1,)처럼 단지 1개의 요소만을 가질 때는 요소 뒤에 콤마(,)를 반드시 붙여야한다."
      ]
    },
    {
      "cell_type": "code",
      "metadata": {
        "id": "5nbfwl8-_AGQ",
        "colab_type": "code",
        "colab": {
          "base_uri": "https://localhost:8080/",
          "height": 36
        },
        "outputId": "21fb4cf3-3876-4d09-eb8f-25bebd527ed6"
      },
      "source": [
        "t1 = (0, 1, \"s\", \"t\", \"u\")\n",
        "#     0  1   2    3    4 \n",
        "#    -5 -4  -3   -2   -1\n",
        "t1[2:-2] # 튜플 슬라이싱.\n",
        "# t1[2:-2] = t1[2]~t[-3]까지의 요소와 동일\n",
        "# t1[2]의 요소 's'부터 t1의 마지막에서 세 번째 요소 's'까지의 요소이므로 's'요소를 의미한다.\n",
        "## @튜플자료형은 단지 1개의 요소만을 가질 때는 요소 뒤에 콤마(,)를 반드시 붙여야함으로 결과값은 ('s',)이다."
      ],
      "execution_count": 7,
      "outputs": [
        {
          "output_type": "execute_result",
          "data": {
            "text/plain": [
              "('s',)"
            ]
          },
          "metadata": {
            "tags": []
          },
          "execution_count": 7
        }
      ]
    },
    {
      "cell_type": "markdown",
      "metadata": {
        "id": "c4RWLo54_B4u",
        "colab_type": "text"
      },
      "source": [
        "## 문제5. 다음 bool 값 출력 중 정확한 것은?\n",
        "> bool([0,1,2]), bool([0]), bool((0)), bool((0,))"
      ]
    },
    {
      "cell_type": "markdown",
      "metadata": {
        "id": "i7QgKOeOJkuN",
        "colab_type": "text"
      },
      "source": [
        ">> 답 : (True,True,False,True)"
      ]
    },
    {
      "cell_type": "markdown",
      "metadata": {
        "id": "OHDQOFkCu92r",
        "colab_type": "text"
      },
      "source": [
        "불(bool) 자료형은 참(True)과 거짓(False)을 나타내는 자료형이다.\n",
        "- 숫자 0을 제외한 모든 수 - true\n",
        "- 빈 딕셔너리, 빈 리스트를 제외한 모든 딕셔너리, 리스트 - true\n",
        "- 아무 값도 없다는 의미인 None - false\n",
        "- 빈문자열을 제외한 모든 문자열 - true."
      ]
    },
    {
      "cell_type": "code",
      "metadata": {
        "id": "0tq7Gh6Q_ZNC",
        "colab_type": "code",
        "colab": {
          "base_uri": "https://localhost:8080/",
          "height": 36
        },
        "outputId": "680af7e1-058c-4713-9521-1622f43e9e10"
      },
      "source": [
        "bool([0,1,2]), bool([0]), bool((0)), bool((0,))\n",
        "# 1. bool([0,1,2]) = 0,1,2 요소값이 들어간 리스트임으로 bool값은 True가 출력된다.\n",
        "# 2. bool([0]) = 0 요소값이 든 리스트임으로 bool값은 True가 출력된다.\n",
        "# 3. bool((0)) = bool값안에 든 (0)는 0과 동일함으로((0) == 0) 숫자 0이 들어감으로 False가 출력된다.\n",
        "# 4. bool((0,)) = (0,) = 내부가 있으므로 True값이 출력된다.\n",
        "# 결과값: (True,True,False,True)"
      ],
      "execution_count": 8,
      "outputs": [
        {
          "output_type": "execute_result",
          "data": {
            "text/plain": [
              "(True, True, False, True)"
            ]
          },
          "metadata": {
            "tags": []
          },
          "execution_count": 8
        }
      ]
    },
    {
      "cell_type": "markdown",
      "metadata": {
        "id": "VpX6qnPk_h9h",
        "colab_type": "text"
      },
      "source": [
        "## 문제6. 다음 조건문을 1줄 코드로 변경하시오.\n",
        "> - score = 80\n",
        "```\n",
        "if score>=60:\n",
        "    message = \"success\"\n",
        "else:\n",
        "    message = \"faliure\"\n",
        "```\n",
        "\n"
      ]
    },
    {
      "cell_type": "markdown",
      "metadata": {
        "id": "Lt-6RISxzkYV",
        "colab_type": "text"
      },
      "source": [
        "조건표현식 : 간단한 if문은 조건표현식으로 한 줄에 작성할 수 있다."
      ]
    },
    {
      "cell_type": "markdown",
      "metadata": {
        "id": "id1yNhfU2Kje",
        "colab_type": "text"
      },
      "source": [
        "공식 : (True일 경우) (if 조건식) (else) (False일 경우)"
      ]
    },
    {
      "cell_type": "markdown",
      "metadata": {
        "id": "vR20_tzRJoyK",
        "colab_type": "text"
      },
      "source": [
        ">> 답 : message = \"success\" if score >= 60 else \"faliure\""
      ]
    },
    {
      "cell_type": "code",
      "metadata": {
        "id": "il-_Hp7fBtpN",
        "colab_type": "code",
        "colab": {
          "base_uri": "https://localhost:8080/",
          "height": 36
        },
        "outputId": "9bbaaddd-23d1-4f15-dbc8-fbb942e87fa3"
      },
      "source": [
        "# 다음 제시한 조건문을 1줄 코드로 만들기 위해 (True일 경우,if 조건식, else, False일 경우)로 코드를 작성해보았다.\n",
        "# True일 경우 출력될 <message = \"success\"> + if 조건식 <if score>=60> + else, <else> + False일 경우 출력될 <faliure> 순으로 코드를 작성하면 다음과 같다.\n",
        "# message = \"success\" if score >= 60 else \"faliure\"\n",
        "# (실행)\n",
        "score = 80\n",
        "message = \"success\" if score>= 60 else \"faliure\"\n",
        "print(message) # score이 60이상이므로 출력값은 success가 나온다. 다음과 같이 한줄코드를 사용하여 success값을 출력하였다."
      ],
      "execution_count": 12,
      "outputs": [
        {
          "output_type": "stream",
          "text": [
            "success\n"
          ],
          "name": "stdout"
        }
      ]
    },
    {
      "cell_type": "markdown",
      "metadata": {
        "id": "BU0ol16DC5Ij",
        "colab_type": "text"
      },
      "source": [
        "## 문제7. 다음 코드의 실행 결과는?\n",
        ">\n",
        "``` \n",
        "1  games = [\"A\", \"B\" ,\"C\"]\n",
        "2 \n",
        "3  for cnt in range(len(games)):\n",
        "4     print(cnt, games[cnt], end=',')\n",
        "```"
      ]
    },
    {
      "cell_type": "markdown",
      "metadata": {
        "id": "ZJr-HO1yJsmc",
        "colab_type": "text"
      },
      "source": [
        ">> 답 : 0 A,1 B,2 C,"
      ]
    },
    {
      "cell_type": "markdown",
      "metadata": {
        "id": "Dsdn7PJ_5XEN",
        "colab_type": "text"
      },
      "source": [
        "- for 문의 in 연산자는 in 뒤의 데이터가 있을 경우 True를 리턴하며, 변수는 반복에 따라 해당 데이터를 순차적으로 할당받게 된다. 더 이상 in 뒤의 데이터가 없을 경우 False를 리턴하며 for 문은 종료된다. "
      ]
    },
    {
      "cell_type": "markdown",
      "metadata": {
        "id": "MRcpXPUY5ZpS",
        "colab_type": "text"
      },
      "source": [
        "- range 함수는 파이썬의 내장함수이며 숫자 리스트를 자동으로 만들어주는 함수이다."
      ]
    },
    {
      "cell_type": "markdown",
      "metadata": {
        "id": "6W-oA-pm8PGN",
        "colab_type": "text"
      },
      "source": [
        "- end = '' 문장을 출력하고 마지막에 무엇을 쓰고 끝낼지 정해준다."
      ]
    },
    {
      "cell_type": "code",
      "metadata": {
        "id": "BMrKAOeUDlxY",
        "colab_type": "code",
        "colab": {
          "base_uri": "https://localhost:8080/",
          "height": 36
        },
        "outputId": "85a58f94-f5ae-4888-f6e8-ff42c09b475c"
      },
      "source": [
        "games = [\"A\", \"B\" ,\"C\"]  # games라는 변수에 [\"A,\",\"B\" ,\"C\"]라는 값을 설정한다.\n",
        " \n",
        "for cnt in range(len(games)): # len(games)는 games안의 요소들의 개수를 의미, len(games)= 3이다.\n",
        "# 그러므로 for cnt in range(3)과 같아진다, 이때 range(3)은 0부터 3미만의 숫자를 포함하는 range 객체를 만들어 준다.\n",
        "# for문의 in 연산자는 0,1,2값의 데이터가 있으므로 True를 리턴하며, 변수 cnt는 반복에 따라 해당 데이터를 순차적으로 할당받게 된다.\n",
        "   print(cnt, games[cnt], end=',') # for문이 반복할 때마다, cnt에 0,1,2의 값이 print함수로 출력된다.\n",
        "   # 예를 들어 cnt가 0일때, cnt값으로 0, games[0]은 리스트의 첫번째요소값 \"A\"를 출력하고 이때마다, end=','값도 출력되어 '0 A,'이 print함수를 통해 출력된다.\n",
        "   # 이와 같은 방식으로 cnt가 1일때, game[1]='B'그리고 end=','로 '1 B,'값 출력이 된다.\n",
        "   # 마지막으로 cnt가 2일때, game[2] ='C'이며 end','로 '2 C,'값을 출력하고 for문이 종료가 된다. \n",
        "   # 0 A,1 B,2 C,  : 결과값은 다음과 같다."
      ],
      "execution_count": 15,
      "outputs": [
        {
          "output_type": "stream",
          "text": [
            "0 A,1 B,2 C,"
          ],
          "name": "stdout"
        }
      ]
    },
    {
      "cell_type": "markdown",
      "metadata": {
        "id": "92IWNxEMDojl",
        "colab_type": "text"
      },
      "source": [
        "## 문제8. 다음의 결과가 출력되지 않는 것은? \n",
        "###'I ate 10 apples, so I was sick for three days.'\n",
        "```\n",
        "# code start\n",
        "number = 10\n",
        "day = \"three\"\n",
        "_______________________\n",
        "```\n",
        "##### ▲ \"I ate {0} apples, so I was sick for {1} days.\".format(10,day)\n",
        "#####◆ f\"I ate {number} apples, so I was sick for {day} days.\"\n",
        "##### ● f\"I ate {number} apples, so I was sick for {'three'} days.\"\n",
        "##### ■ \"I ate {0} apples. so I was sick for {1} days.\".format(number=10, day)\n"
      ]
    },
    {
      "cell_type": "markdown",
      "metadata": {
        "id": "d6iaVyMCJyB5",
        "colab_type": "text"
      },
      "source": [
        ">> 답 : ■ \"I ate {0} apples. so I was sick for {1} days.\".format(number=10, day)"
      ]
    },
    {
      "cell_type": "markdown",
      "metadata": {
        "id": "c4afm2H8LuD0",
        "colab_type": "text"
      },
      "source": [
        "> format함수를 이용한 문자열 포매팅, f 문자열 포매팅"
      ]
    },
    {
      "cell_type": "code",
      "metadata": {
        "id": "Snf8jVtPEXjT",
        "colab_type": "code",
        "colab": {
          "base_uri": "https://localhost:8080/",
          "height": 92
        },
        "outputId": "cfed75da-6b83-48c6-d32d-8f1c3bedbd62"
      },
      "source": [
        "# ▲ \"I ate {0} apples, so I was sick for {1} days.\".format(10,day) (O)\n",
        "number = 10\n",
        "day = \"three\"\n",
        "# \"I ate {0} apples, so I was sick for {1} days.\".format(10,day)\n",
        "print(\"I ate {0} apples, so I was sick for {1} days.\".format(10,day))\n",
        "# 2개 이상의 값을 넣을 경우 문자열의 {0},{1}과 같은 인덱스 항목들이 format함수의 입력값들로 순서에 맞게 바뀐다.\n",
        "# {0}은 format함수의 첫 번째 입력값인 10으로 바뀌고, {1}은 format함수의 두 번째 입력값인 day로 바뀐다.\n",
        "\n",
        "# ◆ f\"I ate {number} apples, so I was sick for {day} days.\" (O)\n",
        "number = 10\n",
        "day = \"three\"\n",
        "# f\"I ate {number} apples, so I was sick for {day} days.\" \n",
        "print(f\"I ate {number} apples, so I was sick for {day} days.\" ) \n",
        "# f 문자열 포매팅은 위와 같이 name, day와 같은 변수 값을 생성한 후에 그 값을 참조할 수 있다.\n",
        "# {number}에 10, {day}에 \"three\"의 값을 f 문자열 포매팅을 통해 출력하여 문장을 만든다.\n",
        "\n",
        "# ● f\"I ate {number} apples, so I was sick for {'three'} days.\" (O)\n",
        "number = 10\n",
        "day = \"three\"\n",
        "# f\"I ate {number} apples, so I was sick for {'three'} days.\"\n",
        "print(f\"I ate {number} apples, so I was sick for {'three'} days.\")\n",
        "# f 문자열 포매팅을 사용하였고 {number}= 10, {'three'}= three가 출력하여 문장을 만든다.\n",
        "\n",
        "# ■ \"I ate {0} apples. so I was sick for {1} days.\".format(number=10, day) (X)\n",
        "number = 10\n",
        "day = \"three\"\n",
        "# \"I ate {0} apples. so I was sick for {1} days.\".format(number=10,day) \n",
        "# SyntaxError: positional argument follows keyword argument\n",
        "# 키워드 인수에 따른 위치의 인수 오류\n",
        "# (수정) ■ \"I ate {0} apples. so I was sick for {day} days.\".format(number,day=\"three\")\n",
        "print(\"I ate {0} apples. so I was sick for {day} days.\".format(number,day=\"three\"))"
      ],
      "execution_count": 33,
      "outputs": [
        {
          "output_type": "stream",
          "text": [
            "I ate 10 apples, so I was sick for three days.\n",
            "I ate 10 apples, so I was sick for three days.\n",
            "I ate 10 apples, so I was sick for three days.\n",
            "I ate 10 apples. so I was sick for three days.\n"
          ],
          "name": "stdout"
        }
      ]
    },
    {
      "cell_type": "markdown",
      "metadata": {
        "id": "wDgcAEx3F7jI",
        "colab_type": "text"
      },
      "source": [
        "### 문제9. 리스트 내포를 사용해 1부터 1000이하의 자연수 중 5의 배수의 합을 구하는 한 줄 코드를 작성하시오.\n",
        ">\n",
        "```\n",
        "5 + 10 + 15 + 20 + 25 + .....\n",
        "\n",
        "... + 955 + 960 + 965 + 970 + \n",
        "\n",
        "975 + ... + 995 + 1000 = ?\n",
        "```\n"
      ]
    },
    {
      "cell_type": "markdown",
      "metadata": {
        "id": "eujM7lzrJ3zs",
        "colab_type": "text"
      },
      "source": [
        ">> 답 : sum([num for num in range(1,1001) if num % 5 == 0])"
      ]
    },
    {
      "cell_type": "markdown",
      "metadata": {
        "id": "ArQGxr1jbEy8",
        "colab_type": "text"
      },
      "source": [
        "- 리스트 내포(List comprehension)\n"
      ]
    },
    {
      "cell_type": "markdown",
      "metadata": {
        "id": "6Ht7-C4mbIUs",
        "colab_type": "text"
      },
      "source": [
        "- 리스트 내포의 일반 문법 : [표현식 for 항목 in 반복가능객체 if 조건문]\n"
      ]
    },
    {
      "cell_type": "code",
      "metadata": {
        "id": "IGOAS1MiGHOA",
        "colab_type": "code",
        "colab": {
          "base_uri": "https://localhost:8080/",
          "height": 75
        },
        "outputId": "b67939e0-49cc-4822-e9ce-7159141f55d2"
      },
      "source": [
        "sum([num for num in range(1,1001) if num % 5 == 0])\n",
        "# [num for num in range(1,1001) if num % 5 == 0]에 파이썬 내장함수 sum을 사용.\n",
        "# range(1,1001) : 1~1000까지의 숫자를 의미한다. for문의 in 연산자는 0에서 1000까지 데이터가 있으므로 True를 리턴하고\n",
        "# 변수 num은 반복에 따라 해당 데이터를 순차적으로 할당받게 된다. if 조건문에 의하여 num값이 5로 나눴을 때 0, 즉 5의 배수일때\n",
        "# 표현식 num을 통해 1부터 1000중 5의 배수들을 리스트 형식으로 출력된다.\n",
        "print([num for num in range(1,1001) if num % 5 == 0])\n",
        "# 다음 sum값을 사용하여 1부터 1000사이의 자연수 중 5의 배수의 합을 구할 수 있다.\n",
        "sum([num for num in range(1,1001) if num % 5 == 0])"
      ],
      "execution_count": 36,
      "outputs": [
        {
          "output_type": "stream",
          "text": [
            "[5, 10, 15, 20, 25, 30, 35, 40, 45, 50, 55, 60, 65, 70, 75, 80, 85, 90, 95, 100, 105, 110, 115, 120, 125, 130, 135, 140, 145, 150, 155, 160, 165, 170, 175, 180, 185, 190, 195, 200, 205, 210, 215, 220, 225, 230, 235, 240, 245, 250, 255, 260, 265, 270, 275, 280, 285, 290, 295, 300, 305, 310, 315, 320, 325, 330, 335, 340, 345, 350, 355, 360, 365, 370, 375, 380, 385, 390, 395, 400, 405, 410, 415, 420, 425, 430, 435, 440, 445, 450, 455, 460, 465, 470, 475, 480, 485, 490, 495, 500, 505, 510, 515, 520, 525, 530, 535, 540, 545, 550, 555, 560, 565, 570, 575, 580, 585, 590, 595, 600, 605, 610, 615, 620, 625, 630, 635, 640, 645, 650, 655, 660, 665, 670, 675, 680, 685, 690, 695, 700, 705, 710, 715, 720, 725, 730, 735, 740, 745, 750, 755, 760, 765, 770, 775, 780, 785, 790, 795, 800, 805, 810, 815, 820, 825, 830, 835, 840, 845, 850, 855, 860, 865, 870, 875, 880, 885, 890, 895, 900, 905, 910, 915, 920, 925, 930, 935, 940, 945, 950, 955, 960, 965, 970, 975, 980, 985, 990, 995, 1000]\n"
          ],
          "name": "stdout"
        },
        {
          "output_type": "execute_result",
          "data": {
            "text/plain": [
              "100500"
            ]
          },
          "metadata": {
            "tags": []
          },
          "execution_count": 36
        }
      ]
    },
    {
      "cell_type": "markdown",
      "metadata": {
        "id": "ezuAJNK0HBV-",
        "colab_type": "text"
      },
      "source": [
        "## 문제10. 4개 과목의 평균 성적을 구하시오. [a],[b]에 적합한 코드는?\n",
        "```\n",
        "subjects = ['python','english','math','science']\n",
        "scores = [88, 77, 66, 95]\n",
        "total = 0\n",
        "\n",
        "for subject, score in [a].________(subjects, scores):\n",
        "    total += score\n",
        "    print(subject, score)\n",
        "\n",
        "print(\"평균 점수 = {0}\".format([b].________________))\n",
        "```\n",
        "##### ▲ enumerate, scores/len(subjects)\n",
        "##### ◆ zip, scores/len(subjects)\n",
        "##### ● enumerate, total/len(subjects)\n",
        "##### ■ zip, total/len(subjects)\n"
      ]
    },
    {
      "cell_type": "markdown",
      "metadata": {
        "id": "uN1CT-tiJ9Bz",
        "colab_type": "text"
      },
      "source": [
        ">> 답 : ■ zip, total/len(subjects)"
      ]
    },
    {
      "cell_type": "markdown",
      "metadata": {
        "id": "j_TfpuCoj1qq",
        "colab_type": "text"
      },
      "source": [
        "1. enumerate함수\n",
        "- 순서가 있는 자료형(리스트, 튜플, 문자열)을 입력받아 인덱스 값에 포함시키는 역할을 한다.\n"
      ]
    },
    {
      "cell_type": "markdown",
      "metadata": {
        "id": "GJ1q2hLNg2Ag",
        "colab_type": "text"
      },
      "source": [
        "2. zip()함수\n",
        "- 동일한 개수로 이루어진 자료형을 묶어주는 함수\n",
        "- zip구조(객체), 데이터가 자리잡고 있는 주소가 리턴된다"
      ]
    },
    {
      "cell_type": "code",
      "metadata": {
        "id": "zR31_rVUH25R",
        "colab_type": "code",
        "colab": {
          "base_uri": "https://localhost:8080/",
          "height": 204
        },
        "outputId": "ebc29586-ada7-4c33-e9db-628a88750ecf"
      },
      "source": [
        "# 1\n",
        "# enumerate를 사용한 바른 코드.\n",
        "subjects = ['python','english','math','science']\n",
        "scores = [88, 77, 66, 95]\n",
        "total = 0\n",
        "\n",
        "for num, subject in enumerate(subjects): # enumerate함수를 사용하여 출력하려면 제시된 문제의 형식과 다르게 subjects나 scores 하나의 값을 대입해야한다.\n",
        "  score = scores[num]                    # 그러므로 enumerate함수를 사용한 ▲,●은 정답이 될 수 없다.\n",
        "  total += score\n",
        "  print(subject, score)\n",
        "\n",
        "print(\"평균점수 = {0}\".format(total/len(subjects))) \n",
        "\n",
        "# 2\n",
        "# zip함수를 사용한 바른 코드.\n",
        "subjects = ['python','english','math','science']\n",
        "scores = [88, 77, 66, 95]\n",
        "total = 0\n",
        "\n",
        "for subject, score in zip(subjects, scores): # zip함수를 사용하여 출력하면 제시된 문제의 형식과 같이 zip함수안에 subjects, scores를 대입할 수 있다.\n",
        "  total += score                             # 그러므로 zip함수를 사용한 ◆,■는 맞다.\n",
        "  print(subject, score)\n",
        "\n",
        "print(\"평균점수 = {0}\".format(total/len(subjects))) # 점수의 합인 total에 과목의 개수, 혹은 점수의 개수를 나누어야 평균 점수가 된다.\n",
        "                                               # ◆ zip, scores/len(subjects)는 리스트 형식의 과목들을 정수값으로 나눌수가 없으므로 정답이 아니다.\n",
        "                                               # ■ zip, total/len(subjects)은 전체 점수의 합을 과목 리스트의 요소값(점수의 개수)로 나누었으므로 정답이다."
      ],
      "execution_count": 38,
      "outputs": [
        {
          "output_type": "stream",
          "text": [
            "python 88\n",
            "english 77\n",
            "math 66\n",
            "science 95\n",
            "평균점수 = 81.5\n",
            "python 88\n",
            "english 77\n",
            "math 66\n",
            "science 95\n",
            "평균점수 = 81.5\n"
          ],
          "name": "stdout"
        }
      ]
    },
    {
      "cell_type": "code",
      "metadata": {
        "id": "FCazT96agWs1",
        "colab_type": "code",
        "colab": {}
      },
      "source": [
        ""
      ],
      "execution_count": 0,
      "outputs": []
    }
  ]
}