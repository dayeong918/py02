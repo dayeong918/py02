{
  "nbformat": 4,
  "nbformat_minor": 0,
  "metadata": {
    "colab": {
      "name": "ch8_exercises_py02.ipynb",
      "provenance": [],
      "collapsed_sections": [],
      "include_colab_link": true
    },
    "kernelspec": {
      "name": "python3",
      "display_name": "Python 3"
    }
  },
  "cells": [
    {
      "cell_type": "markdown",
      "metadata": {
        "id": "view-in-github",
        "colab_type": "text"
      },
      "source": [
        "<a href=\"https://colab.research.google.com/github/dayeong918/py02/blob/master/notebook/ch8_exercises_py02.ipynb\" target=\"_parent\"><img src=\"https://colab.research.google.com/assets/colab-badge.svg\" alt=\"Open In Colab\"/></a>"
      ]
    },
    {
      "cell_type": "markdown",
      "metadata": {
        "id": "ovY5jkD5dpxE",
        "colab_type": "text"
      },
      "source": [
        "# ch8_exercises_py02.ipynb"
      ]
    },
    {
      "cell_type": "markdown",
      "metadata": {
        "id": "SZw6UnxQWYBe",
        "colab_type": "text"
      },
      "source": [
        "Q1. 문자열 바꾸기\n",
        "> 다음과 같은 문자열이 있다.\n",
        "\n",
        "```\n",
        "a:b:c:d\n",
        "```\n",
        "\n",
        "> 문자열의 split와 join 함수를 사용하여 위 문자열을 다음과 같이 고치시오.\n",
        "\n",
        "```\n",
        "a#b#c#d\n",
        "```\n"
      ]
    },
    {
      "cell_type": "code",
      "metadata": {
        "id": "rUNNaqJPdg7B",
        "colab_type": "code",
        "colab": {
          "base_uri": "https://localhost:8080/",
          "height": 52
        },
        "outputId": "9c0766ec-82c2-45cc-f2e5-a7d9dbc6826c"
      },
      "source": [
        "# [Q1] Code-1 split,join함수\n",
        "a = 'a:b:c:d'\n",
        "b = a.split(':')\n",
        "c = \"#\".join(b)\n",
        "\n",
        "print(b)\n",
        "print(c)"
      ],
      "execution_count": 9,
      "outputs": [
        {
          "output_type": "stream",
          "text": [
            "['a', 'b', 'c', 'd']\n",
            "a#b#c#d\n"
          ],
          "name": "stdout"
        }
      ]
    },
    {
      "cell_type": "code",
      "metadata": {
        "colab_type": "code",
        "id": "x0OIIHRmDwtd",
        "colab": {
          "base_uri": "https://localhost:8080/",
          "height": 35
        },
        "outputId": "aa24950b-a0ae-420a-da32-97e53c2a46b6"
      },
      "source": [
        "# [Q1] Code-2 replace함수\n",
        "a = 'a:b:c:d'\n",
        "a.replace(':','#')"
      ],
      "execution_count": 10,
      "outputs": [
        {
          "output_type": "execute_result",
          "data": {
            "text/plain": [
              "'a#b#c#d'"
            ]
          },
          "metadata": {
            "tags": []
          },
          "execution_count": 10
        }
      ]
    },
    {
      "cell_type": "markdown",
      "metadata": {
        "colab_type": "text",
        "id": "re2-XrUYXF1m"
      },
      "source": [
        "## Q2. 딕셔너리 값 추출하기\n",
        "> 다음은 딕셔너리의 a에서 'C'라는 key에 해당하는 value를 출력하는 프로그램이다.\n",
        "```\n",
        ">>> a = {'A':90, 'B':80}\n",
        ">>> a['C']\n",
        "Traceback (most recent call last):\n",
        "  File \"<stdin>\", line 1, in <module>\n",
        "KeyError: 'C'\n",
        "```\n",
        ">> a 딕셔너리에는 'C'라는 key가 없으므로 위와 같은 오류가 발생한다.  \n",
        ">>'C'에 해당하는 key 값이 없을 경우 오류 대신 70을 얻을 수 있도록 수정하시오."
      ]
    },
    {
      "cell_type": "code",
      "metadata": {
        "colab_type": "code",
        "id": "5MBLUZ5WXF1q",
        "colab": {
          "base_uri": "https://localhost:8080/",
          "height": 35
        },
        "outputId": "ce170dcb-4e24-4d8e-b377-1ef7f2be4256"
      },
      "source": [
        "# [Q2] Code-1 Key로 value얻기(get)\n",
        "a = {'A':90, 'B':80}\n",
        "a.get('C','70') # get(x.'디폴트 값')"
      ],
      "execution_count": 11,
      "outputs": [
        {
          "output_type": "execute_result",
          "data": {
            "text/plain": [
              "'70'"
            ]
          },
          "metadata": {
            "tags": []
          },
          "execution_count": 11
        }
      ]
    },
    {
      "cell_type": "code",
      "metadata": {
        "colab_type": "code",
        "id": "viVk7IDSEQZX",
        "colab": {
          "base_uri": "https://localhost:8080/",
          "height": 35
        },
        "outputId": "c333aedd-bc5e-4478-d420-1ec1147b4f0c"
      },
      "source": [
        "# [Q2] Code-2 해당 Key가 딕셔너리 안에 있는지 조사하기(in)\n",
        "a = {'A':90, 'B':80} \n",
        "if 'C' not in a:\n",
        "  print('70')"
      ],
      "execution_count": 14,
      "outputs": [
        {
          "output_type": "stream",
          "text": [
            "70\n"
          ],
          "name": "stdout"
        }
      ]
    },
    {
      "cell_type": "markdown",
      "metadata": {
        "colab_type": "text",
        "id": "UZy8lu_BXGnT"
      },
      "source": [
        "## Q3. 리스트의 더하기와 extend 함수\n",
        "> 다음과 같은 리스트 a가 있다.\n",
        "```\n",
        "a = [1, 2, 3]\n",
        "```\n",
        "> 리스트 a에 [4, 5]를 + 기호를 사용하여 더한 결과는 다음과 같다.\n",
        "```\n",
        ">>> a = [1, 2, 3]\n",
        ">>> a = a + [4,5]\n",
        ">>> a\n",
        "[1, 2, 3, 4, 5]\n",
        "```\n",
        "> 리스트 a에 [4,5]를 extend를 사용하여 더한 결과는 다음과 같다.\n",
        "```\n",
        ">>> a = [1, 2, 3]\n",
        ">>> a.extend([4, 5])\n",
        ">>> a\n",
        "[1, 2, 3, 4, 5]\n",
        "```\n",
        "\n",
        "> ### + 기호를 사용하여 더한 것과 extend한 것의 차이점이 있을까? 있다면 그 차이점을 설명하시오."
      ]
    },
    {
      "cell_type": "code",
      "metadata": {
        "colab_type": "code",
        "id": "H9T_sXHzXGnW",
        "colab": {
          "base_uri": "https://localhost:8080/",
          "height": 52
        },
        "outputId": "5b8e5d30-72ec-4b30-9014-1043118e3704"
      },
      "source": [
        "# [Q3] Explain (코드와 주석으로 설명하시오)\n",
        "a = [1, 2, 3]\n",
        "print(id(a)) # 140488068288072\n",
        "\n",
        "a = a + [4 , 5]\n",
        "a \n",
        "id(a) # 140488068416840\n",
        "\n",
        "#"
      ],
      "execution_count": 16,
      "outputs": [
        {
          "output_type": "stream",
          "text": [
            "140488068188744\n"
          ],
          "name": "stdout"
        },
        {
          "output_type": "execute_result",
          "data": {
            "text/plain": [
              "140488068416840"
            ]
          },
          "metadata": {
            "tags": []
          },
          "execution_count": 16
        }
      ]
    },
    {
      "cell_type": "markdown",
      "metadata": {
        "id": "v8keueFOhk3k",
        "colab_type": "text"
      },
      "source": [
        "(Code-1): id함수는 입력받은 리스트의 주소값을 돌려준다. 리스트 값을 추가하기 전과 다른 주소값을 돌려주어 주소값이 다르므로 리스트 a는 값이 변하는 것이 아니라 새로운 리스트가 반환된다는 것임을 알 수 있다."
      ]
    },
    {
      "cell_type": "code",
      "metadata": {
        "id": "detOhvIniLPQ",
        "colab_type": "code",
        "colab": {
          "base_uri": "https://localhost:8080/",
          "height": 52
        },
        "outputId": "cb90c605-c6e2-4e99-afd7-d7689c76e472"
      },
      "source": [
        "a = [1, 2, 3]\n",
        "print(id(a)) # 140488069077640\n",
        "\n",
        "a.extend([4,5])\n",
        "id(a) # 140488069077640"
      ],
      "execution_count": 17,
      "outputs": [
        {
          "output_type": "stream",
          "text": [
            "140488069077640\n"
          ],
          "name": "stdout"
        },
        {
          "output_type": "execute_result",
          "data": {
            "text/plain": [
              "140488069077640"
            ]
          },
          "metadata": {
            "tags": []
          },
          "execution_count": 17
        }
      ]
    },
    {
      "cell_type": "markdown",
      "metadata": {
        "id": "T2tAAUz6iVy6",
        "colab_type": "text"
      },
      "source": [
        "(Code-2):'+'기호를 사용한 경우와 다르게 주소값이 변하지 않고 그대로 유지된다."
      ]
    },
    {
      "cell_type": "markdown",
      "metadata": {
        "colab_type": "text",
        "id": "fqypxxqTXHY7"
      },
      "source": [
        "## Q4. 리스트 총합 구하기\n",
        "> 다음은 A학급 학생의 점수를 나타내는 리스트이다. 다음 리스트에서 50점 이상 점수의 총합을 구하시오.\n",
        "```\n",
        "A = [20, 55, 67, 82, 45, 33, 90, 87, 100, 25]\n",
        "```"
      ]
    },
    {
      "cell_type": "code",
      "metadata": {
        "colab_type": "code",
        "id": "oQ5UnmayXHY-",
        "colab": {
          "base_uri": "https://localhost:8080/",
          "height": 35
        },
        "outputId": "2e6aa396-b21c-433c-edbf-53c530e9de8a"
      },
      "source": [
        "# [Q4] Code-1 for문 사용\n",
        "A = [20, 55, 67, 82, 45, 33, 90, 87, 100, 25] \n",
        "\n",
        "result = 0\n",
        "for i in A:\n",
        "  if i >= 50:\n",
        "    result += i\n",
        "print(result)"
      ],
      "execution_count": 21,
      "outputs": [
        {
          "output_type": "stream",
          "text": [
            "481\n"
          ],
          "name": "stdout"
        }
      ]
    },
    {
      "cell_type": "code",
      "metadata": {
        "colab_type": "code",
        "id": "pMQ1e6jpFomt",
        "colab": {
          "base_uri": "https://localhost:8080/",
          "height": 135
        },
        "outputId": "d246916b-0fec-4899-cf17-e3ab30f07c42"
      },
      "source": [
        "# [Q4] Code-2 # for range함수사용\n",
        "A = [20, 55, 67, 82, 45, 33, 90, 87, 100, 25] \n",
        "\n",
        "result = 0\n",
        "for num in range(len(A)):\n",
        "  if A[num] < 50 :continue\n",
        "  result = result + A[num]\n",
        "print(result)\n"
      ],
      "execution_count": 50,
      "outputs": [
        {
          "output_type": "error",
          "ename": "SyntaxError",
          "evalue": "ignored",
          "traceback": [
            "\u001b[0;36m  File \u001b[0;32m\"<ipython-input-50-3055ff453801>\"\u001b[0;36m, line \u001b[0;32m10\u001b[0m\n\u001b[0;31m    result = [result += A[num] for num in range(len(A)) if A[num]>= 50:continue]\u001b[0m\n\u001b[0m                      ^\u001b[0m\n\u001b[0;31mSyntaxError\u001b[0m\u001b[0;31m:\u001b[0m invalid syntax\n"
          ]
        }
      ]
    },
    {
      "cell_type": "code",
      "metadata": {
        "id": "qIVrIonWmzl2",
        "colab_type": "code",
        "colab": {
          "base_uri": "https://localhost:8080/",
          "height": 35
        },
        "outputId": "6a6520f4-0279-4548-f37a-eb0f76b91eb3"
      },
      "source": [
        "# [Q4] Code-2 # pop함수 사용\n",
        "A = [20, 55, 67, 82, 45, 33, 90, 87, 100, 25] \n",
        "\n",
        "result = 0\n",
        "while A: \n",
        "    i = A.pop()\n",
        "    if i >= 50:\n",
        "       result += i\n",
        "print(result)  "
      ],
      "execution_count": 57,
      "outputs": [
        {
          "output_type": "stream",
          "text": [
            "481\n"
          ],
          "name": "stdout"
        }
      ]
    },
    {
      "cell_type": "markdown",
      "metadata": {
        "colab_type": "text",
        "id": "NKsvciXZXIL-"
      },
      "source": [
        "## Q5. 피보나치 함수\n",
        "> 첫 번째 항의 값이 0이고 두 번째 항의 값이 1일 때, 이후에 이어지는 항은 이전의 두 항을 더한 값으로 이루어지는 수열을 피보나치 수열이라고 한다.\n",
        "```\n",
        "0, 1, 1, 2, 3, 5, 8, 13, 21, ...\n",
        "```\n",
        "> 입력을 정수 n으로 받았을 때, n 이하까지의 피보나치 수열을 출력하는 함수를 작성해 보자.\n"
      ]
    },
    {
      "cell_type": "code",
      "metadata": {
        "colab_type": "code",
        "id": "5MZQYOVjXIL_",
        "colab": {
          "base_uri": "https://localhost:8080/",
          "height": 52
        },
        "outputId": "3281dd4d-51c7-4d81-f8e2-5acd59fbd705"
      },
      "source": [
        "# [Q5] Code-1\n",
        "def fib(n):\n",
        "    if n <= 1:\n",
        "        return n\n",
        "    else:\n",
        "        return fib(n - 1) + fib(n - 2)\n",
        "\n",
        "for i in range(int(input('출력할 피보나치 수열의 개수: '))):\n",
        "    print(fib(i), end = ' ')"
      ],
      "execution_count": 89,
      "outputs": [
        {
          "output_type": "stream",
          "text": [
            "출력할 피보나치 수열의 개수: 10\n",
            "0 1 1 2 3 5 8 13 21 34 "
          ],
          "name": "stdout"
        }
      ]
    },
    {
      "cell_type": "code",
      "metadata": {
        "colab_type": "code",
        "id": "JH2Rm_TkF_eu",
        "colab": {
          "base_uri": "https://localhost:8080/",
          "height": 52
        },
        "outputId": "53dd6403-af86-4e97-c754-585a61ecd9bc"
      },
      "source": [
        "# [Q5] Code-2 \n",
        "def fib(num):\n",
        "    a, b = 0, 1\n",
        "    for i in range(num):\n",
        "        a, b = b, a+b\n",
        "    return a\n",
        "\n",
        "for i in range(int(input('출력할 피보나치 수열의 개수: '))):\n",
        "    print(fib(i), end = ' ')"
      ],
      "execution_count": 90,
      "outputs": [
        {
          "output_type": "stream",
          "text": [
            "출력할 피보나치 수열의 개수: 10\n",
            "0 1 1 2 3 5 8 13 21 34 "
          ],
          "name": "stdout"
        }
      ]
    },
    {
      "cell_type": "markdown",
      "metadata": {
        "colab_type": "text",
        "id": "-3KHtOOoXJBV"
      },
      "source": [
        "## Q6. 숫자의 총합 구하기\n",
        "> 사용자로부터 다음과 같은 숫자를 입력받아 입력받은 숫자의 총합을 구하는 프로그램을 작성하시오. (단 숫자는 콤마로 구분하여 입력한다.)\n",
        "\n",
        "```\n",
        "65,45,2,3,45,8\n",
        "```\n"
      ]
    },
    {
      "cell_type": "code",
      "metadata": {
        "colab_type": "code",
        "id": "AjYR0lUaXJBa",
        "colab": {
          "base_uri": "https://localhost:8080/",
          "height": 52
        },
        "outputId": "6dd2f0c1-9bfa-4237-818e-a97027db74a8"
      },
      "source": [
        "# [Q6] Code-1\n",
        "number = input(\"숫자들을 입력하세요: \")\n",
        "numbers = number.split(\",\")\n",
        "\n",
        "def sum(numbers):\n",
        "    result = 0\n",
        "    for num in numbers:\n",
        "      result += int(num)\n",
        "    return result\n",
        "\n",
        "print(sum(numbers))"
      ],
      "execution_count": 98,
      "outputs": [
        {
          "output_type": "stream",
          "text": [
            "숫자들을 입력하세요: 65,45,2,3,45,8\n",
            "168\n"
          ],
          "name": "stdout"
        }
      ]
    },
    {
      "cell_type": "code",
      "metadata": {
        "colab_type": "code",
        "id": "JpkVe0zxGTK1",
        "colab": {
          "base_uri": "https://localhost:8080/",
          "height": 35
        },
        "outputId": "656845d5-79d4-479c-a8a4-37faf693f4cf"
      },
      "source": [
        "# [Q6] Code-2\n",
        "def sum_many(*args):\n",
        "  sum = 0\n",
        "  for i in args:\n",
        "    sum = sum + i \n",
        "  return sum\n",
        "\n",
        "sum_many(65,45,2,3,45,8)"
      ],
      "execution_count": 99,
      "outputs": [
        {
          "output_type": "execute_result",
          "data": {
            "text/plain": [
              "168"
            ]
          },
          "metadata": {
            "tags": []
          },
          "execution_count": 99
        }
      ]
    },
    {
      "cell_type": "markdown",
      "metadata": {
        "colab_type": "text",
        "id": "CiMJjZQ_GdyV"
      },
      "source": [
        "## Q7. 한 줄 구구단\n",
        "> 사용자로부터 2~9의 숫자 중 하나를 입력받아 해당 숫자의 구구단을 한 줄로 출력하는 프로그램을 작성하시오.\n",
        "\n",
        "> 실행 예)\n",
        "```\n",
        "구구단을 출력할 숫자를 입력하세요(2~9): 2\n",
        "2 4 6 8 10 12 14 16 18\n",
        "```\n"
      ]
    },
    {
      "cell_type": "code",
      "metadata": {
        "colab_type": "code",
        "id": "_8TQZNIwGdyo",
        "colab": {
          "base_uri": "https://localhost:8080/",
          "height": 52
        },
        "outputId": "0b1d24a4-ce47-4390-f383-31d820ff542a"
      },
      "source": [
        "# [Q7] Code-1\n",
        "def gugu_dan(number):\n",
        "  for i in range(1,10):\n",
        "    print(number * i, end =' ')\n",
        "\n",
        "number = int(input(\"구구단을 출력할 숫자를 입력하세요(2~9): \"))\n",
        "gugu_dan(number)"
      ],
      "execution_count": 105,
      "outputs": [
        {
          "output_type": "stream",
          "text": [
            "구구단을 출력할 숫자를 입력하세요(2~9): 2\n",
            "2 4 6 8 10 12 14 16 18 "
          ],
          "name": "stdout"
        }
      ]
    },
    {
      "cell_type": "code",
      "metadata": {
        "colab_type": "code",
        "id": "HRX-wvenGdyx",
        "colab": {
          "base_uri": "https://localhost:8080/",
          "height": 52
        },
        "outputId": "1066ebc6-dacc-4209-b51e-ab560de40bfd"
      },
      "source": [
        "# [Q7] Code-2\n",
        "number = int(input(\"구구단을 출력할 숫자를 입력하세요(2~9): \"))\n",
        "print([number*i for i in range(1,10)], end =' ')"
      ],
      "execution_count": 108,
      "outputs": [
        {
          "output_type": "stream",
          "text": [
            "구구단을 출력할 숫자를 입력하세요(2~9): 2\n",
            "[2, 4, 6, 8, 10, 12, 14, 16, 18] "
          ],
          "name": "stdout"
        }
      ]
    },
    {
      "cell_type": "markdown",
      "metadata": {
        "colab_type": "text",
        "id": "YrS3b88QbmKo"
      },
      "source": [
        "## Q8. 역순 저장\n",
        "> 다음과 같은 내용의 파일 abc.txt가 있다.\n",
        "```\n",
        "AAA\n",
        "BBB\n",
        "CCC\n",
        "DDD\n",
        "EEE\n",
        "```\n",
        "> 이 파일의 내용을 다음과 같이 역순으로 바꾸어 저장하시오.\n",
        "```\n",
        "EEE\n",
        "DDD\n",
        "CCC\n",
        "BBB\n",
        "AAA\n",
        "```"
      ]
    },
    {
      "cell_type": "code",
      "metadata": {
        "colab_type": "code",
        "id": "Ll_2InMWbmKq",
        "colab": {
          "base_uri": "https://localhost:8080/",
          "height": 124
        },
        "outputId": "1a0385f5-be22-4f4d-9871-ece17d4e628a"
      },
      "source": [
        "# [Q8] Code-1\n",
        "f = open('abc.txt','w')\n",
        "f.write(\"AAA\")\n",
        "f.write(\"\\n\")\n",
        "f.write(\"BBB\")\n",
        "f.write(\"\\n\")\n",
        "f.write(\"CCC\")\n",
        "f.write(\"\\n\")\n",
        "f.write(\"DDD\")\n",
        "f.write(\"\\n\")\n",
        "f.write(\"EEE\")\n",
        "f.close()\n",
        "\n",
        "f = open('abc.txt','r')\n",
        "lines = f.readlines()\n",
        "f.close()\n",
        "\n",
        "lines.reverse()\n",
        "\n",
        "f = open('abc.txt', 'w')\n",
        "for line in lines:\n",
        "  line = line.strip()\n",
        "  f.write(line)\n",
        "  f.write('\\n')\n",
        "f.close()\n",
        "\n",
        "f = open(\"/content/abc.txt\", \"r\")\n",
        "line = f.read()\n",
        "print(line)\n",
        "f.close()"
      ],
      "execution_count": 124,
      "outputs": [
        {
          "output_type": "stream",
          "text": [
            "EEE\n",
            "DDD\n",
            "CCC\n",
            "BBB\n",
            "AAA\n",
            "\n"
          ],
          "name": "stdout"
        }
      ]
    },
    {
      "cell_type": "code",
      "metadata": {
        "colab_type": "code",
        "id": "N3uG53JsHIYX",
        "colab": {
          "base_uri": "https://localhost:8080/",
          "height": 106
        },
        "outputId": "3584d63e-8f65-4e43-aa76-6ed108bd7a91"
      },
      "source": [
        "# [Q8] Code-2\n",
        "f = open('abc.txt','w')\n",
        "f.write(\"AAA\")\n",
        "f.write(\"\\n\")\n",
        "f.write(\"BBB\")\n",
        "f.write(\"\\n\")\n",
        "f.write(\"CCC\")\n",
        "f.write(\"\\n\")\n",
        "f.write(\"DDD\")\n",
        "f.write(\"\\n\")\n",
        "f.write(\"EEE\")\n",
        "f.close()\n",
        "\n",
        "with open(\"abc.txt\",\"r\") as f:\n",
        "  lines = f.readlines()\n",
        "  lines.reverse()\n",
        "  for lines in lines:\n",
        "    print(lines.rstrip())"
      ],
      "execution_count": 137,
      "outputs": [
        {
          "output_type": "stream",
          "text": [
            "EEE\n",
            "DDD\n",
            "CCC\n",
            "BBB\n",
            "AAA\n"
          ],
          "name": "stdout"
        }
      ]
    },
    {
      "cell_type": "markdown",
      "metadata": {
        "colab_type": "text",
        "id": "OcSDHHYkK6lZ"
      },
      "source": [
        "## Q9. 평균값 구하기\n",
        "> 다음과 같이 총 10줄로 이루어진 sample.txt 파일이 있다. sample.txt 파일의 숫자 값을 모두 읽어 총합과 평균 값을 구한 후 평균 값을 result.txt 파일에 쓰는 프로그램을 작성하시오.\n",
        "```\n",
        "70\n",
        "60\n",
        "55\n",
        "75\n",
        "95\n",
        "90\n",
        "80\n",
        "80\n",
        "85\n",
        "100\n",
        "```\n"
      ]
    },
    {
      "cell_type": "code",
      "metadata": {
        "colab_type": "code",
        "id": "GmaaVGqrK6le",
        "colab": {
          "base_uri": "https://localhost:8080/",
          "height": 52
        },
        "outputId": "ee21e76b-4a8d-419b-cb76-ed02bd91a11e"
      },
      "source": [
        "# [Q9] Code-1\n",
        "f = open(\"sample.txt\",'w')\n",
        "f.write(\"70\")\n",
        "f.write(\"\\n\")\n",
        "f.write(\"60\")\n",
        "f.write(\"\\n\")\n",
        "f.write(\"55\")\n",
        "f.write(\"\\n\")\n",
        "f.write(\"75\")\n",
        "f.write(\"\\n\")    \n",
        "f.write(\"95\")\n",
        "f.write(\"\\n\")\n",
        "f.write(\"90\")\n",
        "f.write(\"\\n\")    \n",
        "f.write(\"80\")\n",
        "f.write(\"\\n\")\n",
        "f.write(\"80\")\n",
        "f.write(\"\\n\")\n",
        "f.write(\"85\")\n",
        "f.write(\"\\n\")\n",
        "f.write(\"100\")\n",
        "f.close()\n",
        "\n",
        "f = open(\"sample.txt\",'r')\n",
        "score = f.readlines()\n",
        "f.close()\n",
        "\n",
        "sum = 0\n",
        "for i in score:\n",
        "    sum += int(i)\n",
        "average = sum / len(score)\n",
        "\n",
        "print(sum)\n",
        "print(average)"
      ],
      "execution_count": 152,
      "outputs": [
        {
          "output_type": "stream",
          "text": [
            "790\n",
            "79.0\n"
          ],
          "name": "stdout"
        }
      ]
    },
    {
      "cell_type": "code",
      "metadata": {
        "colab_type": "code",
        "id": "kgMy9LVYHfRF",
        "colab": {
          "base_uri": "https://localhost:8080/",
          "height": 52
        },
        "outputId": "f473c75a-a0b6-4a04-e9b0-2ca4642e3cb6"
      },
      "source": [
        "# [Q9] Code-2\n",
        "with open(\"sample.txt\", 'r') as f:\n",
        "  lines = f.read()\n",
        "lines = lines.split(\"\\n\")\n",
        "\n",
        "sum = 0\n",
        "for line in lines:\n",
        "  score = int(line)\n",
        "  sum += score\n",
        "average = sum/len(lines)\n",
        "\n",
        "with open(\"result.txt\",'w') as f:\n",
        "  f.write(str(sum))\n",
        "  f.write(str(\"\\n\"))\n",
        "  f.write(str(average))\n",
        "\n",
        "with open(\"result.txt\",'r') as f:\n",
        "  lines2 = f.read()\n",
        "  print(lines2)\n"
      ],
      "execution_count": 160,
      "outputs": [
        {
          "output_type": "stream",
          "text": [
            "790\n",
            "79.0\n"
          ],
          "name": "stdout"
        }
      ]
    },
    {
      "cell_type": "markdown",
      "metadata": {
        "colab_type": "text",
        "id": "anwB_DjuK60j"
      },
      "source": [
        "## Q10. 사칙연산 계산기\n",
        "> 다음과 같이 동작하는 클래스 Calculator를 작성하시오.\n",
        "```\n",
        ">>> cal1 = Calculator([1,2,3,4,5])\n",
        ">>> cal1.sum() # 합계\n",
        "15\n",
        ">>> cal1.avg() # 평균\n",
        "3.0\n",
        ">>> cal2 = Calculator([6,7,8,9,10])\n",
        ">>> cal2.sum() # 합계\n",
        "40\n",
        ">>> cal2.avg() # 평균\n",
        "8.0\n",
        "```\n"
      ]
    },
    {
      "cell_type": "code",
      "metadata": {
        "colab_type": "code",
        "id": "QJTNoSqtMrIM",
        "colab": {
          "base_uri": "https://localhost:8080/",
          "height": 88
        },
        "outputId": "a602648a-dee2-4879-fd81-daa47a01933b"
      },
      "source": [
        "# [Q10] Code-1\n",
        "class Calculator:\n",
        "  def __init__(self, numList):\n",
        "    self.numList = numList\n",
        "  def add(self):\n",
        "    result = 0\n",
        "    for num in self.numList:\n",
        "      result += num\n",
        "    return result\n",
        "  def avg(self):\n",
        "    total = self.add()\n",
        "    return total/len(self.numList)\n",
        "\n",
        "cal1 = Calculator([1,2,3,4,5])\n",
        "print(cal1.add())\n",
        "print(cal1.avg())\n",
        "\n",
        "cal2 = Calculator([6,7,8,9,10])\n",
        "print(cal2.add())\n",
        "print(cal2.avg())"
      ],
      "execution_count": 161,
      "outputs": [
        {
          "output_type": "stream",
          "text": [
            "15\n",
            "3.0\n",
            "40\n",
            "8.0\n"
          ],
          "name": "stdout"
        }
      ]
    },
    {
      "cell_type": "code",
      "metadata": {
        "colab_type": "code",
        "id": "91hia3WgH2gW",
        "colab": {
          "base_uri": "https://localhost:8080/",
          "height": 88
        },
        "outputId": "64098efe-7c17-48db-fdae-ce3b01a8c3e4"
      },
      "source": [
        "# [Q10] Code-2\n",
        "class Calculator:\n",
        "  def __init__(self, number):\n",
        "    self.number = number\n",
        "\n",
        "  def add(self):\n",
        "    result = 0\n",
        "    for num in self.number:\n",
        "      result += num\n",
        "    return result\n",
        "class UpgradeCalculator(Calculator):\n",
        "  def avg(self):\n",
        "    result = self.add()\n",
        "    return result / len(self.number)\n",
        "\n",
        "cal1 = UpgradeCalculator([1,2,3,4,5])\n",
        "print(cal1.add())\n",
        "print(cal1.avg())\n",
        "\n",
        "cal2 = UpgradeCalculator([6,7,8,9,10])\n",
        "print(cal2.add())\n",
        "print(cal2.avg())"
      ],
      "execution_count": 162,
      "outputs": [
        {
          "output_type": "stream",
          "text": [
            "15\n",
            "3.0\n",
            "40\n",
            "8.0\n"
          ],
          "name": "stdout"
        }
      ]
    },
    {
      "cell_type": "markdown",
      "metadata": {
        "id": "gNnjBaJvH_51",
        "colab_type": "text"
      },
      "source": [
        "\n",
        "\n",
        "---\n",
        "\n",
        "\n"
      ]
    },
    {
      "cell_type": "markdown",
      "metadata": {
        "colab_type": "text",
        "id": "8xQf6xJ4K7M_"
      },
      "source": [
        "## Q11. 모듈 사용 방법\n",
        "> ./doit 디렉터리에 mymod.py 파이썬 모듈이 있다고 가정해 보자. 명령 프롬프트 창에서 파이썬 셸을 열어 이 모듈을 import해서 사용할 수 있는 방법을 모두 기술하시오. (즉 다음과 같이 import mymod를 수행할 때 오류가 없어야 한다.)\n",
        "```\n",
        ">>> import mymod\n",
        ">>>\n",
        "```"
      ]
    },
    {
      "cell_type": "code",
      "metadata": {
        "colab_type": "code",
        "id": "4zv7LXPjJiCH",
        "colab": {}
      },
      "source": [
        "!mkdir doit\n",
        "# 실행 후 새로 고침!\n",
        "# mymod.py 를 업로드한다."
      ],
      "execution_count": 163,
      "outputs": []
    },
    {
      "cell_type": "code",
      "metadata": {
        "colab_type": "code",
        "id": "JA_3n4g8JiB7",
        "colab": {
          "base_uri": "https://localhost:8080/",
          "height": 35
        },
        "outputId": "d9c87cb5-537b-483f-f00d-03d7688545b1"
      },
      "source": [
        "!mv mymod.py ./doit\n",
        "# 실행 후 새로 고침!"
      ],
      "execution_count": 165,
      "outputs": [
        {
          "output_type": "stream",
          "text": [
            "mv: cannot stat 'mymod.py': No such file or directory\n"
          ],
          "name": "stdout"
        }
      ]
    },
    {
      "cell_type": "code",
      "metadata": {
        "colab_type": "code",
        "id": "UCO7aRh5Msx6",
        "colab": {}
      },
      "source": [
        "# [Q11] Code-1\n",
        "import sys\n",
        "sys.path.append(\"/content/doit\")\n",
        "import mymod"
      ],
      "execution_count": 168,
      "outputs": []
    },
    {
      "cell_type": "code",
      "metadata": {
        "colab_type": "code",
        "id": "aX_wLb53IgUl",
        "colab": {}
      },
      "source": [
        "# [Q11] Code-2\n",
        "from doit import mymod"
      ],
      "execution_count": 169,
      "outputs": []
    },
    {
      "cell_type": "markdown",
      "metadata": {
        "colab_type": "text",
        "id": "Q6QYCZ9HM3DW"
      },
      "source": [
        "## Q12. 오류와 예외 처리\n",
        "> 다음 코드의 실행 결과를 예측하고 그 이유에 대해 설명하시오.\n",
        "\n",
        "```\n",
        "result = 0\n",
        "\n",
        "try:\n",
        "    [1, 2, 3][3]\n",
        "    \"a\"+1\n",
        "    4 / 0\n",
        "except TypeError:\n",
        "    result += 1\n",
        "except ZeroDivisionError:\n",
        "    result += 2\n",
        "except IndexError:\n",
        "    result += 3\n",
        "finally:\n",
        "    result += 4\n",
        "\n",
        "print(result)\n",
        "```\n"
      ]
    },
    {
      "cell_type": "code",
      "metadata": {
        "id": "hDf0Js4KLOrl",
        "colab_type": "code",
        "colab": {
          "base_uri": "https://localhost:8080/",
          "height": 35
        },
        "outputId": "8941ccac-84aa-4c95-e20e-5ccbcc7b68aa"
      },
      "source": [
        "# [Q12] Explain (코드와 주석으로 설명하시오)\n",
        "result = 0 # result 초기값 0지정.\n",
        "\n",
        "try:\n",
        "    [1, 2, 3][3] # IndexError가 발생한다.\n",
        "    \"a\"+1\n",
        "     4 / 0\n",
        "except TypeError: # 발생오류만 포함한 except문으로 오류가 발생했을 때 except문에\n",
        "    result += 1   # 미리 정해 놓은 오류 이름과 일치할 때만 except블록을 수행한다.\n",
        "except ZeroDivisionError:\n",
        "    result += 2\n",
        "except IndexError: # IndexError발생함으로 result에 3값이 더해짐.\n",
        "    result += 3\n",
        "finally: # finally 구문이 실행되어 result에 최종적으로 7값이 저장됨,\n",
        "    result += 4\n",
        "\n",
        "print(result) # 7값 출력."
      ],
      "execution_count": 170,
      "outputs": [
        {
          "output_type": "stream",
          "text": [
            "7\n"
          ],
          "name": "stdout"
        }
      ]
    },
    {
      "cell_type": "markdown",
      "metadata": {
        "colab_type": "text",
        "id": "x2IYgozSM3gd"
      },
      "source": [
        "## Q13. DashInsert 함수\n",
        "> DashInsert 함수는 숫자로 구성된 문자열을 입력받은 뒤 문자열 안에서 홀수가 연속되면 두 수 사이에 - 를 추가하고, 짝수가 연속되면 * 를 추가하는 기능을 갖고 있다. DashInsert 함수를 완성하시오.\n",
        "```\n",
        "입력 예시: 4546793\n",
        "출력 예시: 454*67-9-3\n",
        "```\n"
      ]
    },
    {
      "cell_type": "code",
      "metadata": {
        "colab_type": "code",
        "id": "FiKNOu9HM3DX",
        "colab": {
          "base_uri": "https://localhost:8080/",
          "height": 35
        },
        "outputId": "1238bc71-7d58-4805-cecf-ac90043b905f"
      },
      "source": [
        "# [Q13] Code-1\n",
        "data = \"4546793\"\n",
        "numbers = list(map(int, data))   # 숫자 문자열을 숫자 리스트로 변경힘.\n",
        "result = []\n",
        "\n",
        "for i, num in enumerate(numbers):\n",
        "    result.append(str(num))\n",
        "    if i < len(numbers)-1:               \n",
        "        is_odd = num % 2 == 1                # 현재 숫자가 홀수일때\n",
        "        is_next_odd = numbers[i+1] % 2 == 1  # 다음 수가 홀수일때\n",
        "        if is_odd and is_next_odd:           # 연속 홀수시\n",
        "            result.append(\"-\")\n",
        "        elif not is_odd and not is_next_odd: # 연속 짝수시\n",
        "            result.append(\"*\")\n",
        "\n",
        "print(\"\".join(result))"
      ],
      "execution_count": 174,
      "outputs": [
        {
          "output_type": "stream",
          "text": [
            "454*67-9-3\n"
          ],
          "name": "stdout"
        }
      ]
    },
    {
      "cell_type": "code",
      "metadata": {
        "colab_type": "code",
        "id": "d_hmy1RZLqBg",
        "colab": {}
      },
      "source": [
        "# [Q13] Code-2\n",
        "\n"
      ],
      "execution_count": null,
      "outputs": []
    },
    {
      "cell_type": "markdown",
      "metadata": {
        "colab_type": "text",
        "id": "HDbz71sNL2Qt"
      },
      "source": [
        "## Q14. 문자열 압축하기\n",
        "> 문자열을 입력받아 같은 문자가 연속적으로 반복되는 경우에 그 반복 횟수를 표시해 문자열을 압축하여 표시하시오.\n",
        "```\n",
        "입력 예시: aaabbcccccca\n",
        "출력 예시: a3b2c6a1\n",
        "```\n",
        "\n"
      ]
    },
    {
      "cell_type": "code",
      "metadata": {
        "colab_type": "code",
        "id": "Hs88sVjjL2Qw",
        "colab": {
          "base_uri": "https://localhost:8080/",
          "height": 35
        },
        "outputId": "7c04c437-bef2-4d31-f95f-567135e7ebec"
      },
      "source": [
        "# [Q14] Code-1\n",
        "s = 'aabbbbcccd'\n",
        "result = s[0]  # 첫번째 값을 결과에 넣는다\n",
        "count  = 0\n",
        "\n",
        "for st in s:\n",
        "    if st == result[-1]:\n",
        "        count += 1\n",
        "    else:\n",
        "        result += str(count) + st\n",
        "        count = 1\n",
        "result += str(count)\n",
        "\n",
        "print(result)"
      ],
      "execution_count": 177,
      "outputs": [
        {
          "output_type": "stream",
          "text": [
            "a2b4c3d1\n"
          ],
          "name": "stdout"
        }
      ]
    },
    {
      "cell_type": "code",
      "metadata": {
        "colab_type": "code",
        "id": "XF4F0DW0L2Q1",
        "colab": {
          "base_uri": "https://localhost:8080/",
          "height": 35
        },
        "outputId": "d3adf784-e17d-4d43-cfd1-1004d01439b8"
      },
      "source": [
        "# [Q14] Code-2\n",
        "def zip(sentence):\n",
        "    count = 0   # 문자를 세기 위한 변수\n",
        "    next = \"\"   # sentence가 달라지는 곳을 감지하는 수단\n",
        "    result = \"\" # 결과를 저장하는 공간\n",
        "    for i in sentence:\n",
        "        if next != i:\n",
        "            next = i\n",
        "            if count:\n",
        "                result += str(count)\n",
        "            result += i\n",
        "            count = 1\n",
        "        else:\n",
        "            count += 1\n",
        "    if count:\n",
        "        result += str(count)\n",
        "    return result\n",
        "\n",
        "sentence = 'aaabbcccccca'\n",
        "print(zip(sentence))"
      ],
      "execution_count": 182,
      "outputs": [
        {
          "output_type": "stream",
          "text": [
            "a3b2c6a1\n"
          ],
          "name": "stdout"
        }
      ]
    },
    {
      "cell_type": "markdown",
      "metadata": {
        "colab_type": "text",
        "id": "tCF274jtL3Vk"
      },
      "source": [
        "## Q15. Duplicate Numbers\n",
        "> 0 ~ 9의 문자로 된 숫자를 입력받았을 때, 이 입력값이 0 ~ 9의 모든 숫자를 각각 한 번씩만 사용한 것인지 확인하는 함수를 작성하시오.\n",
        "```\n",
        "입력 예시: 0123456789 01234 01234567890 6789012345 012322456789\n",
        "출력 예시: true false false true false\n",
        "```\n"
      ]
    },
    {
      "cell_type": "code",
      "metadata": {
        "colab_type": "code",
        "id": "3uQFw6jGL3Vm",
        "colab": {
          "base_uri": "https://localhost:8080/",
          "height": 106
        },
        "outputId": "db3791b5-cad1-4017-9542-ea773e2bf6ca"
      },
      "source": [
        "# [Q15] Code-1\n",
        "def chkDupNum(s):\n",
        "  result = []\n",
        "  for num in s:\n",
        "    if num in result:\n",
        "      return False\n",
        "    else:\n",
        "      result.append(num)\n",
        "  return len(result) == 10\n",
        "\n",
        "print(chkDupNum(\"0123456789\"))      # True 리턴\n",
        "print(chkDupNum(\"01234\"))           # False 리턴\n",
        "print(chkDupNum(\"01234567890\"))     # False 리턴\n",
        "print(chkDupNum(\"6789012345\"))      # True 리턴\n",
        "print(chkDupNum(\"012322456789\"))  "
      ],
      "execution_count": 184,
      "outputs": [
        {
          "output_type": "stream",
          "text": [
            "True\n",
            "False\n",
            "False\n",
            "True\n",
            "False\n"
          ],
          "name": "stdout"
        }
      ]
    },
    {
      "cell_type": "code",
      "metadata": {
        "colab_type": "code",
        "id": "Bdt_UGgZL3Vr",
        "colab": {}
      },
      "source": [
        "# [Q15] Code-2\n",
        "\n"
      ],
      "execution_count": null,
      "outputs": []
    },
    {
      "cell_type": "markdown",
      "metadata": {
        "colab_type": "text",
        "id": "QdPWKi1gL4UE"
      },
      "source": [
        "## Q16. 모스 부호 해독\n",
        "> 문자열 형식으로 입력받은 모스 부호(dot:. dash:-)를 해독하여 영어 문장으로 출력하는 프로그램을 작성하시오.\n",
        "\n",
        "- 글자와 글자 사이는 공백 1개, 단어와 단어 사이는 공백 2개로 구분한다.\n",
        "- 예를 들어 다음 모스 부호는 \"HE SLEEPS EARLY\"로 해석해야 한다.\n",
        "```\n",
        ".... .  ... .-.. . . .--. ...  . .- .-. .-.. -.--\n",
        "```\n",
        "> 모스부호 규칙 표\n",
        "```\n",
        "문자 부호\t문자   부호\n",
        "A\t .-\t    N\t    -.\n",
        "B\t -...\tO\t    ---\n",
        "C\t -.-.\tP\t    .--.\n",
        "D\t -..\tQ\t    --.-\n",
        "E\t .\t    R\t    .-.\n",
        "F\t ..-.\tS\t    ...\n",
        "G\t --.\tT\t    -\n",
        "H\t ....\tU\t    ..-\n",
        "I\t ..\t    V\t    ...-\n",
        "J\t .---\tW\t    .--\n",
        "K\t -.-\tX\t    -..-\n",
        "L\t .-..\tY\t    -.--\n",
        "M\t --\t    Z\t    --..\n",
        "```"
      ]
    },
    {
      "cell_type": "code",
      "metadata": {
        "colab_type": "code",
        "id": "ciZbyRFrL4UF",
        "colab": {
          "base_uri": "https://localhost:8080/",
          "height": 35
        },
        "outputId": "bbd39c5f-0630-495f-ba64-bf7d200c8082"
      },
      "source": [
        "# [Q16] Code-1\n",
        "a = {'':' ','.-':'A','-...':'B','-.-.':'C','-..':'D','.':'E','..-.':'F','--.':'G','....':'H','..':'I','.---':'J','-.-':'K','.-..':'L','--':'M','-.':'N','---':'O','.--.':'P','--.-':'Q','.-.':'R','...':'S','-':'T','..-':'U','...-':'V','.--':'W','-..-':'X','-.--':'Y','--..':'Z'}\n",
        "morse = \".... .  ... .-.. . . .--. ...  . .- .-. .-.. -.--\"\n",
        "words = morse.split(\" \")\n",
        "for i in words:\n",
        "    print(a[i],end=\"\")\n"
      ],
      "execution_count": 183,
      "outputs": [
        {
          "output_type": "stream",
          "text": [
            "HE SLEEPS EARLY"
          ],
          "name": "stdout"
        }
      ]
    },
    {
      "cell_type": "code",
      "metadata": {
        "colab_type": "code",
        "id": "x9-Qq3mVL4UJ",
        "colab": {}
      },
      "source": [
        "# [Q16] Code-2\n",
        "\n"
      ],
      "execution_count": null,
      "outputs": []
    },
    {
      "cell_type": "markdown",
      "metadata": {
        "id": "om4sRiRhMosn",
        "colab_type": "text"
      },
      "source": [
        "\n",
        "\n",
        "---\n",
        "\n",
        "# 다음 정규식 문제는 기말고사 후에 도전해 보세요."
      ]
    },
    {
      "cell_type": "markdown",
      "metadata": {
        "id": "nazB2KXYOm5R",
        "colab_type": "text"
      },
      "source": [
        "## Regular Expression\n",
        "- import re"
      ]
    },
    {
      "cell_type": "markdown",
      "metadata": {
        "colab_type": "text",
        "id": "AN8kEO30L5NE"
      },
      "source": [
        "## Q17. 기초 메타 문자\n",
        "> 다음 중 정규식 a[.]{3,}b과 매치되는 문자열은 무엇일까?\n",
        "\n",
        "\n",
        "```\n",
        "acccb\n",
        "a....b\n",
        "aaab\n",
        "a.cccb\n",
        "```\n"
      ]
    },
    {
      "cell_type": "code",
      "metadata": {
        "colab_type": "code",
        "id": "uKQWoUqhL5NG",
        "colab": {}
      },
      "source": [
        "# [Q17] Code\n",
        "\n"
      ],
      "execution_count": null,
      "outputs": []
    },
    {
      "cell_type": "markdown",
      "metadata": {
        "colab_type": "text",
        "id": "0dEWfwATL6DE"
      },
      "source": [
        "## Q18. 문자열 검색\n",
        "> 다음 코드의 결괏값은 무엇일까?\n",
        "\n",
        "```\n",
        ">>> import re\n",
        ">>> p = re.compile(\"[a-z]+\")\n",
        ">>> m = p.search(\"5 python\")\n",
        ">>> m.start() + m.end()\n",
        "```\n"
      ]
    },
    {
      "cell_type": "code",
      "metadata": {
        "colab_type": "code",
        "id": "Ip11Dmo7L6DH",
        "colab": {}
      },
      "source": [
        "# [Q18] Code\n",
        "\n"
      ],
      "execution_count": null,
      "outputs": []
    },
    {
      "cell_type": "markdown",
      "metadata": {
        "colab_type": "text",
        "id": "8QizaqrUL62E"
      },
      "source": [
        "## Q19. 그루핑\n",
        "> 다음과 같은 문자열에서 휴대폰 번호 뒷자리인 숫자 4개를 ####로 바꾸는 프로그램을 정규식을 사용하여 작성하시오.\n",
        "\n",
        "```\n",
        "park 010-9999-9988\n",
        "kim 010-9909-7789\n",
        "lee 010-8789-7768\n",
        "```\n"
      ]
    },
    {
      "cell_type": "code",
      "metadata": {
        "colab_type": "code",
        "id": "bfRvchIlL62H",
        "colab": {}
      },
      "source": [
        "# [Q19] Code\n",
        "\n"
      ],
      "execution_count": null,
      "outputs": []
    },
    {
      "cell_type": "markdown",
      "metadata": {
        "colab_type": "text",
        "id": "0DumiUQoL7jk"
      },
      "source": [
        "## Q20. 전방 탐색\n",
        "> 다음은 이메일 주소를 나타내는 정규식이다. 이 정규식은 park@naver.com, kim@daum.net, lee@myhome.co.kr 등과 매치된다. 긍정형 전방 탐색 기법을 사용하여 .com, .net이 아닌 이메일 주소는 제외시키는 정규식을 작성하시오.\n",
        "\n",
        "```\n",
        ".*[@].*[.].*$\n",
        "```\n"
      ]
    },
    {
      "cell_type": "code",
      "metadata": {
        "colab_type": "code",
        "id": "9S9UUOkFL7jl",
        "colab": {}
      },
      "source": [
        "# [Q20] Code\n",
        "\n"
      ],
      "execution_count": null,
      "outputs": []
    },
    {
      "cell_type": "markdown",
      "metadata": {
        "id": "2ljBDShkbqZO",
        "colab_type": "text"
      },
      "source": [
        "## 코딩 연습 결과를 github에 올리기\n",
        "> 완성된 ipython 노트북 파일을 각자의 github에 올리시오.\n",
        "\n",
        "- github 계정 만들기 (계정이 없는 학생)\n",
        "    1. github에 sign up (Google gmail 계정을 이용해서 만드시오.)\n",
        "- github에 노트 올리기\n",
        "    2. github에 각자의 id로 repo를 만드시오. (한번 만들면 계속 재사용)\n",
        "    3. github repo에 연습결과 노트를 올리시오.\n",
        "        - 제출노트: ch8_exercises_id.ipynb\n"
      ]
    },
    {
      "cell_type": "code",
      "metadata": {
        "id": "OnCR-YNCc8B6",
        "colab_type": "code",
        "colab": {}
      },
      "source": [
        ""
      ],
      "execution_count": null,
      "outputs": []
    }
  ]
}