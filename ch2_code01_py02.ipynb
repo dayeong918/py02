{
  "nbformat": 4,
  "nbformat_minor": 0,
  "metadata": {
    "colab": {
      "name": "ch2_code01_py02.ipynb",
      "provenance": [],
      "collapsed_sections": [],
      "include_colab_link": true
    },
    "kernelspec": {
      "name": "python3",
      "display_name": "Python 3"
    }
  },
  "cells": [
    {
      "cell_type": "markdown",
      "metadata": {
        "id": "view-in-github",
        "colab_type": "text"
      },
      "source": [
        "<a href=\"https://colab.research.google.com/github/dayeong918/py02/blob/master/ch2_code01_py02.ipynb\" target=\"_parent\"><img src=\"https://colab.research.google.com/assets/colab-badge.svg\" alt=\"Open In Colab\"/></a>"
      ]
    },
    {
      "cell_type": "markdown",
      "metadata": {
        "id": "H4jNE-BMAK3f",
        "colab_type": "text"
      },
      "source": [
        "# ch2_code01.ipynb\n",
        "## py02\n"
      ]
    },
    {
      "cell_type": "code",
      "metadata": {
        "id": "hTRRKc56En6p",
        "colab_type": "code",
        "outputId": "521b3d7d-26c8-4b7a-be2d-e26504a1da94",
        "colab": {
          "base_uri": "https://localhost:8080/",
          "height": 55
        }
      },
      "source": [
        "# ch2_01_numeric.py\n",
        "#\n",
        "print(\"숫자형: 정수\") # 동적타이핑(Dynamic typing) 변수값미리지정X\n",
        "a = 123  \n",
        "a = -178 #a에 맨 마지막으로 바뀐 수가 출력된다.\n",
        "# a = 0\n",
        "#a\n",
        "print(a)"
      ],
      "execution_count": 0,
      "outputs": [
        {
          "output_type": "stream",
          "text": [
            "숫자형: 정수\n",
            "-178\n"
          ],
          "name": "stdout"
        }
      ]
    },
    {
      "cell_type": "code",
      "metadata": {
        "id": "YJcXGX-_FA7S",
        "colab_type": "code",
        "outputId": "0731bb20-accc-4631-86a7-145744b1c68e",
        "colab": {
          "base_uri": "https://localhost:8080/",
          "height": 232
        }
      },
      "source": [
        "a1 = 123\n",
        "a2 = -178\n",
        "a3 = 0\n",
        "#a1,a2,a3 #이때 출력값 = (123, -178, 0)\n",
        "print(a1,a2,a3) #특정한 수를 출력할 때 print 사용\n",
        "a "
      ],
      "execution_count": 0,
      "outputs": [
        {
          "output_type": "stream",
          "text": [
            "123 -178 0\n"
          ],
          "name": "stdout"
        },
        {
          "output_type": "error",
          "ename": "NameError",
          "evalue": "ignored",
          "traceback": [
            "\u001b[0;31m---------------------------------------------------------------------------\u001b[0m",
            "\u001b[0;31mNameError\u001b[0m                                 Traceback (most recent call last)",
            "\u001b[0;32m<ipython-input-8-fdcf86d1dc72>\u001b[0m in \u001b[0;36m<module>\u001b[0;34m()\u001b[0m\n\u001b[1;32m      4\u001b[0m \u001b[0;31m#a1,a2,a3 #이때 출력값 = (123, -178, 0)\u001b[0m\u001b[0;34m\u001b[0m\u001b[0;34m\u001b[0m\u001b[0;34m\u001b[0m\u001b[0m\n\u001b[1;32m      5\u001b[0m \u001b[0mprint\u001b[0m\u001b[0;34m(\u001b[0m\u001b[0ma1\u001b[0m\u001b[0;34m,\u001b[0m\u001b[0ma2\u001b[0m\u001b[0;34m,\u001b[0m\u001b[0ma3\u001b[0m\u001b[0;34m)\u001b[0m \u001b[0;31m#특정한 수를 출력할 때 print 사용\u001b[0m\u001b[0;34m\u001b[0m\u001b[0;34m\u001b[0m\u001b[0m\n\u001b[0;32m----> 6\u001b[0;31m \u001b[0ma\u001b[0m\u001b[0;34m\u001b[0m\u001b[0;34m\u001b[0m\u001b[0m\n\u001b[0m",
            "\u001b[0;31mNameError\u001b[0m: name 'a' is not defined"
          ]
        }
      ]
    },
    {
      "cell_type": "code",
      "metadata": {
        "id": "PBkKOqgxFnCL",
        "colab_type": "code",
        "outputId": "5670d29d-3533-4c79-da2a-7d61448a159f",
        "colab": {
          "base_uri": "https://localhost:8080/",
          "height": 176
        }
      },
      "source": [
        "print(\"a1 = \", a1)"
      ],
      "execution_count": 0,
      "outputs": [
        {
          "output_type": "error",
          "ename": "NameError",
          "evalue": "ignored",
          "traceback": [
            "\u001b[0;31m---------------------------------------------------------------------------\u001b[0m",
            "\u001b[0;31mNameError\u001b[0m                                 Traceback (most recent call last)",
            "\u001b[0;32m<ipython-input-7-43db8fafba33>\u001b[0m in \u001b[0;36m<module>\u001b[0;34m()\u001b[0m\n\u001b[0;32m----> 1\u001b[0;31m \u001b[0mprint\u001b[0m\u001b[0;34m(\u001b[0m\u001b[0;34m\"a1 = \"\u001b[0m\u001b[0;34m,\u001b[0m \u001b[0ma1\u001b[0m\u001b[0;34m)\u001b[0m\u001b[0;34m\u001b[0m\u001b[0;34m\u001b[0m\u001b[0m\n\u001b[0m",
            "\u001b[0;31mNameError\u001b[0m: name 'a1' is not defined"
          ]
        }
      ]
    },
    {
      "cell_type": "markdown",
      "metadata": {
        "id": "egOnOEwqHKX1",
        "colab_type": "text"
      },
      "source": [
        "### 다음과 같이 출력해 보세요.\n",
        "> a1 = 123 a2 = -179 a3 = 0"
      ]
    },
    {
      "cell_type": "code",
      "metadata": {
        "id": "GvYJQwYAGP11",
        "colab_type": "code",
        "outputId": "7196ba37-e630-48a7-8610-3acc85d4f945",
        "colab": {
          "base_uri": "https://localhost:8080/",
          "height": 176
        }
      },
      "source": [
        "print(\"a1 = \",a1,\" , a2 = \",a2,\", a3 = \",a3)"
      ],
      "execution_count": 0,
      "outputs": [
        {
          "output_type": "error",
          "ename": "NameError",
          "evalue": "ignored",
          "traceback": [
            "\u001b[0;31m---------------------------------------------------------------------------\u001b[0m",
            "\u001b[0;31mNameError\u001b[0m                                 Traceback (most recent call last)",
            "\u001b[0;32m<ipython-input-3-65a854f1b3f1>\u001b[0m in \u001b[0;36m<module>\u001b[0;34m()\u001b[0m\n\u001b[0;32m----> 1\u001b[0;31m \u001b[0mprint\u001b[0m\u001b[0;34m(\u001b[0m\u001b[0;34m\"a1 = \"\u001b[0m\u001b[0;34m,\u001b[0m\u001b[0ma1\u001b[0m\u001b[0;34m,\u001b[0m\u001b[0;34m\" , a2 = \"\u001b[0m\u001b[0;34m,\u001b[0m\u001b[0ma2\u001b[0m\u001b[0;34m,\u001b[0m\u001b[0;34m\", a3 = \"\u001b[0m\u001b[0;34m,\u001b[0m\u001b[0ma3\u001b[0m\u001b[0;34m)\u001b[0m\u001b[0;34m\u001b[0m\u001b[0;34m\u001b[0m\u001b[0m\n\u001b[0m",
            "\u001b[0;31mNameError\u001b[0m: name 'a1' is not defined"
          ]
        }
      ]
    },
    {
      "cell_type": "markdown",
      "metadata": {
        "id": "UpqHpfnCHQuP",
        "colab_type": "text"
      },
      "source": [
        "### 숫자형: 실수\n",
        "> 파이썬에서 실수를 표현해보자."
      ]
    },
    {
      "cell_type": "code",
      "metadata": {
        "id": "sK2taqMDDYkz",
        "colab_type": "code",
        "outputId": "7b184b25-f934-4dc8-8cda-a409547b3238",
        "colab": {
          "base_uri": "https://localhost:8080/",
          "height": 55
        }
      },
      "source": [
        "print(\"숫자형: 실수\")\n",
        "a1 = 1.2\n",
        "a2 = -3.48\n",
        "a3 = 4.24e10\n",
        "a4 = 4.24e-10\n",
        "a1,a2,a3,a4"
      ],
      "execution_count": 0,
      "outputs": [
        {
          "output_type": "stream",
          "text": [
            "숫자형: 실수\n"
          ],
          "name": "stdout"
        },
        {
          "output_type": "execute_result",
          "data": {
            "text/plain": [
              "(1.2, -3.48, 42400000000.0, 4.24e-10)"
            ]
          },
          "metadata": {
            "tags": []
          },
          "execution_count": 13
        }
      ]
    },
    {
      "cell_type": "code",
      "metadata": {
        "id": "9geua08XGzkA",
        "colab_type": "code",
        "outputId": "4c078a63-03a0-4e31-c982-c6e026519272",
        "colab": {
          "base_uri": "https://localhost:8080/",
          "height": 92
        }
      },
      "source": [
        "print(\"숫자형: 8진수와 16진수\")\n",
        "a = 0o177\n",
        "print(a)\n",
        "a = 0x8FF  # Hexadecimal : 16진수, 0 ~ F(0~15:16개)\n",
        "print(a)\n",
        "a = 0xABC\n",
        "a"
      ],
      "execution_count": 0,
      "outputs": [
        {
          "output_type": "stream",
          "text": [
            "숫자형: 8진수와 16진수\n",
            "127\n",
            "2303\n"
          ],
          "name": "stdout"
        },
        {
          "output_type": "execute_result",
          "data": {
            "text/plain": [
              "2748"
            ]
          },
          "metadata": {
            "tags": []
          },
          "execution_count": 15
        }
      ]
    },
    {
      "cell_type": "markdown",
      "metadata": {
        "id": "rJ_Aqb19IvLS",
        "colab_type": "text"
      },
      "source": [
        "### 숫자형: 연산자와 연산"
      ]
    },
    {
      "cell_type": "code",
      "metadata": {
        "id": "m9hXy-sgHs0Q",
        "colab_type": "code",
        "colab": {}
      },
      "source": [
        "print(\"숫자형: 연산자와 연산\")\n",
        "a = 3\n",
        "b = 4\n",
        "a + b\n",
        "a * b\n",
        "a / b\n",
        "\n"
      ],
      "execution_count": 0,
      "outputs": []
    },
    {
      "cell_type": "code",
      "metadata": {
        "id": "sRXQ1Gg_Juen",
        "colab_type": "code",
        "outputId": "8c634f3e-9a4c-4e59-d461-f636e036e084",
        "colab": {
          "base_uri": "https://localhost:8080/",
          "height": 251
        }
      },
      "source": [
        "print(a ** b)\n",
        "print(a % b)\n",
        "print(b % a)\n",
        "a // b\n"
      ],
      "execution_count": 0,
      "outputs": [
        {
          "output_type": "error",
          "ename": "NameError",
          "evalue": "ignored",
          "traceback": [
            "\u001b[0;31m---------------------------------------------------------------------------\u001b[0m",
            "\u001b[0;31mNameError\u001b[0m                                 Traceback (most recent call last)",
            "\u001b[0;32m<ipython-input-16-1ededcd656f3>\u001b[0m in \u001b[0;36m<module>\u001b[0;34m()\u001b[0m\n\u001b[0;32m----> 1\u001b[0;31m \u001b[0mprint\u001b[0m\u001b[0;34m(\u001b[0m\u001b[0ma\u001b[0m \u001b[0;34m**\u001b[0m \u001b[0mb\u001b[0m\u001b[0;34m)\u001b[0m\u001b[0;34m\u001b[0m\u001b[0;34m\u001b[0m\u001b[0m\n\u001b[0m\u001b[1;32m      2\u001b[0m \u001b[0mprint\u001b[0m\u001b[0;34m(\u001b[0m\u001b[0ma\u001b[0m \u001b[0;34m%\u001b[0m \u001b[0mb\u001b[0m\u001b[0;34m)\u001b[0m\u001b[0;34m\u001b[0m\u001b[0;34m\u001b[0m\u001b[0m\n\u001b[1;32m      3\u001b[0m \u001b[0mprint\u001b[0m\u001b[0;34m(\u001b[0m\u001b[0mb\u001b[0m \u001b[0;34m%\u001b[0m \u001b[0ma\u001b[0m\u001b[0;34m)\u001b[0m\u001b[0;34m\u001b[0m\u001b[0;34m\u001b[0m\u001b[0m\n\u001b[1;32m      4\u001b[0m \u001b[0ma\u001b[0m \u001b[0;34m//\u001b[0m \u001b[0mb\u001b[0m\u001b[0;34m\u001b[0m\u001b[0;34m\u001b[0m\u001b[0m\n\u001b[1;32m      5\u001b[0m \u001b[0;34m\u001b[0m\u001b[0m\n",
            "\u001b[0;31mNameError\u001b[0m: name 'b' is not defined"
          ]
        }
      ]
    },
    {
      "cell_type": "code",
      "metadata": {
        "id": "iwplErEBKAiU",
        "colab_type": "code",
        "outputId": "96a2ee65-808a-4861-cb0a-3acfef382fec",
        "colab": {
          "base_uri": "https://localhost:8080/",
          "height": 36
        }
      },
      "source": [
        "14 // 3 , 14 % 3  #추플데이터형 한묶음으로 묶어줌\n"
      ],
      "execution_count": 0,
      "outputs": [
        {
          "output_type": "execute_result",
          "data": {
            "text/plain": [
              "(4, 2)"
            ]
          },
          "metadata": {
            "tags": []
          },
          "execution_count": 22
        }
      ]
    },
    {
      "cell_type": "code",
      "metadata": {
        "id": "VCfZxi6DJ-rP",
        "colab_type": "code",
        "colab": {}
      },
      "source": [
        ""
      ],
      "execution_count": 0,
      "outputs": []
    },
    {
      "cell_type": "markdown",
      "metadata": {
        "id": "I_GLou_YMvp9",
        "colab_type": "text"
      },
      "source": [
        "## 문자열 정의와 출력"
      ]
    },
    {
      "cell_type": "code",
      "metadata": {
        "id": "dRkzQjiyEnq7",
        "colab_type": "code",
        "outputId": "44407869-ae65-427a-9877-f60dff56424e",
        "colab": {
          "base_uri": "https://localhost:8080/",
          "height": 55
        }
      },
      "source": [
        "# ch2_02_string.py\n",
        "# \"Life is too short, you need python\"\n",
        "# 'Life is too short, you need python'\n",
        "# \"\"\"Life is too short, you need python\"\"\"\n",
        "# '''Life is too short, you need python'''\n",
        "\n",
        "print(\"문자열: '\")\n",
        "food = \"Python's favorite food is perl\"\n",
        "food"
      ],
      "execution_count": 0,
      "outputs": [
        {
          "output_type": "stream",
          "text": [
            "문자열: '\n"
          ],
          "name": "stdout"
        },
        {
          "output_type": "execute_result",
          "data": {
            "text/plain": [
              "\"Python's favorite food is perl\""
            ]
          },
          "metadata": {
            "tags": []
          },
          "execution_count": 23
        }
      ]
    },
    {
      "cell_type": "code",
      "metadata": {
        "id": "0DvtBdvlNY9c",
        "colab_type": "code",
        "outputId": "ce7c7a1a-3bbc-4817-b299-ff1bec7ed516",
        "colab": {
          "base_uri": "https://localhost:8080/",
          "height": 139
        }
      },
      "source": [
        "food = 'Python's favorite food is perl'  # Error"
      ],
      "execution_count": 0,
      "outputs": [
        {
          "output_type": "error",
          "ename": "SyntaxError",
          "evalue": "ignored",
          "traceback": [
            "\u001b[0;36m  File \u001b[0;32m\"<ipython-input-24-f53082fb6fe1>\"\u001b[0;36m, line \u001b[0;32m1\u001b[0m\n\u001b[0;31m    food = 'Python's favorite food is perl'  # Error\u001b[0m\n\u001b[0m                   ^\u001b[0m\n\u001b[0;31mSyntaxError\u001b[0m\u001b[0;31m:\u001b[0m invalid syntax\n"
          ]
        }
      ]
    },
    {
      "cell_type": "code",
      "metadata": {
        "id": "QYUB13kfOkqr",
        "colab_type": "code",
        "outputId": "5c89ba4c-8db0-4faa-cd0d-442f44a888a2",
        "colab": {
          "base_uri": "https://localhost:8080/",
          "height": 36
        }
      },
      "source": [
        "food = \"Python's favorite food is perl\"\n",
        "food"
      ],
      "execution_count": 0,
      "outputs": [
        {
          "output_type": "execute_result",
          "data": {
            "text/plain": [
              "\"Python's favorite food is perl\""
            ]
          },
          "metadata": {
            "tags": []
          },
          "execution_count": 26
        }
      ]
    },
    {
      "cell_type": "code",
      "metadata": {
        "id": "cYJk1tMnN-MC",
        "colab_type": "code",
        "outputId": "8bb9631d-09f8-4a82-ba19-4cd82c3e535e",
        "colab": {
          "base_uri": "https://localhost:8080/",
          "height": 36
        }
      },
      "source": [
        "say = '\"Python is very easy.\" he says.'\n",
        "say"
      ],
      "execution_count": 0,
      "outputs": [
        {
          "output_type": "execute_result",
          "data": {
            "text/plain": [
              "'\"Python is very easy.\" he says.'"
            ]
          },
          "metadata": {
            "tags": []
          },
          "execution_count": 28
        }
      ]
    },
    {
      "cell_type": "code",
      "metadata": {
        "id": "s7nbnvOCPLnS",
        "colab_type": "code",
        "outputId": "abca1ec8-c23f-49fc-810b-97372e2783ff",
        "colab": {
          "base_uri": "https://localhost:8080/",
          "height": 92
        }
      },
      "source": [
        "print(\"문자열: \\ 이용\") # \\'(문자 작은따옴표로 표시됨) \n",
        "food = 'Python\\'s favorite food is perl'\n",
        "say = \"\\\"Python is very easy.\\\" he says.\"\n",
        "print(food)\n",
        "print(say)\n",
        "say #문자열변수로 인식 : ('작은따옴표로 감싸서 표시')"
      ],
      "execution_count": 0,
      "outputs": [
        {
          "output_type": "stream",
          "text": [
            "문자열: \\ 이용\n",
            "Python's favorite food is perl\n",
            "\"Python is very easy.\" he says.\n"
          ],
          "name": "stdout"
        },
        {
          "output_type": "execute_result",
          "data": {
            "text/plain": [
              "'\"Python is very easy.\" he says.'"
            ]
          },
          "metadata": {
            "tags": []
          },
          "execution_count": 30
        }
      ]
    },
    {
      "cell_type": "markdown",
      "metadata": {
        "id": "60Tu9I5CQaCz",
        "colab_type": "text"
      },
      "source": [
        "### 이스케이프 코드를 사용한 출력"
      ]
    },
    {
      "cell_type": "code",
      "metadata": {
        "id": "udnpClrTPfBC",
        "colab_type": "code",
        "outputId": "bad7a638-75f5-4e53-d928-dc41630a5150",
        "colab": {
          "base_uri": "https://localhost:8080/",
          "height": 73
        }
      },
      "source": [
        "# 이스케이프 코드 : print함수일때 사용가능\n",
        "print(\"문자열: 이스케이프 코드 이용\")\n",
        "multiline = \"Life is too short\\nYou need python\" #\\n : 줄바꿈\n",
        "#multiline #줄바꿈x 문자열로 Wn표시\n",
        "print(multiline) #줄바꿈o"
      ],
      "execution_count": 0,
      "outputs": [
        {
          "output_type": "stream",
          "text": [
            "문자열: 이스케이프 코드 이용\n",
            "Life is too short\n",
            "You need python\n"
          ],
          "name": "stdout"
        }
      ]
    },
    {
      "cell_type": "markdown",
      "metadata": {
        "id": "xmjYtnssROS-",
        "colab_type": "text"
      },
      "source": [
        "### 여러줄 문자열 처리\n",
        "- \"\"\".... \"\"\"\n",
        "- '''.... '''\n"
      ]
    },
    {
      "cell_type": "code",
      "metadata": {
        "id": "1szzsXTdQtMF",
        "colab_type": "code",
        "outputId": "4936ff73-98bf-45a7-82cb-d134a7a71a8b",
        "colab": {
          "base_uri": "https://localhost:8080/",
          "height": 223
        }
      },
      "source": [
        "# 여러줄 문자열 처리\n",
        "multiline = '''\n",
        "... Life is too short\n",
        "... You need python\n",
        "... '''\n",
        "multiline2 = \"\"\"\n",
        "인생은 짧고,\n",
        "파이썬은 필요하다.\n",
        "\"\"\"\n",
        "multiline3 = \"\"\"인생은 짧고, #줄바꿈이 바로 이루어짐\n",
        "파이썬은 필요하다.\n",
        "\"\"\"\n",
        "\n",
        "print(multiline)\n",
        "print(multiline2)\n",
        "print(multiline3)"
      ],
      "execution_count": 0,
      "outputs": [
        {
          "output_type": "stream",
          "text": [
            "\n",
            "Life is too short\n",
            "You need python\n",
            "\n",
            "\n",
            "인생은 짧고,\n",
            "파이썬은 필요하다.\n",
            "\n",
            "인생은 짧고,\n",
            "파이썬은 필요하다.\n",
            "\n"
          ],
          "name": "stdout"
        }
      ]
    },
    {
      "cell_type": "markdown",
      "metadata": {
        "id": "GBtdpeaySipa",
        "colab_type": "text"
      },
      "source": [
        "### 문자열 연산"
      ]
    },
    {
      "cell_type": "code",
      "metadata": {
        "id": "jpTNfawARjiS",
        "colab_type": "code",
        "outputId": "33fcb59a-9bd2-4726-cdb2-120b0bcf543e",
        "colab": {
          "base_uri": "https://localhost:8080/",
          "height": 55
        }
      },
      "source": [
        "################################################\n",
        "print(\"문자열 연산: 더하기\")\n",
        "head = \"Python\"\n",
        "tail = \" is fun!\"\n",
        "head + tail"
      ],
      "execution_count": 0,
      "outputs": [
        {
          "output_type": "stream",
          "text": [
            "문자열 연산: 더하기\n"
          ],
          "name": "stdout"
        },
        {
          "output_type": "execute_result",
          "data": {
            "text/plain": [
              "'Python is fun!'"
            ]
          },
          "metadata": {
            "tags": []
          },
          "execution_count": 38
        }
      ]
    },
    {
      "cell_type": "code",
      "metadata": {
        "id": "kNY2TpZzSomj",
        "colab_type": "code",
        "outputId": "77288dad-817c-4b82-f55d-9d7aab494df5",
        "colab": {
          "base_uri": "https://localhost:8080/",
          "height": 55
        }
      },
      "source": [
        "print(\"문자열 연산: 곱하기\")\n",
        "a = \"python\"\n",
        "a * 2"
      ],
      "execution_count": 0,
      "outputs": [
        {
          "output_type": "stream",
          "text": [
            "문자열 연산: 곱하기\n"
          ],
          "name": "stdout"
        },
        {
          "output_type": "execute_result",
          "data": {
            "text/plain": [
              "'pythonpython'"
            ]
          },
          "metadata": {
            "tags": []
          },
          "execution_count": 39
        }
      ]
    },
    {
      "cell_type": "code",
      "metadata": {
        "id": "YIx_nJsYS8lx",
        "colab_type": "code",
        "outputId": "8fbbec5a-96b5-4383-ed60-2f14c8a34443",
        "colab": {
          "base_uri": "https://localhost:8080/",
          "height": 73
        }
      },
      "source": [
        "#####################################\n",
        "# multistring.py\n",
        "print(\"=\" * 50)\n",
        "print(\"I am now coding Python!\")\n",
        "print(\"*\" * 50)\n",
        "#####################################"
      ],
      "execution_count": 0,
      "outputs": [
        {
          "output_type": "stream",
          "text": [
            "==================================================\n",
            "I am now coding Python!\n",
            "**************************************************\n"
          ],
          "name": "stdout"
        }
      ]
    },
    {
      "cell_type": "code",
      "metadata": {
        "id": "K-mx7GvPTHRL",
        "colab_type": "code",
        "outputId": "4ae903a4-ba6e-4855-ff8a-627ff5c44ede",
        "colab": {
          "base_uri": "https://localhost:8080/",
          "height": 55
        }
      },
      "source": [
        "# 내장함수: len()\n",
        "print(\"문자열 연산: 길이 구하기 - len()\")\n",
        "a = \"Life is too short.\"\n",
        "len(a)"
      ],
      "execution_count": 0,
      "outputs": [
        {
          "output_type": "stream",
          "text": [
            "문자열 연산: 길이 구하기 - len()\n"
          ],
          "name": "stdout"
        },
        {
          "output_type": "execute_result",
          "data": {
            "text/plain": [
              "18"
            ]
          },
          "metadata": {
            "tags": []
          },
          "execution_count": 43
        }
      ]
    },
    {
      "cell_type": "markdown",
      "metadata": {
        "id": "K-0QKJgkT33I",
        "colab_type": "text"
      },
      "source": [
        "### 문자열 인덱싱, 슬라이싱\n"
      ]
    },
    {
      "cell_type": "code",
      "metadata": {
        "id": "q2IRvX52TgJy",
        "colab_type": "code",
        "outputId": "c191b611-4190-48f8-9e89-f98e34d7a0ee",
        "colab": {
          "base_uri": "https://localhost:8080/",
          "height": 73
        }
      },
      "source": [
        "##################################### 제일중요한 하이라이트\n",
        "#\n",
        "# 문자열 인덱싱과 슬라이싱\n",
        "#\n",
        "##################################### 파이썬은 인덱스가 0부터 시작\n",
        "print(\"문자열: 인덱싱이란?\") \n",
        "a = \"Life is too short, You need Python\" # L=0, i=1 ```\n",
        "print(a[3])\n",
        "print(a[15])\n",
        "print(a[21]) #중간고사 (인덱스는 0부터 시작)"
      ],
      "execution_count": 0,
      "outputs": [
        {
          "output_type": "stream",
          "text": [
            "문자열: 인덱싱이란?\n",
            "e\n",
            "r\n"
          ],
          "name": "stdout"
        }
      ]
    },
    {
      "cell_type": "code",
      "metadata": {
        "id": "1KcQNsgoUIQ7",
        "colab_type": "code",
        "outputId": "ddca3cc5-a6ae-41e3-ae1c-d668256913f4",
        "colab": {
          "base_uri": "https://localhost:8080/",
          "height": 55
        }
      },
      "source": [
        "# \"파이썬은 0부터 숫자를 센다.\"\n",
        "print(\"문자열: 인덱싱 활용\")\n",
        "\n",
        "a = \"Life is too short, You need Python\"\n",
        "# a[0] # L\n",
        "\n",
        "# a[12] # s\n",
        "\n",
        "# a[-1] # n (끝에서부터 첫번째) 인벌스 인덱싱\n",
        "\n",
        "# a[-0] # L\n",
        "# a[-2] # o\n",
        "# a[-5] \n",
        "# a[-12]"
      ],
      "execution_count": 0,
      "outputs": [
        {
          "output_type": "stream",
          "text": [
            "문자열: 인덱싱 활용\n"
          ],
          "name": "stdout"
        },
        {
          "output_type": "execute_result",
          "data": {
            "text/plain": [
              "'L'"
            ]
          },
          "metadata": {
            "tags": []
          },
          "execution_count": 50
        }
      ]
    },
    {
      "cell_type": "code",
      "metadata": {
        "id": "1UhI2hchVPSg",
        "colab_type": "code",
        "outputId": "99866db8-d77b-4f22-e5d0-1bc972936851",
        "colab": {
          "base_uri": "https://localhost:8080/",
          "height": 55
        }
      },
      "source": [
        "#####################################\n",
        "print(\"문자열: 슬라이싱이란?\")\n",
        "a = \"Life is too short, You need Python\"\n",
        "# Life 를 뽑아낼려면 어떻게?\n",
        "b = a[0] + a[1] + a[2] + a[3]  # 문자열 뎌하기 연산 \"L\", \"i\" 일일히 하는 불편함 -> 슬라이싱 사용\n",
        "b"
      ],
      "execution_count": 0,
      "outputs": [
        {
          "output_type": "stream",
          "text": [
            "문자열: 슬라이싱이란?\n"
          ],
          "name": "stdout"
        },
        {
          "output_type": "execute_result",
          "data": {
            "text/plain": [
              "'Life'"
            ]
          },
          "metadata": {
            "tags": []
          },
          "execution_count": 51
        }
      ]
    },
    {
      "cell_type": "code",
      "metadata": {
        "id": "-QKo1gwWV2aN",
        "colab_type": "code",
        "outputId": "fb2e4827-7572-4ea4-9727-e7f97be9b76e",
        "colab": {
          "base_uri": "https://localhost:8080/",
          "height": 36
        }
      },
      "source": [
        "# slicing (슬라이싱)\n",
        "a[0:4]  # 0 <= index < 4"
      ],
      "execution_count": 0,
      "outputs": [
        {
          "output_type": "execute_result",
          "data": {
            "text/plain": [
              "'Life'"
            ]
          },
          "metadata": {
            "tags": []
          },
          "execution_count": 52
        }
      ]
    },
    {
      "cell_type": "code",
      "metadata": {
        "id": "m8w0Do_6WPyP",
        "colab_type": "code",
        "outputId": "7f4538db-fe09-4d7e-a9c5-b7016aa346c1",
        "colab": {
          "base_uri": "https://localhost:8080/",
          "height": 55
        }
      },
      "source": [
        "a[0:5]\n",
        "print(a[5:7])\n",
        "print(a[12:17])"
      ],
      "execution_count": 0,
      "outputs": [
        {
          "output_type": "stream",
          "text": [
            "n\n",
            "\n"
          ],
          "name": "stdout"
        }
      ]
    },
    {
      "cell_type": "code",
      "metadata": {
        "id": "2Hg64SvwWyP2",
        "colab_type": "code",
        "outputId": "1fe7998e-8794-4e70-d150-daba191e2bef",
        "colab": {
          "base_uri": "https://localhost:8080/",
          "height": 73
        }
      },
      "source": [
        " # : 의 사용\n",
        "print(a[:4]) #맨 처음부터 4까지(0~3)\n",
        "print(a[19:]) #인덱스 19부터 끝까지(18~끝)\n",
        "print(a[:17]) #처음부터 인덱스 17까지(0~16)"
      ],
      "execution_count": 0,
      "outputs": [
        {
          "output_type": "stream",
          "text": [
            "Pith\n",
            "\n",
            "Pithon\n"
          ],
          "name": "stdout"
        }
      ]
    },
    {
      "cell_type": "code",
      "metadata": {
        "id": "LqBRTN2iGVM3",
        "colab_type": "code",
        "colab": {
          "base_uri": "https://localhost:8080/",
          "height": 36
        },
        "outputId": "17665636-b920-4bf5-b5a3-90725c530ede"
      },
      "source": [
        "a = \"Life is too short, You need Python\"\n",
        "a"
      ],
      "execution_count": 11,
      "outputs": [
        {
          "output_type": "execute_result",
          "data": {
            "text/plain": [
              "'Life is too short, You need Python'"
            ]
          },
          "metadata": {
            "tags": []
          },
          "execution_count": 11
        }
      ]
    },
    {
      "cell_type": "code",
      "metadata": {
        "id": "QTI5x8QVHCGO",
        "colab_type": "code",
        "colab": {
          "base_uri": "https://localhost:8080/",
          "height": 36
        },
        "outputId": "8d91c958-75b1-4c99-a59e-550bd9e140b9"
      },
      "source": [
        "a[0:4]\n",
        "a[:4] \n",
        "a[:] ##맨처음부터 마지막까지"
      ],
      "execution_count": 14,
      "outputs": [
        {
          "output_type": "execute_result",
          "data": {
            "text/plain": [
              "'Life is too short, You need Python'"
            ]
          },
          "metadata": {
            "tags": []
          },
          "execution_count": 14
        }
      ]
    },
    {
      "cell_type": "code",
      "metadata": {
        "id": "epXnr9HSWeuN",
        "colab_type": "code",
        "colab": {
          "base_uri": "https://localhost:8080/",
          "height": 36
        },
        "outputId": "1a452bf3-e666-4b23-e3b4-9637d2c15fbc"
      },
      "source": [
        "# a[19:-7] ?  ##중간고사 \n",
        "a[19:-7]"
      ],
      "execution_count": 15,
      "outputs": [
        {
          "output_type": "execute_result",
          "data": {
            "text/plain": [
              "'You need'"
            ]
          },
          "metadata": {
            "tags": []
          },
          "execution_count": 15
        }
      ]
    },
    {
      "cell_type": "code",
      "metadata": {
        "id": "xbSH1XWqHo4p",
        "colab_type": "code",
        "colab": {
          "base_uri": "https://localhost:8080/",
          "height": 55
        },
        "outputId": "cdf03945-5455-4572-b283-8c3495424a2c"
      },
      "source": [
        "print(\"문자열: 슬라이싱 응용?\")\n",
        "a = \"20190909Sunny\"\n",
        "date = a[:8]\n",
        "weather = a[8:]\n",
        "date,weather"
      ],
      "execution_count": 16,
      "outputs": [
        {
          "output_type": "stream",
          "text": [
            "문자열: 슬라이싱 응용?\n"
          ],
          "name": "stdout"
        },
        {
          "output_type": "execute_result",
          "data": {
            "text/plain": [
              "('20190909', 'Sunny')"
            ]
          },
          "metadata": {
            "tags": []
          },
          "execution_count": 16
        }
      ]
    },
    {
      "cell_type": "code",
      "metadata": {
        "id": "JF_ieKatH7do",
        "colab_type": "code",
        "colab": {
          "base_uri": "https://localhost:8080/",
          "height": 36
        },
        "outputId": "5d7081b2-93a7-4309-f507-e61f88a2a220"
      },
      "source": [
        "a = \"20190917Rainy\"\n",
        "year = a[:4] #2019  \n",
        "day = a[4:8] #0917  \n",
        "weather = a[8:] #Rainy\n",
        "year,day,weather"
      ],
      "execution_count": 17,
      "outputs": [
        {
          "output_type": "execute_result",
          "data": {
            "text/plain": [
              "('2019', '0917', 'Rainy')"
            ]
          },
          "metadata": {
            "tags": []
          },
          "execution_count": 17
        }
      ]
    },
    {
      "cell_type": "code",
      "metadata": {
        "id": "_nTHjSZmIe_6",
        "colab_type": "code",
        "colab": {
          "base_uri": "https://localhost:8080/",
          "height": 232
        },
        "outputId": "c48fa1ba-5180-43d3-9e68-b40e46c700c3"
      },
      "source": [
        "# \"Pithon\"이라는 문자열을 \"Python\"으로 바꾸려면?\n",
        "a = \"Pithon\"\n",
        "print(a[1])\n",
        "a[1] = 'y'  # Error (immutable한 자료형)"
      ],
      "execution_count": 2,
      "outputs": [
        {
          "output_type": "stream",
          "text": [
            "i\n"
          ],
          "name": "stdout"
        },
        {
          "output_type": "error",
          "ename": "TypeError",
          "evalue": "ignored",
          "traceback": [
            "\u001b[0;31m---------------------------------------------------------------------------\u001b[0m",
            "\u001b[0;31mTypeError\u001b[0m                                 Traceback (most recent call last)",
            "\u001b[0;32m<ipython-input-2-d77221cee730>\u001b[0m in \u001b[0;36m<module>\u001b[0;34m()\u001b[0m\n\u001b[1;32m      1\u001b[0m \u001b[0ma\u001b[0m \u001b[0;34m=\u001b[0m \u001b[0;34m\"Pithon\"\u001b[0m\u001b[0;34m\u001b[0m\u001b[0;34m\u001b[0m\u001b[0m\n\u001b[1;32m      2\u001b[0m \u001b[0mprint\u001b[0m\u001b[0;34m(\u001b[0m\u001b[0ma\u001b[0m\u001b[0;34m[\u001b[0m\u001b[0;36m1\u001b[0m\u001b[0;34m]\u001b[0m\u001b[0;34m)\u001b[0m\u001b[0;34m\u001b[0m\u001b[0;34m\u001b[0m\u001b[0m\n\u001b[0;32m----> 3\u001b[0;31m \u001b[0ma\u001b[0m\u001b[0;34m[\u001b[0m\u001b[0;36m1\u001b[0m\u001b[0;34m]\u001b[0m \u001b[0;34m=\u001b[0m \u001b[0;34m'y'\u001b[0m  \u001b[0;31m# Error (immutable한 자료형)\u001b[0m\u001b[0;34m\u001b[0m\u001b[0;34m\u001b[0m\u001b[0m\n\u001b[0m",
            "\u001b[0;31mTypeError\u001b[0m: 'str' object does not support item assignment"
          ]
        }
      ]
    },
    {
      "cell_type": "code",
      "metadata": {
        "id": "QlhD0s_hI5T-",
        "colab_type": "code",
        "colab": {
          "base_uri": "https://localhost:8080/",
          "height": 73
        },
        "outputId": "fde8a84b-efd1-4404-f4ab-3a1ab7bb7469"
      },
      "source": [
        "#################\n",
        "a = \"Pithon\"\n",
        "print(a[:1]) #P\n",
        "print(a[2:]) #thon\n",
        "a[:1] + 'y' + a[2:]  # Python\n",
        "a\n",
        "a,a[:1], a[2:],a[:1]+'y'+ a[2:]"
      ],
      "execution_count": 21,
      "outputs": [
        {
          "output_type": "stream",
          "text": [
            "P\n",
            "thon\n"
          ],
          "name": "stdout"
        },
        {
          "output_type": "execute_result",
          "data": {
            "text/plain": [
              "('Pithon', 'P', 'thon', 'Python')"
            ]
          },
          "metadata": {
            "tags": []
          },
          "execution_count": 21
        }
      ]
    },
    {
      "cell_type": "markdown",
      "metadata": {
        "id": "sYjwZKodLj70",
        "colab_type": "text"
      },
      "source": [
        "## 문자열 포매팅과 출력"
      ]
    },
    {
      "cell_type": "code",
      "metadata": {
        "id": "0_aoWauTEjRR",
        "colab_type": "code",
        "colab": {
          "base_uri": "https://localhost:8080/",
          "height": 55
        },
        "outputId": "4c03afd1-38d6-4ea7-9f18-73c424c8a575"
      },
      "source": [
        "# ch2_03_string_formating.py\n",
        "\n",
        "print(\"문자열: 포매팅이란?\")\n",
        "# 1. 숫자 바로 대입\n",
        "\"I eat %d apples.\" % 3"
      ],
      "execution_count": 22,
      "outputs": [
        {
          "output_type": "stream",
          "text": [
            "문자열: 포매팅이란?\n"
          ],
          "name": "stdout"
        },
        {
          "output_type": "execute_result",
          "data": {
            "text/plain": [
              "'I eat 3 apples.'"
            ]
          },
          "metadata": {
            "tags": []
          },
          "execution_count": 22
        }
      ]
    },
    {
      "cell_type": "code",
      "metadata": {
        "id": "TdmJwGTSL6ar",
        "colab_type": "code",
        "colab": {
          "base_uri": "https://localhost:8080/",
          "height": 36
        },
        "outputId": "c10183cf-d0bd-4041-bd79-75f8207091a7"
      },
      "source": [
        "# 2. 문자열 바로 대입\n",
        "\"I eat %s apples.\" % \"five\""
      ],
      "execution_count": 23,
      "outputs": [
        {
          "output_type": "execute_result",
          "data": {
            "text/plain": [
              "'I eat five apples.'"
            ]
          },
          "metadata": {
            "tags": []
          },
          "execution_count": 23
        }
      ]
    },
    {
      "cell_type": "code",
      "metadata": {
        "id": "P08OuVccMOZR",
        "colab_type": "code",
        "colab": {
          "base_uri": "https://localhost:8080/",
          "height": 36
        },
        "outputId": "859ef2e0-91a3-4156-c121-1ea2c68a0a81"
      },
      "source": [
        "# 3. 숫자 값을 나타내는 변수로 대입\n",
        "number = 3\n",
        "\"I eat %d apples.\" % number"
      ],
      "execution_count": 24,
      "outputs": [
        {
          "output_type": "execute_result",
          "data": {
            "text/plain": [
              "'I eat 3 apples.'"
            ]
          },
          "metadata": {
            "tags": []
          },
          "execution_count": 24
        }
      ]
    },
    {
      "cell_type": "code",
      "metadata": {
        "id": "Q57J-PujMn39",
        "colab_type": "code",
        "colab": {
          "base_uri": "https://localhost:8080/",
          "height": 157
        },
        "outputId": "88238504-25f1-4733-dcc0-7a067c14f3e2"
      },
      "source": [
        "# 4. 2개 이상의 값 넣기\n",
        "number = 10\n",
        "day = \"three\"\n",
        "# \"I ate %d apples. so I was sick for %s days.\" % number , day   # Error\n",
        " \"I ate %d apples. so I was sick for %s days.\" % (number, day)\n",
        "# 소괄호 안에 콤마(,)로 구분하여 각각의 값을 넣어 준다."
      ],
      "execution_count": 26,
      "outputs": [
        {
          "output_type": "error",
          "ename": "IndentationError",
          "evalue": "ignored",
          "traceback": [
            "\u001b[0;36m  File \u001b[0;32m\"<ipython-input-27-eefdccdd8ecf>\"\u001b[0;36m, line \u001b[0;32m4\u001b[0m\n\u001b[0;31m    \"I ate %d apples. so I was sick for %s days.\" % (number, day)\u001b[0m\n\u001b[0m    ^\u001b[0m\n\u001b[0;31mIndentationError\u001b[0m\u001b[0;31m:\u001b[0m unexpected indent\n"
          ]
        },
        {
          "output_type": "stream",
          "text": [
            "ERROR! Session/line number was not unique in database. History logging moved to new session 67\n"
          ],
          "name": "stdout"
        }
      ]
    },
    {
      "cell_type": "code",
      "metadata": {
        "id": "Sl6NAjgHMq_B",
        "colab_type": "code",
        "colab": {
          "base_uri": "https://localhost:8080/",
          "height": 55
        },
        "outputId": "e3784f0e-5fd6-4f75-ff8b-bbcc051cbf5a"
      },
      "source": [
        "print(\"문자열: 포맷 코드\")\n",
        "# %d, %s, %c, %f, %o, %x, %%\n",
        "# %s, 묵시적 형변환\n",
        "# \"I have %s apples\" % 3\n",
        "#\"rate is %s\" % 3.234\n",
        "\n",
        "# \"Error is %d%.\" % 98\n",
        "\"Error is %d%%.\" % 98 #%를 문자로 나오게 하기위해 %%입력"
      ],
      "execution_count": 29,
      "outputs": [
        {
          "output_type": "stream",
          "text": [
            "문자열: 포맷 코드\n"
          ],
          "name": "stdout"
        },
        {
          "output_type": "execute_result",
          "data": {
            "text/plain": [
              "'Error is 98%.'"
            ]
          },
          "metadata": {
            "tags": []
          },
          "execution_count": 29
        }
      ]
    },
    {
      "cell_type": "code",
      "metadata": {
        "id": "4LqKy9otQW6C",
        "colab_type": "code",
        "colab": {
          "base_uri": "https://localhost:8080/",
          "height": 55
        },
        "outputId": "5f814a3a-a991-4be1-ba99-9d3f1fc83064"
      },
      "source": [
        "###############################################-p60\n",
        "print(\"문자열: 포맷 코드와 숫자 함께 사용하기\")\n",
        "# 1. 정렬과 공백\n",
        "# \"%-5s\" % \"hi\"\n",
        "\"%-4sjane.\" % \"hi\""
      ],
      "execution_count": 34,
      "outputs": [
        {
          "output_type": "stream",
          "text": [
            "문자열: 포맷 코드와 숫자 함께 사용하기\n"
          ],
          "name": "stdout"
        },
        {
          "output_type": "execute_result",
          "data": {
            "text/plain": [
              "'hi  jane.'"
            ]
          },
          "metadata": {
            "tags": []
          },
          "execution_count": 34
        }
      ]
    },
    {
      "cell_type": "code",
      "metadata": {
        "id": "O5KJ-19ARVHP",
        "colab_type": "code",
        "colab": {
          "base_uri": "https://localhost:8080/",
          "height": 36
        },
        "outputId": "bd08fd73-b497-4c3d-ba35-bfa7fa32e45a"
      },
      "source": [
        "# 2. 소수점 표현하기\n",
        "# \"%f\" % 3.42134234 #원래 f는 6째자리까지 출력\n",
        "\"%10.4f\" % 3.42134234 #?다시보기 "
      ],
      "execution_count": 37,
      "outputs": [
        {
          "output_type": "execute_result",
          "data": {
            "text/plain": [
              "'    3.4213'"
            ]
          },
          "metadata": {
            "tags": []
          },
          "execution_count": 37
        }
      ]
    },
    {
      "cell_type": "markdown",
      "metadata": {
        "id": "IyoUpGmESaO5",
        "colab_type": "text"
      },
      "source": [
        "### format() 함수 이용한 문자열 출력"
      ]
    },
    {
      "cell_type": "code",
      "metadata": {
        "id": "G3PUqEZAR_80",
        "colab_type": "code",
        "colab": {
          "base_uri": "https://localhost:8080/",
          "height": 55
        },
        "outputId": "ebba0ff1-6267-4403-ac12-11cf2e9dbd94"
      },
      "source": [
        "print(\"문자열: format 함수를 사용한 포매팅\")\n",
        "# 1. 숫자 바로 대입하기\n",
        "# \"I eat {0} apples\".format(3)\n",
        "\"I eat {1} {0} apples\".format(3, 4) "
      ],
      "execution_count": 40,
      "outputs": [
        {
          "output_type": "stream",
          "text": [
            "문자열: format 함수를 사용한 포매팅\n"
          ],
          "name": "stdout"
        },
        {
          "output_type": "execute_result",
          "data": {
            "text/plain": [
              "'I eat 4 3 apples'"
            ]
          },
          "metadata": {
            "tags": []
          },
          "execution_count": 40
        }
      ]
    },
    {
      "cell_type": "code",
      "metadata": {
        "id": "Uhd4G3XkSj3N",
        "colab_type": "code",
        "colab": {
          "base_uri": "https://localhost:8080/",
          "height": 36
        },
        "outputId": "c042f112-a245-4393-9a8e-3806c1eabad8"
      },
      "source": [
        "# 2. 문자열 바로 대입하기\n",
        "# \"I eat {0} apples\".format(\"five\")\n",
        "\"I eat {0} apples from {1} boxes\".format(\"five\", \"three\")"
      ],
      "execution_count": 41,
      "outputs": [
        {
          "output_type": "execute_result",
          "data": {
            "text/plain": [
              "'I eat five apples from three boxes'"
            ]
          },
          "metadata": {
            "tags": []
          },
          "execution_count": 41
        }
      ]
    },
    {
      "cell_type": "code",
      "metadata": {
        "id": "J_imviYMTTJd",
        "colab_type": "code",
        "colab": {
          "base_uri": "https://localhost:8080/",
          "height": 36
        },
        "outputId": "e9fe7754-dc2a-47f7-ed49-c0960b8ae8a9"
      },
      "source": [
        "# 3. 숫자 값을 가진 변수로 대입하기\n",
        "number = 3\n",
        "# \"I eat {0} apples\".format(number)\n",
        "\"I eat {0} apples\".format(number + 1)"
      ],
      "execution_count": 43,
      "outputs": [
        {
          "output_type": "execute_result",
          "data": {
            "text/plain": [
              "'I eat 4 apples'"
            ]
          },
          "metadata": {
            "tags": []
          },
          "execution_count": 43
        }
      ]
    },
    {
      "cell_type": "code",
      "metadata": {
        "id": "101hQD_vTqwq",
        "colab_type": "code",
        "colab": {
          "base_uri": "https://localhost:8080/",
          "height": 36
        },
        "outputId": "65000f49-4c7c-4087-d0b5-a2546dbbb4e3"
      },
      "source": [
        "# 2개 이상의 값 넣기\n",
        "number = 10\n",
        "day = \"three\"\n",
        "# \"I ate {0} apples. so I was sick for {1} days.\".format(number, day)\n",
        "# # 이름으로 넣기\n",
        "\"I ate {number} apples. so I was sick for {day} days.\".format(number=10, day=3)\n",
        "# # 인덱스와 이름을 혼용해서 넣기\n",
        "# \"I ate {0} apples. so I was sick for {day} days.\".format(10, day=3)"
      ],
      "execution_count": 46,
      "outputs": [
        {
          "output_type": "execute_result",
          "data": {
            "text/plain": [
              "'I ate 10 apples. so I was sick for 3 days.'"
            ]
          },
          "metadata": {
            "tags": []
          },
          "execution_count": 46
        }
      ]
    },
    {
      "cell_type": "code",
      "metadata": {
        "id": "Rf3tMqGEUGaL",
        "colab_type": "code",
        "colab": {
          "base_uri": "https://localhost:8080/",
          "height": 36
        },
        "outputId": "d5624722-fbd5-4e34-ff77-b035bd605c9b"
      },
      "source": [
        "#\n",
        "######################################\n",
        "# 왼쪽 정렬/ 오른쪽 정렬\n",
        "# \"{0:<10}\".format(\"hi\")\n",
        "# \"{0:>10}\".format(\"hi\")\n",
        "# # 가운데 정렬 \n",
        "# \"{0:^10}\".format(\"hi\") # 10중간 정렬\n",
        "# # 공백 채우기\n",
        "# \"{0:=!^10}\".format(\"hi\")\n",
        "# \"{0:!<10}\".format(\"hi\")\n",
        "# 도전하기\n",
        "\"{0:<3}{1:>10}\".format(\"hi\",'hcit')"
      ],
      "execution_count": 55,
      "outputs": [
        {
          "output_type": "execute_result",
          "data": {
            "text/plain": [
              "'hi       hcit'"
            ]
          },
          "metadata": {
            "tags": []
          },
          "execution_count": 55
        }
      ]
    },
    {
      "cell_type": "code",
      "metadata": {
        "id": "X2UIivwEVFtr",
        "colab_type": "code",
        "colab": {
          "base_uri": "https://localhost:8080/",
          "height": 36
        },
        "outputId": "d00ba1fb-0251-494d-fddc-0af7fcc65e25"
      },
      "source": [
        "########################################\n",
        "\n",
        "# 소수점 표현하기\n",
        "y = 3.42134234\n",
        "# \"{0:0.4f}\".format(y)\n",
        "# \"{0:10.4f}\".format(y)\n",
        "# { 또는 } 문자 표현하기\n",
        "\"{{ and }}\".format() ##{{ }} 중괄호출력하기위함."
      ],
      "execution_count": 58,
      "outputs": [
        {
          "output_type": "execute_result",
          "data": {
            "text/plain": [
              "'{ and }'"
            ]
          },
          "metadata": {
            "tags": []
          },
          "execution_count": 58
        }
      ]
    },
    {
      "cell_type": "code",
      "metadata": {
        "id": "VYqpTj_3WK1u",
        "colab_type": "code",
        "colab": {
          "base_uri": "https://localhost:8080/",
          "height": 55
        },
        "outputId": "5e78f4cb-054a-4b8e-cc01-2434c4f6f081"
      },
      "source": [
        "##########################\n",
        "##### f 문자열 포매팅 #####\n",
        "##### .format() 대체\n",
        "##########################\n",
        "print(\"문자열: f 문자열 포매팅\")\n",
        "name = \"홍길동\"\n",
        "age = 30\n",
        "f\"나의 이름은 {name}입니다. 나이는 {age}입니다.\"\n",
        "\n",
        "# age = 30\n",
        "f\"나는 내년이면 {age+1}살이 된다.\""
      ],
      "execution_count": 60,
      "outputs": [
        {
          "output_type": "stream",
          "text": [
            "문자열: f 문자열 포매팅\n"
          ],
          "name": "stdout"
        },
        {
          "output_type": "execute_result",
          "data": {
            "text/plain": [
              "'나는 내년이면 31살이 된다.'"
            ]
          },
          "metadata": {
            "tags": []
          },
          "execution_count": 60
        }
      ]
    },
    {
      "cell_type": "code",
      "metadata": {
        "id": "33AHRVovW6KW",
        "colab_type": "code",
        "colab": {
          "base_uri": "https://localhost:8080/",
          "height": 36
        },
        "outputId": "883e6d7c-401c-4cef-d856-a2e2815dc211"
      },
      "source": [
        "# 딕셔너리는 f 문자열 포매팅에서 다음과 같이 사용\n",
        "d = {\"name\": \"홍길동\", \"age\": 30}\n",
        "f'나의 이름은 {d[\"name\"]}입니다. 나이는 {d[\"age\"]}입니다.'"
      ],
      "execution_count": 61,
      "outputs": [
        {
          "output_type": "execute_result",
          "data": {
            "text/plain": [
              "'나의 이름은 홍길동입니다. 나이는 30입니다.'"
            ]
          },
          "metadata": {
            "tags": []
          },
          "execution_count": 61
        }
      ]
    },
    {
      "cell_type": "code",
      "metadata": {
        "id": "fYTevfW6X5Lh",
        "colab_type": "code",
        "colab": {
          "base_uri": "https://localhost:8080/",
          "height": 36
        },
        "outputId": "930c3460-3b2a-4cfa-d355-3010b7a94e27"
      },
      "source": [
        "# 정렬\n",
        "# f'{\"hi\":<10}'  # 왼쪽 정렬\n",
        "# f'{\"hi\":>10}'  # 오른쪽 정렬\n",
        "f'{\"hi\":^10}'  # 가운데 정렬"
      ],
      "execution_count": 64,
      "outputs": [
        {
          "output_type": "execute_result",
          "data": {
            "text/plain": [
              "'    hi    '"
            ]
          },
          "metadata": {
            "tags": []
          },
          "execution_count": 64
        }
      ]
    },
    {
      "cell_type": "code",
      "metadata": {
        "id": "v6TLFoPlX7Si",
        "colab_type": "code",
        "colab": {
          "base_uri": "https://localhost:8080/",
          "height": 36
        },
        "outputId": "3c47602f-308b-4b29-8985-3d5f20377189"
      },
      "source": [
        "# 공백 채우기\n",
        "y = 3.42134234\n",
        "# f\"{y:0.4f}\"  # 소수점 4자리까지만 표현\n",
        "# f\"{y:10.4f}\"  # 소수점 4자리까지 표현하고 총 자리수를 10으로 맞춤\n",
        "# { } 문자를 표시\n",
        "f\"{{ and }}\""
      ],
      "execution_count": 66,
      "outputs": [
        {
          "output_type": "execute_result",
          "data": {
            "text/plain": [
              "'{ and }'"
            ]
          },
          "metadata": {
            "tags": []
          },
          "execution_count": 66
        }
      ]
    },
    {
      "cell_type": "code",
      "metadata": {
        "id": "whJh66iOYPaX",
        "colab_type": "code",
        "colab": {
          "base_uri": "https://localhost:8080/",
          "height": 55
        },
        "outputId": "7ab76e69-becc-4d08-fa39-d0da67928989"
      },
      "source": [
        "##############################################\n",
        "print(\"문자열: 관련 내장 함수들\")\n",
        "# 문자 개수 세기(count)\n",
        "a = \"hobby\"\n",
        "a.count(\"b\") # a라는 문자객체에 들어있는 b의 문제객체의 개수함수"
      ],
      "execution_count": 67,
      "outputs": [
        {
          "output_type": "stream",
          "text": [
            "문자열: 관련 내장 함수들\n"
          ],
          "name": "stdout"
        },
        {
          "output_type": "execute_result",
          "data": {
            "text/plain": [
              "2"
            ]
          },
          "metadata": {
            "tags": []
          },
          "execution_count": 67
        }
      ]
    },
    {
      "cell_type": "code",
      "metadata": {
        "id": "BhNJvBDOYx5n",
        "colab_type": "code",
        "colab": {
          "base_uri": "https://localhost:8080/",
          "height": 213
        },
        "outputId": "ab8ae5a8-625b-44fd-d7cf-47eabf7ac7e9"
      },
      "source": [
        "# 위치 알려주기1(find)\n",
        "a = \"Python is the best choice\" ##문자열형 객체함수\n",
        "# a.find(\"b\") \n",
        "a.find(\"k\")  # what value? #k라는 문자가 없다면 -1출력.\n",
        "# # 위치 알려주기2(index)\n",
        "a = \"Life is  too short\"\n",
        "# a.index(\"t\")\n",
        "a.index(\"k\") ##없는 문자가 있을때는 index함수는 에러를 발생한다."
      ],
      "execution_count": 72,
      "outputs": [
        {
          "output_type": "error",
          "ename": "ValueError",
          "evalue": "ignored",
          "traceback": [
            "\u001b[0;31m---------------------------------------------------------------------------\u001b[0m",
            "\u001b[0;31mValueError\u001b[0m                                Traceback (most recent call last)",
            "\u001b[0;32m<ipython-input-72-0bb55329c329>\u001b[0m in \u001b[0;36m<module>\u001b[0;34m()\u001b[0m\n\u001b[1;32m      5\u001b[0m \u001b[0ma\u001b[0m \u001b[0;34m=\u001b[0m \u001b[0;34m\"Life is  too short\"\u001b[0m\u001b[0;34m\u001b[0m\u001b[0;34m\u001b[0m\u001b[0m\n\u001b[1;32m      6\u001b[0m \u001b[0;31m# a.index(\"t\")\u001b[0m\u001b[0;34m\u001b[0m\u001b[0;34m\u001b[0m\u001b[0;34m\u001b[0m\u001b[0m\n\u001b[0;32m----> 7\u001b[0;31m \u001b[0ma\u001b[0m\u001b[0;34m.\u001b[0m\u001b[0mindex\u001b[0m\u001b[0;34m(\u001b[0m\u001b[0;34m\"k\"\u001b[0m\u001b[0;34m)\u001b[0m \u001b[0;31m##없는 문자가 있을때는 index함수는 에러를 발생한다.\u001b[0m\u001b[0;34m\u001b[0m\u001b[0;34m\u001b[0m\u001b[0m\n\u001b[0m",
            "\u001b[0;31mValueError\u001b[0m: substring not found"
          ]
        }
      ]
    },
    {
      "cell_type": "code",
      "metadata": {
        "id": "THSr6Q4GZAvi",
        "colab_type": "code",
        "colab": {
          "base_uri": "https://localhost:8080/",
          "height": 36
        },
        "outputId": "09efce55-6c6b-433d-b508-8518972f10b1"
      },
      "source": [
        "# 문자열 삽입(join)\n",
        "# \",\".join(\"abcd\") #,(콤마)도 문자열이다.\n",
        "\",\".join([\"a\", \"b\", \"c\", \"d\"]) #리스트구조사용([]구조)"
      ],
      "execution_count": 74,
      "outputs": [
        {
          "output_type": "execute_result",
          "data": {
            "text/plain": [
              "'a,b,c,d'"
            ]
          },
          "metadata": {
            "tags": []
          },
          "execution_count": 74
        }
      ]
    },
    {
      "cell_type": "code",
      "metadata": {
        "id": "t9DBbtDaZ1ML",
        "colab_type": "code",
        "colab": {
          "base_uri": "https://localhost:8080/",
          "height": 36
        },
        "outputId": "f8f0f2d5-d1e6-4cc2-feb5-c082c533a316"
      },
      "source": [
        "# 소문자를 대문자로 바꾸기(upper)\n",
        "# a = \"hi\"\n",
        "# a.upper() \n",
        "# # 대문자를 소문자로 바꾸기(lower)\n",
        "a = \"IoT\"\n",
        "a.lower()"
      ],
      "execution_count": 76,
      "outputs": [
        {
          "output_type": "execute_result",
          "data": {
            "text/plain": [
              "'iot'"
            ]
          },
          "metadata": {
            "tags": []
          },
          "execution_count": 76
        }
      ]
    },
    {
      "cell_type": "code",
      "metadata": {
        "id": "JBfzbOzDaILZ",
        "colab_type": "code",
        "colab": {
          "base_uri": "https://localhost:8080/",
          "height": 36
        },
        "outputId": "1e8d885a-3c56-4a15-9593-44c918e835e4"
      },
      "source": [
        "##중요~~\n",
        "# 왼쪽 공백 지우기(lstrip) ##strip(알짜만남기고없앤다)\n",
        "a = \" hi \"\n",
        "# a.lstrip()\n",
        "# 오른쪽 공백 지우기(rstrip)\n",
        "a.rstrip()\n",
        "# 양쪽 공백 지우기(strip)\n",
        "# a.strip()"
      ],
      "execution_count": 78,
      "outputs": [
        {
          "output_type": "execute_result",
          "data": {
            "text/plain": [
              "' hi'"
            ]
          },
          "metadata": {
            "tags": []
          },
          "execution_count": 78
        }
      ]
    },
    {
      "cell_type": "code",
      "metadata": {
        "id": "q_UwNIKhaa6m",
        "colab_type": "code",
        "colab": {
          "base_uri": "https://localhost:8080/",
          "height": 36
        },
        "outputId": "0dccefb6-4a35-4f03-8609-e9035223f393"
      },
      "source": [
        "# 문자열 바꾸기(replace)\n",
        "a = \"Life is too short\"\n",
        "a.replace(\"Life\", \"Your leg\")"
      ],
      "execution_count": 79,
      "outputs": [
        {
          "output_type": "execute_result",
          "data": {
            "text/plain": [
              "'Your leg is too short'"
            ]
          },
          "metadata": {
            "tags": []
          },
          "execution_count": 79
        }
      ]
    },
    {
      "cell_type": "code",
      "metadata": {
        "id": "z13eb9O1awBE",
        "colab_type": "code",
        "colab": {
          "base_uri": "https://localhost:8080/",
          "height": 36
        },
        "outputId": "e4591498-5849-4730-a321-f168ed102f46"
      },
      "source": [
        "##중요\n",
        "# 문자열 나누기(split) -> 리스트([])로 변환하여 반환\n",
        "a = \"Life is too short\" ##공백으로 나눈 문자열\n",
        "a.split()\n",
        "# b = \"a:b:c:d\"\n",
        "# b.split(\":\")"
      ],
      "execution_count": 80,
      "outputs": [
        {
          "output_type": "execute_result",
          "data": {
            "text/plain": [
              "['Life', 'is', 'too', 'short']"
            ]
          },
          "metadata": {
            "tags": []
          },
          "execution_count": 80
        }
      ]
    },
    {
      "cell_type": "code",
      "metadata": {
        "id": "qY4SxnGIa33Y",
        "colab_type": "code",
        "colab": {
          "base_uri": "https://localhost:8080/",
          "height": 36
        },
        "outputId": "70a79df5-e513-4f48-b5f9-2e05212a57a5"
      },
      "source": [
        "#### 도전하기 ##### 중간고사 5개!!\n",
        "# format 함수 또는 f 문자열 포매팅을 이용해서 '!!!python!!!' 문자열을 출력해보시오.\n",
        "\"{0:!^12}\".format(\"python\")\n",
        "f'{\"python\":!^12}'\n"
      ],
      "execution_count": 1,
      "outputs": [
        {
          "output_type": "execute_result",
          "data": {
            "text/plain": [
              "'!!!python!!!'"
            ]
          },
          "metadata": {
            "tags": []
          },
          "execution_count": 1
        }
      ]
    }
  ]
}